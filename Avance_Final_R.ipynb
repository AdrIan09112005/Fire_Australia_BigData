{
 "cells": [
  {
   "cell_type": "markdown",
   "id": "70654e7f-7c32-4b3e-b5a6-4cdd394ae10e",
   "metadata": {},
   "source": [
    "# AVANCE 1 EVIDENCIA 2"
   ]
  },
  {
   "cell_type": "markdown",
   "id": "938cd884-3ac5-4068-890e-fdd5800aa775",
   "metadata": {},
   "source": [
    "# Fire Archive M6 96619"
   ]
  },
  {
   "cell_type": "code",
   "execution_count": null,
   "id": "81e9d51a-e5c5-4b4f-bc95-6a2ade0b444b",
   "metadata": {},
   "outputs": [],
   "source": [
    "# Instalar paquetes necesarios (solo si no los tienes)\n",
    "install.packages(\"ggplot2\")\n",
    "install.packages(\"gridExtra\")\n",
    "\n",
    "# Cargar librerías\n",
    "library(ggplot2)\n",
    "library(gridExtra)\n"
   ]
  },
  {
   "cell_type": "markdown",
   "id": "3cc440df-7028-4958-b33b-503d3578655c",
   "metadata": {},
   "source": [
    "### Se carga el archivo CSV"
   ]
  },
  {
   "cell_type": "code",
   "execution_count": 68,
   "id": "e7598014-1bdc-40e2-a20d-b2e9f9514ed1",
   "metadata": {},
   "outputs": [],
   "source": [
    "fire_archive_M6_96619 <- read.csv(\"C:/Users/alans/OneDrive/Documentos/Universidad_TecMilenio/PROFESIONAL/4to.SEMESTRE/BigData_Códigos/Evidencia_1/FIRE_AUSTRALIA/fire_archive_M6_96619.csv\")"
   ]
  },
  {
   "cell_type": "markdown",
   "id": "48a81752-8336-4f3a-9988-0ab78b5fbc27",
   "metadata": {},
   "source": [
    "### Visualizador Rapido de las primeras del conjunto de datos"
   ]
  },
  {
   "cell_type": "code",
   "execution_count": 14,
   "id": "a7ae1eb8-132d-4a61-9bce-ccdea85642f9",
   "metadata": {
    "collapsed": true,
    "jupyter": {
     "outputs_hidden": true
    },
    "scrolled": true
   },
   "outputs": [
    {
     "data": {
      "text/html": [
       "<table>\n",
       "<thead><tr><th scope=col>latitude</th><th scope=col>longitude</th><th scope=col>brightness</th><th scope=col>scan</th><th scope=col>track</th><th scope=col>acq_date</th><th scope=col>acq_time</th><th scope=col>satellite</th><th scope=col>instrument</th><th scope=col>confidence</th><th scope=col>version</th><th scope=col>bright_t31</th><th scope=col>frp</th><th scope=col>daynight</th><th scope=col>type</th></tr></thead>\n",
       "<tbody>\n",
       "\t<tr><td>-11.8070  </td><td>142.0583  </td><td>313.0     </td><td>1.0       </td><td>1.0       </td><td>2019-08-01</td><td>56        </td><td>Terra     </td><td>MODIS     </td><td>48        </td><td>6.3       </td><td>297.3     </td><td> 6.6      </td><td>D         </td><td>0         </td></tr>\n",
       "\t<tr><td>-11.7924  </td><td>142.0850  </td><td>319.3     </td><td>1.0       </td><td>1.0       </td><td>2019-08-01</td><td>56        </td><td>Terra     </td><td>MODIS     </td><td>71        </td><td>6.3       </td><td>297.3     </td><td>11.3      </td><td>D         </td><td>0         </td></tr>\n",
       "\t<tr><td>-12.8398  </td><td>132.8744  </td><td>311.6     </td><td>3.1       </td><td>1.7       </td><td>2019-08-01</td><td>57        </td><td>Terra     </td><td>MODIS     </td><td>42        </td><td>6.3       </td><td>298.7     </td><td>23.1      </td><td>D         </td><td>0         </td></tr>\n",
       "\t<tr><td>-14.4306  </td><td>143.3035  </td><td>310.1     </td><td>1.1       </td><td>1.1       </td><td>2019-08-01</td><td>57        </td><td>Terra     </td><td>MODIS     </td><td>33        </td><td>6.3       </td><td>296.1     </td><td> 6.5      </td><td>D         </td><td>0         </td></tr>\n",
       "\t<tr><td>-12.4953  </td><td>131.4897  </td><td>310.3     </td><td>4.0       </td><td>1.9       </td><td>2019-08-01</td><td>57        </td><td>Terra     </td><td>MODIS     </td><td>36        </td><td>6.3       </td><td>298.8     </td><td>27.6      </td><td>D         </td><td>0         </td></tr>\n",
       "\t<tr><td>-12.6191  </td><td>142.1998  </td><td>314.8     </td><td>1.0       </td><td>1.0       </td><td>2019-08-01</td><td>57        </td><td>Terra     </td><td>MODIS     </td><td>68        </td><td>6.3       </td><td>297.6     </td><td> 9.3      </td><td>D         </td><td>0         </td></tr>\n",
       "</tbody>\n",
       "</table>\n"
      ],
      "text/latex": [
       "\\begin{tabular}{r|lllllllllllllll}\n",
       " latitude & longitude & brightness & scan & track & acq\\_date & acq\\_time & satellite & instrument & confidence & version & bright\\_t31 & frp & daynight & type\\\\\n",
       "\\hline\n",
       "\t -11.8070   & 142.0583   & 313.0      & 1.0        & 1.0        & 2019-08-01 & 56         & Terra      & MODIS      & 48         & 6.3        & 297.3      &  6.6       & D          & 0         \\\\\n",
       "\t -11.7924   & 142.0850   & 319.3      & 1.0        & 1.0        & 2019-08-01 & 56         & Terra      & MODIS      & 71         & 6.3        & 297.3      & 11.3       & D          & 0         \\\\\n",
       "\t -12.8398   & 132.8744   & 311.6      & 3.1        & 1.7        & 2019-08-01 & 57         & Terra      & MODIS      & 42         & 6.3        & 298.7      & 23.1       & D          & 0         \\\\\n",
       "\t -14.4306   & 143.3035   & 310.1      & 1.1        & 1.1        & 2019-08-01 & 57         & Terra      & MODIS      & 33         & 6.3        & 296.1      &  6.5       & D          & 0         \\\\\n",
       "\t -12.4953   & 131.4897   & 310.3      & 4.0        & 1.9        & 2019-08-01 & 57         & Terra      & MODIS      & 36         & 6.3        & 298.8      & 27.6       & D          & 0         \\\\\n",
       "\t -12.6191   & 142.1998   & 314.8      & 1.0        & 1.0        & 2019-08-01 & 57         & Terra      & MODIS      & 68         & 6.3        & 297.6      &  9.3       & D          & 0         \\\\\n",
       "\\end{tabular}\n"
      ],
      "text/markdown": [
       "\n",
       "| latitude | longitude | brightness | scan | track | acq_date | acq_time | satellite | instrument | confidence | version | bright_t31 | frp | daynight | type |\n",
       "|---|---|---|---|---|---|---|---|---|---|---|---|---|---|---|\n",
       "| -11.8070   | 142.0583   | 313.0      | 1.0        | 1.0        | 2019-08-01 | 56         | Terra      | MODIS      | 48         | 6.3        | 297.3      |  6.6       | D          | 0          |\n",
       "| -11.7924   | 142.0850   | 319.3      | 1.0        | 1.0        | 2019-08-01 | 56         | Terra      | MODIS      | 71         | 6.3        | 297.3      | 11.3       | D          | 0          |\n",
       "| -12.8398   | 132.8744   | 311.6      | 3.1        | 1.7        | 2019-08-01 | 57         | Terra      | MODIS      | 42         | 6.3        | 298.7      | 23.1       | D          | 0          |\n",
       "| -14.4306   | 143.3035   | 310.1      | 1.1        | 1.1        | 2019-08-01 | 57         | Terra      | MODIS      | 33         | 6.3        | 296.1      |  6.5       | D          | 0          |\n",
       "| -12.4953   | 131.4897   | 310.3      | 4.0        | 1.9        | 2019-08-01 | 57         | Terra      | MODIS      | 36         | 6.3        | 298.8      | 27.6       | D          | 0          |\n",
       "| -12.6191   | 142.1998   | 314.8      | 1.0        | 1.0        | 2019-08-01 | 57         | Terra      | MODIS      | 68         | 6.3        | 297.6      |  9.3       | D          | 0          |\n",
       "\n"
      ],
      "text/plain": [
       "  latitude longitude brightness scan track acq_date   acq_time satellite\n",
       "1 -11.8070 142.0583  313.0      1.0  1.0   2019-08-01 56       Terra    \n",
       "2 -11.7924 142.0850  319.3      1.0  1.0   2019-08-01 56       Terra    \n",
       "3 -12.8398 132.8744  311.6      3.1  1.7   2019-08-01 57       Terra    \n",
       "4 -14.4306 143.3035  310.1      1.1  1.1   2019-08-01 57       Terra    \n",
       "5 -12.4953 131.4897  310.3      4.0  1.9   2019-08-01 57       Terra    \n",
       "6 -12.6191 142.1998  314.8      1.0  1.0   2019-08-01 57       Terra    \n",
       "  instrument confidence version bright_t31 frp  daynight type\n",
       "1 MODIS      48         6.3     297.3       6.6 D        0   \n",
       "2 MODIS      71         6.3     297.3      11.3 D        0   \n",
       "3 MODIS      42         6.3     298.7      23.1 D        0   \n",
       "4 MODIS      33         6.3     296.1       6.5 D        0   \n",
       "5 MODIS      36         6.3     298.8      27.6 D        0   \n",
       "6 MODIS      68         6.3     297.6       9.3 D        0   "
      ]
     },
     "metadata": {},
     "output_type": "display_data"
    }
   ],
   "source": [
    "# Mostrar las primeras filas del conjunto de datos.\n",
    "head(fire_archive_M6_96619)"
   ]
  },
  {
   "cell_type": "markdown",
   "id": "e99b2730-4743-43a8-b590-796801fa006b",
   "metadata": {},
   "source": [
    "### Estructura del Conjunto de Datos"
   ]
  },
  {
   "cell_type": "code",
   "execution_count": 8,
   "id": "1ece085e-9d36-42fd-b950-eb4f4a6b50a7",
   "metadata": {
    "collapsed": true,
    "jupyter": {
     "outputs_hidden": true
    },
    "scrolled": true
   },
   "outputs": [
    {
     "name": "stdout",
     "output_type": "stream",
     "text": [
      "'data.frame':\t36011 obs. of  15 variables:\n",
      " $ latitude  : num  -11.8 -11.8 -12.8 -14.4 -12.5 ...\n",
      " $ longitude : num  142 142 133 143 131 ...\n",
      " $ brightness: num  313 319 312 310 310 ...\n",
      " $ scan      : num  1 1 3.1 1.1 4 1 1.2 1.2 1 3.4 ...\n",
      " $ track     : num  1 1 1.7 1.1 1.9 1 1.1 1.1 1 1.7 ...\n",
      " $ acq_date  : Factor w/ 61 levels \"2019-08-01\",\"2019-08-02\",..: 1 1 1 1 1 1 1 1 1 1 ...\n",
      " $ acq_time  : int  56 56 57 57 57 57 57 57 57 57 ...\n",
      " $ satellite : Factor w/ 2 levels \"Aqua\",\"Terra\": 2 2 2 2 2 2 2 2 2 2 ...\n",
      " $ instrument: Factor w/ 1 level \"MODIS\": 1 1 1 1 1 1 1 1 1 1 ...\n",
      " $ confidence: int  48 71 42 33 36 68 24 79 72 40 ...\n",
      " $ version   : num  6.3 6.3 6.3 6.3 6.3 6.3 6.3 6.3 6.3 6.3 ...\n",
      " $ bright_t31: num  297 297 299 296 299 ...\n",
      " $ frp       : num  6.6 11.3 23.1 6.5 27.6 9.3 5.9 20.4 9.9 27.3 ...\n",
      " $ daynight  : Factor w/ 2 levels \"D\",\"N\": 1 1 1 1 1 1 1 1 1 1 ...\n",
      " $ type      : int  0 0 0 0 0 0 0 0 0 0 ...\n"
     ]
    }
   ],
   "source": [
    "# Mostrar la estructura del conjunto de datos (tipos columnas, etc)\n",
    "str(fire_archive_M6_96619)"
   ]
  },
  {
   "cell_type": "markdown",
   "id": "8a91377e-1301-4cb5-8129-24f365cd5b6c",
   "metadata": {},
   "source": [
    "### Estadistica de las variables númericos"
   ]
  },
  {
   "cell_type": "code",
   "execution_count": 9,
   "id": "81084167-6e91-4146-8d18-bdd6a1c5d4f3",
   "metadata": {
    "collapsed": true,
    "jupyter": {
     "outputs_hidden": true
    }
   },
   "outputs": [
    {
     "data": {
      "text/plain": [
       "    latitude        longitude       brightness         scan      \n",
       " Min.   :-42.76   Min.   :114.1   Min.   :300.0   Min.   :1.000  \n",
       " 1st Qu.:-26.37   1st Qu.:131.1   1st Qu.:316.5   1st Qu.:1.100  \n",
       " Median :-15.71   Median :136.7   Median :326.4   Median :1.300  \n",
       " Mean   :-19.10   Mean   :138.9   Mean   :328.8   Mean   :1.621  \n",
       " 3rd Qu.:-13.34   3rd Qu.:147.5   3rd Qu.:336.7   3rd Qu.:1.900  \n",
       " Max.   :-10.07   Max.   :153.5   Max.   :504.4   Max.   :4.800  \n",
       "                                                                 \n",
       "     track             acq_date        acq_time    satellite     instrument   \n",
       " Min.   :1.000   2019-09-10: 1317   Min.   :   0   Aqua :20541   MODIS:36011  \n",
       " 1st Qu.:1.000   2019-09-09: 1230   1st Qu.: 205   Terra:15470                \n",
       " Median :1.100   2019-09-06: 1200   Median : 424                              \n",
       " Mean   :1.215   2019-09-08: 1200   Mean   : 600                              \n",
       " 3rd Qu.:1.300   2019-09-07: 1075   3rd Qu.: 600                              \n",
       " Max.   :2.000   2019-08-11:  988   Max.   :2359                              \n",
       "                 (Other)   :29001                                             \n",
       "   confidence        version      bright_t31         frp          daynight \n",
       " Min.   :  0.00   Min.   :6.3   Min.   :267.0   Min.   :   0.00   D:28203  \n",
       " 1st Qu.: 52.00   1st Qu.:6.3   1st Qu.:293.6   1st Qu.:  13.80   N: 7808  \n",
       " Median : 70.00   Median :6.3   Median :302.4   Median :  25.80            \n",
       " Mean   : 67.55   Mean   :6.3   Mean   :301.3   Mean   :  51.13            \n",
       " 3rd Qu.: 86.00   3rd Qu.:6.3   3rd Qu.:308.6   3rd Qu.:  52.80            \n",
       " Max.   :100.00   Max.   :6.3   Max.   :400.1   Max.   :3679.50            \n",
       "                                                                           \n",
       "      type        \n",
       " Min.   :0.00000  \n",
       " 1st Qu.:0.00000  \n",
       " Median :0.00000  \n",
       " Mean   :0.01944  \n",
       " 3rd Qu.:0.00000  \n",
       " Max.   :3.00000  \n",
       "                  "
      ]
     },
     "metadata": {},
     "output_type": "display_data"
    }
   ],
   "source": [
    "# Resumen estadistico de las variables númericas\n",
    "summary(fire_archive_M6_96619)"
   ]
  },
  {
   "cell_type": "markdown",
   "id": "456d8e8d-80ed-49e5-8e46-87cd7b4aa9b6",
   "metadata": {},
   "source": [
    "### Resumen de la Tabla Fire Archive M6 96619"
   ]
  },
  {
   "cell_type": "code",
   "execution_count": 10,
   "id": "a3357840-2c81-4489-a16f-fcf8620caa24",
   "metadata": {
    "collapsed": true,
    "jupyter": {
     "outputs_hidden": true
    },
    "scrolled": true
   },
   "outputs": [
    {
     "data": {
      "text/html": [
       "<table>\n",
       "<thead><tr><th scope=col>latitude</th><th scope=col>longitude</th><th scope=col>brightness</th><th scope=col>scan</th><th scope=col>track</th><th scope=col>acq_date</th><th scope=col>acq_time</th><th scope=col>satellite</th><th scope=col>instrument</th><th scope=col>confidence</th><th scope=col>version</th><th scope=col>bright_t31</th><th scope=col>frp</th><th scope=col>daynight</th><th scope=col>type</th></tr></thead>\n",
       "<tbody>\n",
       "\t<tr><td>-11.8070  </td><td>142.0583  </td><td>313.0     </td><td>1.0       </td><td>1.0       </td><td>2019-08-01</td><td>56        </td><td>Terra     </td><td>MODIS     </td><td>48        </td><td>6.3       </td><td>297.3     </td><td> 6.6      </td><td>D         </td><td>0         </td></tr>\n",
       "\t<tr><td>-11.7924  </td><td>142.0850  </td><td>319.3     </td><td>1.0       </td><td>1.0       </td><td>2019-08-01</td><td>56        </td><td>Terra     </td><td>MODIS     </td><td>71        </td><td>6.3       </td><td>297.3     </td><td>11.3      </td><td>D         </td><td>0         </td></tr>\n",
       "\t<tr><td>-12.8398  </td><td>132.8744  </td><td>311.6     </td><td>3.1       </td><td>1.7       </td><td>2019-08-01</td><td>57        </td><td>Terra     </td><td>MODIS     </td><td>42        </td><td>6.3       </td><td>298.7     </td><td>23.1      </td><td>D         </td><td>0         </td></tr>\n",
       "\t<tr><td>-14.4306  </td><td>143.3035  </td><td>310.1     </td><td>1.1       </td><td>1.1       </td><td>2019-08-01</td><td>57        </td><td>Terra     </td><td>MODIS     </td><td>33        </td><td>6.3       </td><td>296.1     </td><td> 6.5      </td><td>D         </td><td>0         </td></tr>\n",
       "\t<tr><td>-12.4953  </td><td>131.4897  </td><td>310.3     </td><td>4.0       </td><td>1.9       </td><td>2019-08-01</td><td>57        </td><td>Terra     </td><td>MODIS     </td><td>36        </td><td>6.3       </td><td>298.8     </td><td>27.6      </td><td>D         </td><td>0         </td></tr>\n",
       "\t<tr><td>-12.6191  </td><td>142.1998  </td><td>314.8     </td><td>1.0       </td><td>1.0       </td><td>2019-08-01</td><td>57        </td><td>Terra     </td><td>MODIS     </td><td>68        </td><td>6.3       </td><td>297.6     </td><td> 9.3      </td><td>D         </td><td>0         </td></tr>\n",
       "\t<tr><td>-14.3655  </td><td>143.5682  </td><td>305.4     </td><td>1.2       </td><td>1.1       </td><td>2019-08-01</td><td>57        </td><td>Terra     </td><td>MODIS     </td><td>24        </td><td>6.3       </td><td>283.9     </td><td> 5.9      </td><td>D         </td><td>0         </td></tr>\n",
       "\t<tr><td>-14.3195  </td><td>143.5198  </td><td>322.9     </td><td>1.2       </td><td>1.1       </td><td>2019-08-01</td><td>57        </td><td>Terra     </td><td>MODIS     </td><td>79        </td><td>6.3       </td><td>290.9     </td><td>20.4      </td><td>D         </td><td>0         </td></tr>\n",
       "\t<tr><td>-13.1654  </td><td>141.9715  </td><td>317.2     </td><td>1.0       </td><td>1.0       </td><td>2019-08-01</td><td>57        </td><td>Terra     </td><td>MODIS     </td><td>72        </td><td>6.3       </td><td>300.0     </td><td> 9.9      </td><td>D         </td><td>0         </td></tr>\n",
       "\t<tr><td>-11.5473  </td><td>132.6796  </td><td>311.5     </td><td>3.4       </td><td>1.7       </td><td>2019-08-01</td><td>57        </td><td>Terra     </td><td>MODIS     </td><td>40        </td><td>6.3       </td><td>298.7     </td><td>27.3      </td><td>D         </td><td>0         </td></tr>\n",
       "\t<tr><td>-11.5417  </td><td>132.6490  </td><td>312.2     </td><td>3.4       </td><td>1.7       </td><td>2019-08-01</td><td>57        </td><td>Terra     </td><td>MODIS     </td><td>42        </td><td>6.3       </td><td>298.0     </td><td>31.4      </td><td>D         </td><td>0         </td></tr>\n",
       "\t<tr><td>-11.5471  </td><td>132.6538  </td><td>316.0     </td><td>3.4       </td><td>1.7       </td><td>2019-08-01</td><td>57        </td><td>Terra     </td><td>MODIS     </td><td>65        </td><td>6.3       </td><td>298.0     </td><td>52.7      </td><td>D         </td><td>0         </td></tr>\n",
       "\t<tr><td>-12.7626  </td><td>142.1759  </td><td>335.2     </td><td>1.0       </td><td>1.0       </td><td>2019-08-01</td><td>57        </td><td>Terra     </td><td>MODIS     </td><td>88        </td><td>6.3       </td><td>301.7     </td><td>30.1      </td><td>D         </td><td>0         </td></tr>\n",
       "\t<tr><td>-12.7050  </td><td>133.9070  </td><td>311.7     </td><td>2.6       </td><td>1.5       </td><td>2019-08-01</td><td>57        </td><td>Terra     </td><td>MODIS     </td><td>57        </td><td>6.3       </td><td>298.6     </td><td>20.6      </td><td>D         </td><td>0         </td></tr>\n",
       "\t<tr><td>-13.1092  </td><td>134.1848  </td><td>315.9     </td><td>2.4       </td><td>1.5       </td><td>2019-08-01</td><td>57        </td><td>Terra     </td><td>MODIS     </td><td>67        </td><td>6.3       </td><td>298.4     </td><td>29.5      </td><td>D         </td><td>0         </td></tr>\n",
       "\t<tr><td>-14.0539  </td><td>142.3327  </td><td>316.0     </td><td>1.0       </td><td>1.0       </td><td>2019-08-01</td><td>57        </td><td>Terra     </td><td>MODIS     </td><td>52        </td><td>6.3       </td><td>298.8     </td><td> 7.8      </td><td>D         </td><td>0         </td></tr>\n",
       "\t<tr><td>-12.6996  </td><td>133.9138  </td><td>310.9     </td><td>2.6       </td><td>1.5       </td><td>2019-08-01</td><td>57        </td><td>Terra     </td><td>MODIS     </td><td>55        </td><td>6.3       </td><td>298.7     </td><td>17.6      </td><td>D         </td><td>0         </td></tr>\n",
       "\t<tr><td>-12.7499  </td><td>134.5251  </td><td>314.8     </td><td>2.3       </td><td>1.5       </td><td>2019-08-01</td><td>57        </td><td>Terra     </td><td>MODIS     </td><td>66        </td><td>6.3       </td><td>299.9     </td><td>22.8      </td><td>D         </td><td>0         </td></tr>\n",
       "\t<tr><td>-12.7141  </td><td>134.3991  </td><td>313.9     </td><td>2.4       </td><td>1.5       </td><td>2019-08-01</td><td>57        </td><td>Terra     </td><td>MODIS     </td><td>64        </td><td>6.3       </td><td>299.2     </td><td>23.0      </td><td>D         </td><td>0         </td></tr>\n",
       "\t<tr><td>-12.7061  </td><td>134.4077  </td><td>314.0     </td><td>2.4       </td><td>1.5       </td><td>2019-08-01</td><td>57        </td><td>Terra     </td><td>MODIS     </td><td>64        </td><td>6.3       </td><td>300.0     </td><td>21.2      </td><td>D         </td><td>0         </td></tr>\n",
       "\t<tr><td>-13.8656  </td><td>141.9771  </td><td>315.7     </td><td>1.0       </td><td>1.0       </td><td>2019-08-01</td><td>57        </td><td>Terra     </td><td>MODIS     </td><td>69        </td><td>6.3       </td><td>300.8     </td><td> 6.7      </td><td>D         </td><td>0         </td></tr>\n",
       "\t<tr><td>-12.6491  </td><td>134.3953  </td><td>324.9     </td><td>2.4       </td><td>1.5       </td><td>2019-08-01</td><td>57        </td><td>Terra     </td><td>MODIS     </td><td>79        </td><td>6.3       </td><td>300.6     </td><td>57.7      </td><td>D         </td><td>0         </td></tr>\n",
       "\t<tr><td>-13.1015  </td><td>134.1926  </td><td>311.3     </td><td>2.4       </td><td>1.5       </td><td>2019-08-01</td><td>57        </td><td>Terra     </td><td>MODIS     </td><td>55        </td><td>6.3       </td><td>298.1     </td><td>17.2      </td><td>D         </td><td>0         </td></tr>\n",
       "\t<tr><td>-12.6703  </td><td>142.1102  </td><td>322.4     </td><td>1.0       </td><td>1.0       </td><td>2019-08-01</td><td>57        </td><td>Terra     </td><td>MODIS     </td><td>78        </td><td>6.3       </td><td>301.0     </td><td>13.7      </td><td>D         </td><td>0         </td></tr>\n",
       "\t<tr><td>-13.3042  </td><td>142.0400  </td><td>318.6     </td><td>1.0       </td><td>1.0       </td><td>2019-08-01</td><td>57        </td><td>Terra     </td><td>MODIS     </td><td>76        </td><td>6.3       </td><td>299.0     </td><td>11.6      </td><td>D         </td><td>0         </td></tr>\n",
       "\t<tr><td>-13.2236  </td><td>141.9914  </td><td>325.3     </td><td>1.0       </td><td>1.0       </td><td>2019-08-01</td><td>57        </td><td>Terra     </td><td>MODIS     </td><td>69        </td><td>6.3       </td><td>300.4     </td><td>16.2      </td><td>D         </td><td>0         </td></tr>\n",
       "\t<tr><td>-13.2821  </td><td>142.4617  </td><td>306.5     </td><td>1.0       </td><td>1.0       </td><td>2019-08-01</td><td>57        </td><td>Terra     </td><td>MODIS     </td><td>19        </td><td>6.3       </td><td>280.3     </td><td> 5.4      </td><td>D         </td><td>0         </td></tr>\n",
       "\t<tr><td>-13.2159  </td><td>142.0020  </td><td>325.5     </td><td>1.0       </td><td>1.0       </td><td>2019-08-01</td><td>57        </td><td>Terra     </td><td>MODIS     </td><td>52        </td><td>6.3       </td><td>297.3     </td><td>17.6      </td><td>D         </td><td>0         </td></tr>\n",
       "\t<tr><td>-13.2537  </td><td>142.5242  </td><td>310.0     </td><td>1.0       </td><td>1.0       </td><td>2019-08-01</td><td>57        </td><td>Terra     </td><td>MODIS     </td><td>37        </td><td>6.3       </td><td>291.3     </td><td> 4.3      </td><td>D         </td><td>0         </td></tr>\n",
       "\t<tr><td>-12.4513  </td><td>141.8071  </td><td>320.2     </td><td>1.0       </td><td>1.0       </td><td>2019-08-01</td><td>57        </td><td>Terra     </td><td>MODIS     </td><td>68        </td><td>6.3       </td><td>296.0     </td><td>13.0      </td><td>D         </td><td>0         </td></tr>\n",
       "\t<tr><td>...</td><td>...</td><td>...</td><td>...</td><td>...</td><td>...</td><td>...</td><td>...</td><td>...</td><td>...</td><td>...</td><td>...</td><td>...</td><td>...</td><td>...</td></tr>\n",
       "\t<tr><td>-14.9333  </td><td>133.9170  </td><td>313.2     </td><td>1.1       </td><td>1.1       </td><td>2019-09-30</td><td>1640      </td><td>Aqua      </td><td>MODIS     </td><td> 67       </td><td>6.3       </td><td>296.6     </td><td> 11.1     </td><td>N         </td><td>0         </td></tr>\n",
       "\t<tr><td>-14.9252  </td><td>133.9291  </td><td>306.1     </td><td>1.1       </td><td>1.1       </td><td>2019-09-30</td><td>1640      </td><td>Aqua      </td><td>MODIS     </td><td> 28       </td><td>6.3       </td><td>296.0     </td><td>  5.8     </td><td>N         </td><td>0         </td></tr>\n",
       "\t<tr><td>-14.9223  </td><td>133.9076  </td><td>308.6     </td><td>1.1       </td><td>1.1       </td><td>2019-09-30</td><td>1640      </td><td>Aqua      </td><td>MODIS     </td><td> 66       </td><td>6.3       </td><td>297.1     </td><td>  7.8     </td><td>N         </td><td>0         </td></tr>\n",
       "\t<tr><td>-14.0827  </td><td>130.0241  </td><td>310.3     </td><td>1.1       </td><td>1.0       </td><td>2019-09-30</td><td>1640      </td><td>Aqua      </td><td>MODIS     </td><td> 80       </td><td>6.3       </td><td>292.7     </td><td> 11.4     </td><td>N         </td><td>0         </td></tr>\n",
       "\t<tr><td>-14.1787  </td><td>132.8351  </td><td>310.7     </td><td>1.0       </td><td>1.0       </td><td>2019-09-30</td><td>1640      </td><td>Aqua      </td><td>MODIS     </td><td> 81       </td><td>6.3       </td><td>295.9     </td><td>  8.8     </td><td>N         </td><td>0         </td></tr>\n",
       "\t<tr><td>-13.9292  </td><td>132.9576  </td><td>317.4     </td><td>1.0       </td><td>1.0       </td><td>2019-09-30</td><td>1640      </td><td>Aqua      </td><td>MODIS     </td><td> 95       </td><td>6.3       </td><td>297.0     </td><td> 13.6     </td><td>N         </td><td>0         </td></tr>\n",
       "\t<tr><td>-13.9278  </td><td>132.9481  </td><td>315.3     </td><td>1.0       </td><td>1.0       </td><td>2019-09-30</td><td>1640      </td><td>Aqua      </td><td>MODIS     </td><td> 91       </td><td>6.3       </td><td>297.9     </td><td> 11.6     </td><td>N         </td><td>0         </td></tr>\n",
       "\t<tr><td>-13.9200  </td><td>132.9590  </td><td>322.0     </td><td>1.0       </td><td>1.0       </td><td>2019-09-30</td><td>1640      </td><td>Aqua      </td><td>MODIS     </td><td>100       </td><td>6.3       </td><td>298.2     </td><td> 18.0     </td><td>N         </td><td>0         </td></tr>\n",
       "\t<tr><td>-13.9187  </td><td>132.9494  </td><td>310.6     </td><td>1.0       </td><td>1.0       </td><td>2019-09-30</td><td>1640      </td><td>Aqua      </td><td>MODIS     </td><td> 80       </td><td>6.3       </td><td>297.6     </td><td>  7.3     </td><td>N         </td><td>0         </td></tr>\n",
       "\t<tr><td>-13.8794  </td><td>132.9358  </td><td>311.8     </td><td>1.0       </td><td>1.0       </td><td>2019-09-30</td><td>1640      </td><td>Aqua      </td><td>MODIS     </td><td> 82       </td><td>6.3       </td><td>295.6     </td><td>  9.1     </td><td>N         </td><td>0         </td></tr>\n",
       "\t<tr><td>-16.6958  </td><td>124.8151  </td><td>315.5     </td><td>2.1       </td><td>1.4       </td><td>2019-09-30</td><td>1641      </td><td>Aqua      </td><td>MODIS     </td><td> 91       </td><td>6.3       </td><td>294.7     </td><td> 35.1     </td><td>N         </td><td>0         </td></tr>\n",
       "\t<tr><td>-16.7259  </td><td>124.8235  </td><td>318.2     </td><td>2.1       </td><td>1.4       </td><td>2019-09-30</td><td>1641      </td><td>Aqua      </td><td>MODIS     </td><td> 96       </td><td>6.3       </td><td>294.9     </td><td> 41.0     </td><td>N         </td><td>0         </td></tr>\n",
       "\t<tr><td>-16.6833  </td><td>124.8175  </td><td>319.8     </td><td>2.1       </td><td>1.4       </td><td>2019-09-30</td><td>1641      </td><td>Aqua      </td><td>MODIS     </td><td> 99       </td><td>6.3       </td><td>294.2     </td><td> 46.3     </td><td>N         </td><td>0         </td></tr>\n",
       "\t<tr><td>-16.6890  </td><td>127.6211  </td><td>312.4     </td><td>1.3       </td><td>1.1       </td><td>2019-09-30</td><td>1641      </td><td>Aqua      </td><td>MODIS     </td><td> 85       </td><td>6.3       </td><td>297.3     </td><td> 13.9     </td><td>N         </td><td>0         </td></tr>\n",
       "\t<tr><td>-16.6870  </td><td>127.6090  </td><td>320.8     </td><td>1.3       </td><td>1.1       </td><td>2019-09-30</td><td>1641      </td><td>Aqua      </td><td>MODIS     </td><td>100       </td><td>6.3       </td><td>297.4     </td><td> 25.0     </td><td>N         </td><td>0         </td></tr>\n",
       "\t<tr><td>-16.7241  </td><td>124.8292  </td><td>328.5     </td><td>2.1       </td><td>1.4       </td><td>2019-09-30</td><td>1641      </td><td>Aqua      </td><td>MODIS     </td><td>100       </td><td>6.3       </td><td>295.1     </td><td> 73.4     </td><td>N         </td><td>0         </td></tr>\n",
       "\t<tr><td>-16.7134  </td><td>124.8259  </td><td>343.2     </td><td>2.1       </td><td>1.4       </td><td>2019-09-30</td><td>1641      </td><td>Aqua      </td><td>MODIS     </td><td>100       </td><td>6.3       </td><td>295.4     </td><td>136.0     </td><td>N         </td><td>0         </td></tr>\n",
       "\t<tr><td>-16.7209  </td><td>124.8104  </td><td>312.9     </td><td>2.1       </td><td>1.4       </td><td>2019-09-30</td><td>1641      </td><td>Aqua      </td><td>MODIS     </td><td> 86       </td><td>6.3       </td><td>294.3     </td><td> 29.0     </td><td>N         </td><td>0         </td></tr>\n",
       "\t<tr><td>-16.7117  </td><td>124.8318  </td><td>325.0     </td><td>2.1       </td><td>1.4       </td><td>2019-09-30</td><td>1641      </td><td>Aqua      </td><td>MODIS     </td><td>100       </td><td>6.3       </td><td>294.9     </td><td> 60.9     </td><td>N         </td><td>0         </td></tr>\n",
       "\t<tr><td>-16.7083  </td><td>124.8126  </td><td>315.2     </td><td>2.1       </td><td>1.4       </td><td>2019-09-30</td><td>1641      </td><td>Aqua      </td><td>MODIS     </td><td> 91       </td><td>6.3       </td><td>294.3     </td><td> 33.9     </td><td>N         </td><td>0         </td></tr>\n",
       "\t<tr><td>-29.1196  </td><td>122.9981  </td><td>306.7     </td><td>1.6       </td><td>1.2       </td><td>2019-09-30</td><td>1644      </td><td>Aqua      </td><td>MODIS     </td><td> 69       </td><td>6.3       </td><td>287.9     </td><td> 17.8     </td><td>N         </td><td>0         </td></tr>\n",
       "\t<tr><td>-29.1225  </td><td>123.0141  </td><td>300.6     </td><td>1.6       </td><td>1.2       </td><td>2019-09-30</td><td>1644      </td><td>Aqua      </td><td>MODIS     </td><td> 31       </td><td>6.3       </td><td>289.0     </td><td> 10.6     </td><td>N         </td><td>0         </td></tr>\n",
       "\t<tr><td>-28.0557  </td><td>131.6349  </td><td>305.2     </td><td>1.2       </td><td>1.1       </td><td>2019-09-30</td><td>1644      </td><td>Aqua      </td><td>MODIS     </td><td> 63       </td><td>6.3       </td><td>292.3     </td><td>  7.9     </td><td>N         </td><td>0         </td></tr>\n",
       "\t<tr><td>-28.0572  </td><td>131.6473  </td><td>302.1     </td><td>1.2       </td><td>1.1       </td><td>2019-09-30</td><td>1644      </td><td>Aqua      </td><td>MODIS     </td><td> 41       </td><td>6.3       </td><td>291.7     </td><td>  5.7     </td><td>N         </td><td>0         </td></tr>\n",
       "\t<tr><td>-28.0640  </td><td>131.6209  </td><td>323.5     </td><td>1.2       </td><td>1.1       </td><td>2019-09-30</td><td>1644      </td><td>Aqua      </td><td>MODIS     </td><td>100       </td><td>6.3       </td><td>293.9     </td><td> 27.4     </td><td>N         </td><td>0         </td></tr>\n",
       "\t<tr><td>-28.0656  </td><td>131.6334  </td><td>312.7     </td><td>1.2       </td><td>1.1       </td><td>2019-09-30</td><td>1644      </td><td>Aqua      </td><td>MODIS     </td><td> 85       </td><td>6.3       </td><td>292.9     </td><td> 14.2     </td><td>N         </td><td>0         </td></tr>\n",
       "\t<tr><td>-28.2625  </td><td>128.5494  </td><td>304.9     </td><td>1.0       </td><td>1.0       </td><td>2019-09-30</td><td>1644      </td><td>Aqua      </td><td>MODIS     </td><td> 27       </td><td>6.3       </td><td>290.9     </td><td>  6.4     </td><td>N         </td><td>0         </td></tr>\n",
       "\t<tr><td>-28.2941  </td><td>128.5123  </td><td>301.7     </td><td>1.0       </td><td>1.0       </td><td>2019-09-30</td><td>1644      </td><td>Aqua      </td><td>MODIS     </td><td> 43       </td><td>6.3       </td><td>290.4     </td><td>  5.5     </td><td>N         </td><td>0         </td></tr>\n",
       "\t<tr><td>-28.3001  </td><td>128.5530  </td><td>303.6     </td><td>1.0       </td><td>1.0       </td><td>2019-09-30</td><td>1644      </td><td>Aqua      </td><td>MODIS     </td><td> 41       </td><td>6.3       </td><td>290.3     </td><td>  5.7     </td><td>N         </td><td>0         </td></tr>\n",
       "\t<tr><td>-30.8641  </td><td>121.4995  </td><td>309.1     </td><td>1.8       </td><td>1.3       </td><td>2019-09-30</td><td>1645      </td><td>Aqua      </td><td>MODIS     </td><td> 77       </td><td>6.3       </td><td>290.9     </td><td> 23.0     </td><td>N         </td><td>2         </td></tr>\n",
       "</tbody>\n",
       "</table>\n"
      ],
      "text/latex": [
       "\\begin{tabular}{r|lllllllllllllll}\n",
       " latitude & longitude & brightness & scan & track & acq\\_date & acq\\_time & satellite & instrument & confidence & version & bright\\_t31 & frp & daynight & type\\\\\n",
       "\\hline\n",
       "\t -11.8070   & 142.0583   & 313.0      & 1.0        & 1.0        & 2019-08-01 & 56         & Terra      & MODIS      & 48         & 6.3        & 297.3      &  6.6       & D          & 0         \\\\\n",
       "\t -11.7924   & 142.0850   & 319.3      & 1.0        & 1.0        & 2019-08-01 & 56         & Terra      & MODIS      & 71         & 6.3        & 297.3      & 11.3       & D          & 0         \\\\\n",
       "\t -12.8398   & 132.8744   & 311.6      & 3.1        & 1.7        & 2019-08-01 & 57         & Terra      & MODIS      & 42         & 6.3        & 298.7      & 23.1       & D          & 0         \\\\\n",
       "\t -14.4306   & 143.3035   & 310.1      & 1.1        & 1.1        & 2019-08-01 & 57         & Terra      & MODIS      & 33         & 6.3        & 296.1      &  6.5       & D          & 0         \\\\\n",
       "\t -12.4953   & 131.4897   & 310.3      & 4.0        & 1.9        & 2019-08-01 & 57         & Terra      & MODIS      & 36         & 6.3        & 298.8      & 27.6       & D          & 0         \\\\\n",
       "\t -12.6191   & 142.1998   & 314.8      & 1.0        & 1.0        & 2019-08-01 & 57         & Terra      & MODIS      & 68         & 6.3        & 297.6      &  9.3       & D          & 0         \\\\\n",
       "\t -14.3655   & 143.5682   & 305.4      & 1.2        & 1.1        & 2019-08-01 & 57         & Terra      & MODIS      & 24         & 6.3        & 283.9      &  5.9       & D          & 0         \\\\\n",
       "\t -14.3195   & 143.5198   & 322.9      & 1.2        & 1.1        & 2019-08-01 & 57         & Terra      & MODIS      & 79         & 6.3        & 290.9      & 20.4       & D          & 0         \\\\\n",
       "\t -13.1654   & 141.9715   & 317.2      & 1.0        & 1.0        & 2019-08-01 & 57         & Terra      & MODIS      & 72         & 6.3        & 300.0      &  9.9       & D          & 0         \\\\\n",
       "\t -11.5473   & 132.6796   & 311.5      & 3.4        & 1.7        & 2019-08-01 & 57         & Terra      & MODIS      & 40         & 6.3        & 298.7      & 27.3       & D          & 0         \\\\\n",
       "\t -11.5417   & 132.6490   & 312.2      & 3.4        & 1.7        & 2019-08-01 & 57         & Terra      & MODIS      & 42         & 6.3        & 298.0      & 31.4       & D          & 0         \\\\\n",
       "\t -11.5471   & 132.6538   & 316.0      & 3.4        & 1.7        & 2019-08-01 & 57         & Terra      & MODIS      & 65         & 6.3        & 298.0      & 52.7       & D          & 0         \\\\\n",
       "\t -12.7626   & 142.1759   & 335.2      & 1.0        & 1.0        & 2019-08-01 & 57         & Terra      & MODIS      & 88         & 6.3        & 301.7      & 30.1       & D          & 0         \\\\\n",
       "\t -12.7050   & 133.9070   & 311.7      & 2.6        & 1.5        & 2019-08-01 & 57         & Terra      & MODIS      & 57         & 6.3        & 298.6      & 20.6       & D          & 0         \\\\\n",
       "\t -13.1092   & 134.1848   & 315.9      & 2.4        & 1.5        & 2019-08-01 & 57         & Terra      & MODIS      & 67         & 6.3        & 298.4      & 29.5       & D          & 0         \\\\\n",
       "\t -14.0539   & 142.3327   & 316.0      & 1.0        & 1.0        & 2019-08-01 & 57         & Terra      & MODIS      & 52         & 6.3        & 298.8      &  7.8       & D          & 0         \\\\\n",
       "\t -12.6996   & 133.9138   & 310.9      & 2.6        & 1.5        & 2019-08-01 & 57         & Terra      & MODIS      & 55         & 6.3        & 298.7      & 17.6       & D          & 0         \\\\\n",
       "\t -12.7499   & 134.5251   & 314.8      & 2.3        & 1.5        & 2019-08-01 & 57         & Terra      & MODIS      & 66         & 6.3        & 299.9      & 22.8       & D          & 0         \\\\\n",
       "\t -12.7141   & 134.3991   & 313.9      & 2.4        & 1.5        & 2019-08-01 & 57         & Terra      & MODIS      & 64         & 6.3        & 299.2      & 23.0       & D          & 0         \\\\\n",
       "\t -12.7061   & 134.4077   & 314.0      & 2.4        & 1.5        & 2019-08-01 & 57         & Terra      & MODIS      & 64         & 6.3        & 300.0      & 21.2       & D          & 0         \\\\\n",
       "\t -13.8656   & 141.9771   & 315.7      & 1.0        & 1.0        & 2019-08-01 & 57         & Terra      & MODIS      & 69         & 6.3        & 300.8      &  6.7       & D          & 0         \\\\\n",
       "\t -12.6491   & 134.3953   & 324.9      & 2.4        & 1.5        & 2019-08-01 & 57         & Terra      & MODIS      & 79         & 6.3        & 300.6      & 57.7       & D          & 0         \\\\\n",
       "\t -13.1015   & 134.1926   & 311.3      & 2.4        & 1.5        & 2019-08-01 & 57         & Terra      & MODIS      & 55         & 6.3        & 298.1      & 17.2       & D          & 0         \\\\\n",
       "\t -12.6703   & 142.1102   & 322.4      & 1.0        & 1.0        & 2019-08-01 & 57         & Terra      & MODIS      & 78         & 6.3        & 301.0      & 13.7       & D          & 0         \\\\\n",
       "\t -13.3042   & 142.0400   & 318.6      & 1.0        & 1.0        & 2019-08-01 & 57         & Terra      & MODIS      & 76         & 6.3        & 299.0      & 11.6       & D          & 0         \\\\\n",
       "\t -13.2236   & 141.9914   & 325.3      & 1.0        & 1.0        & 2019-08-01 & 57         & Terra      & MODIS      & 69         & 6.3        & 300.4      & 16.2       & D          & 0         \\\\\n",
       "\t -13.2821   & 142.4617   & 306.5      & 1.0        & 1.0        & 2019-08-01 & 57         & Terra      & MODIS      & 19         & 6.3        & 280.3      &  5.4       & D          & 0         \\\\\n",
       "\t -13.2159   & 142.0020   & 325.5      & 1.0        & 1.0        & 2019-08-01 & 57         & Terra      & MODIS      & 52         & 6.3        & 297.3      & 17.6       & D          & 0         \\\\\n",
       "\t -13.2537   & 142.5242   & 310.0      & 1.0        & 1.0        & 2019-08-01 & 57         & Terra      & MODIS      & 37         & 6.3        & 291.3      &  4.3       & D          & 0         \\\\\n",
       "\t -12.4513   & 141.8071   & 320.2      & 1.0        & 1.0        & 2019-08-01 & 57         & Terra      & MODIS      & 68         & 6.3        & 296.0      & 13.0       & D          & 0         \\\\\n",
       "\t ... & ... & ... & ... & ... & ... & ... & ... & ... & ... & ... & ... & ... & ... & ...\\\\\n",
       "\t -14.9333   & 133.9170   & 313.2      & 1.1        & 1.1        & 2019-09-30 & 1640       & Aqua       & MODIS      &  67        & 6.3        & 296.6      &  11.1      & N          & 0         \\\\\n",
       "\t -14.9252   & 133.9291   & 306.1      & 1.1        & 1.1        & 2019-09-30 & 1640       & Aqua       & MODIS      &  28        & 6.3        & 296.0      &   5.8      & N          & 0         \\\\\n",
       "\t -14.9223   & 133.9076   & 308.6      & 1.1        & 1.1        & 2019-09-30 & 1640       & Aqua       & MODIS      &  66        & 6.3        & 297.1      &   7.8      & N          & 0         \\\\\n",
       "\t -14.0827   & 130.0241   & 310.3      & 1.1        & 1.0        & 2019-09-30 & 1640       & Aqua       & MODIS      &  80        & 6.3        & 292.7      &  11.4      & N          & 0         \\\\\n",
       "\t -14.1787   & 132.8351   & 310.7      & 1.0        & 1.0        & 2019-09-30 & 1640       & Aqua       & MODIS      &  81        & 6.3        & 295.9      &   8.8      & N          & 0         \\\\\n",
       "\t -13.9292   & 132.9576   & 317.4      & 1.0        & 1.0        & 2019-09-30 & 1640       & Aqua       & MODIS      &  95        & 6.3        & 297.0      &  13.6      & N          & 0         \\\\\n",
       "\t -13.9278   & 132.9481   & 315.3      & 1.0        & 1.0        & 2019-09-30 & 1640       & Aqua       & MODIS      &  91        & 6.3        & 297.9      &  11.6      & N          & 0         \\\\\n",
       "\t -13.9200   & 132.9590   & 322.0      & 1.0        & 1.0        & 2019-09-30 & 1640       & Aqua       & MODIS      & 100        & 6.3        & 298.2      &  18.0      & N          & 0         \\\\\n",
       "\t -13.9187   & 132.9494   & 310.6      & 1.0        & 1.0        & 2019-09-30 & 1640       & Aqua       & MODIS      &  80        & 6.3        & 297.6      &   7.3      & N          & 0         \\\\\n",
       "\t -13.8794   & 132.9358   & 311.8      & 1.0        & 1.0        & 2019-09-30 & 1640       & Aqua       & MODIS      &  82        & 6.3        & 295.6      &   9.1      & N          & 0         \\\\\n",
       "\t -16.6958   & 124.8151   & 315.5      & 2.1        & 1.4        & 2019-09-30 & 1641       & Aqua       & MODIS      &  91        & 6.3        & 294.7      &  35.1      & N          & 0         \\\\\n",
       "\t -16.7259   & 124.8235   & 318.2      & 2.1        & 1.4        & 2019-09-30 & 1641       & Aqua       & MODIS      &  96        & 6.3        & 294.9      &  41.0      & N          & 0         \\\\\n",
       "\t -16.6833   & 124.8175   & 319.8      & 2.1        & 1.4        & 2019-09-30 & 1641       & Aqua       & MODIS      &  99        & 6.3        & 294.2      &  46.3      & N          & 0         \\\\\n",
       "\t -16.6890   & 127.6211   & 312.4      & 1.3        & 1.1        & 2019-09-30 & 1641       & Aqua       & MODIS      &  85        & 6.3        & 297.3      &  13.9      & N          & 0         \\\\\n",
       "\t -16.6870   & 127.6090   & 320.8      & 1.3        & 1.1        & 2019-09-30 & 1641       & Aqua       & MODIS      & 100        & 6.3        & 297.4      &  25.0      & N          & 0         \\\\\n",
       "\t -16.7241   & 124.8292   & 328.5      & 2.1        & 1.4        & 2019-09-30 & 1641       & Aqua       & MODIS      & 100        & 6.3        & 295.1      &  73.4      & N          & 0         \\\\\n",
       "\t -16.7134   & 124.8259   & 343.2      & 2.1        & 1.4        & 2019-09-30 & 1641       & Aqua       & MODIS      & 100        & 6.3        & 295.4      & 136.0      & N          & 0         \\\\\n",
       "\t -16.7209   & 124.8104   & 312.9      & 2.1        & 1.4        & 2019-09-30 & 1641       & Aqua       & MODIS      &  86        & 6.3        & 294.3      &  29.0      & N          & 0         \\\\\n",
       "\t -16.7117   & 124.8318   & 325.0      & 2.1        & 1.4        & 2019-09-30 & 1641       & Aqua       & MODIS      & 100        & 6.3        & 294.9      &  60.9      & N          & 0         \\\\\n",
       "\t -16.7083   & 124.8126   & 315.2      & 2.1        & 1.4        & 2019-09-30 & 1641       & Aqua       & MODIS      &  91        & 6.3        & 294.3      &  33.9      & N          & 0         \\\\\n",
       "\t -29.1196   & 122.9981   & 306.7      & 1.6        & 1.2        & 2019-09-30 & 1644       & Aqua       & MODIS      &  69        & 6.3        & 287.9      &  17.8      & N          & 0         \\\\\n",
       "\t -29.1225   & 123.0141   & 300.6      & 1.6        & 1.2        & 2019-09-30 & 1644       & Aqua       & MODIS      &  31        & 6.3        & 289.0      &  10.6      & N          & 0         \\\\\n",
       "\t -28.0557   & 131.6349   & 305.2      & 1.2        & 1.1        & 2019-09-30 & 1644       & Aqua       & MODIS      &  63        & 6.3        & 292.3      &   7.9      & N          & 0         \\\\\n",
       "\t -28.0572   & 131.6473   & 302.1      & 1.2        & 1.1        & 2019-09-30 & 1644       & Aqua       & MODIS      &  41        & 6.3        & 291.7      &   5.7      & N          & 0         \\\\\n",
       "\t -28.0640   & 131.6209   & 323.5      & 1.2        & 1.1        & 2019-09-30 & 1644       & Aqua       & MODIS      & 100        & 6.3        & 293.9      &  27.4      & N          & 0         \\\\\n",
       "\t -28.0656   & 131.6334   & 312.7      & 1.2        & 1.1        & 2019-09-30 & 1644       & Aqua       & MODIS      &  85        & 6.3        & 292.9      &  14.2      & N          & 0         \\\\\n",
       "\t -28.2625   & 128.5494   & 304.9      & 1.0        & 1.0        & 2019-09-30 & 1644       & Aqua       & MODIS      &  27        & 6.3        & 290.9      &   6.4      & N          & 0         \\\\\n",
       "\t -28.2941   & 128.5123   & 301.7      & 1.0        & 1.0        & 2019-09-30 & 1644       & Aqua       & MODIS      &  43        & 6.3        & 290.4      &   5.5      & N          & 0         \\\\\n",
       "\t -28.3001   & 128.5530   & 303.6      & 1.0        & 1.0        & 2019-09-30 & 1644       & Aqua       & MODIS      &  41        & 6.3        & 290.3      &   5.7      & N          & 0         \\\\\n",
       "\t -30.8641   & 121.4995   & 309.1      & 1.8        & 1.3        & 2019-09-30 & 1645       & Aqua       & MODIS      &  77        & 6.3        & 290.9      &  23.0      & N          & 2         \\\\\n",
       "\\end{tabular}\n"
      ],
      "text/markdown": [
       "\n",
       "| latitude | longitude | brightness | scan | track | acq_date | acq_time | satellite | instrument | confidence | version | bright_t31 | frp | daynight | type |\n",
       "|---|---|---|---|---|---|---|---|---|---|---|---|---|---|---|\n",
       "| -11.8070   | 142.0583   | 313.0      | 1.0        | 1.0        | 2019-08-01 | 56         | Terra      | MODIS      | 48         | 6.3        | 297.3      |  6.6       | D          | 0          |\n",
       "| -11.7924   | 142.0850   | 319.3      | 1.0        | 1.0        | 2019-08-01 | 56         | Terra      | MODIS      | 71         | 6.3        | 297.3      | 11.3       | D          | 0          |\n",
       "| -12.8398   | 132.8744   | 311.6      | 3.1        | 1.7        | 2019-08-01 | 57         | Terra      | MODIS      | 42         | 6.3        | 298.7      | 23.1       | D          | 0          |\n",
       "| -14.4306   | 143.3035   | 310.1      | 1.1        | 1.1        | 2019-08-01 | 57         | Terra      | MODIS      | 33         | 6.3        | 296.1      |  6.5       | D          | 0          |\n",
       "| -12.4953   | 131.4897   | 310.3      | 4.0        | 1.9        | 2019-08-01 | 57         | Terra      | MODIS      | 36         | 6.3        | 298.8      | 27.6       | D          | 0          |\n",
       "| -12.6191   | 142.1998   | 314.8      | 1.0        | 1.0        | 2019-08-01 | 57         | Terra      | MODIS      | 68         | 6.3        | 297.6      |  9.3       | D          | 0          |\n",
       "| -14.3655   | 143.5682   | 305.4      | 1.2        | 1.1        | 2019-08-01 | 57         | Terra      | MODIS      | 24         | 6.3        | 283.9      |  5.9       | D          | 0          |\n",
       "| -14.3195   | 143.5198   | 322.9      | 1.2        | 1.1        | 2019-08-01 | 57         | Terra      | MODIS      | 79         | 6.3        | 290.9      | 20.4       | D          | 0          |\n",
       "| -13.1654   | 141.9715   | 317.2      | 1.0        | 1.0        | 2019-08-01 | 57         | Terra      | MODIS      | 72         | 6.3        | 300.0      |  9.9       | D          | 0          |\n",
       "| -11.5473   | 132.6796   | 311.5      | 3.4        | 1.7        | 2019-08-01 | 57         | Terra      | MODIS      | 40         | 6.3        | 298.7      | 27.3       | D          | 0          |\n",
       "| -11.5417   | 132.6490   | 312.2      | 3.4        | 1.7        | 2019-08-01 | 57         | Terra      | MODIS      | 42         | 6.3        | 298.0      | 31.4       | D          | 0          |\n",
       "| -11.5471   | 132.6538   | 316.0      | 3.4        | 1.7        | 2019-08-01 | 57         | Terra      | MODIS      | 65         | 6.3        | 298.0      | 52.7       | D          | 0          |\n",
       "| -12.7626   | 142.1759   | 335.2      | 1.0        | 1.0        | 2019-08-01 | 57         | Terra      | MODIS      | 88         | 6.3        | 301.7      | 30.1       | D          | 0          |\n",
       "| -12.7050   | 133.9070   | 311.7      | 2.6        | 1.5        | 2019-08-01 | 57         | Terra      | MODIS      | 57         | 6.3        | 298.6      | 20.6       | D          | 0          |\n",
       "| -13.1092   | 134.1848   | 315.9      | 2.4        | 1.5        | 2019-08-01 | 57         | Terra      | MODIS      | 67         | 6.3        | 298.4      | 29.5       | D          | 0          |\n",
       "| -14.0539   | 142.3327   | 316.0      | 1.0        | 1.0        | 2019-08-01 | 57         | Terra      | MODIS      | 52         | 6.3        | 298.8      |  7.8       | D          | 0          |\n",
       "| -12.6996   | 133.9138   | 310.9      | 2.6        | 1.5        | 2019-08-01 | 57         | Terra      | MODIS      | 55         | 6.3        | 298.7      | 17.6       | D          | 0          |\n",
       "| -12.7499   | 134.5251   | 314.8      | 2.3        | 1.5        | 2019-08-01 | 57         | Terra      | MODIS      | 66         | 6.3        | 299.9      | 22.8       | D          | 0          |\n",
       "| -12.7141   | 134.3991   | 313.9      | 2.4        | 1.5        | 2019-08-01 | 57         | Terra      | MODIS      | 64         | 6.3        | 299.2      | 23.0       | D          | 0          |\n",
       "| -12.7061   | 134.4077   | 314.0      | 2.4        | 1.5        | 2019-08-01 | 57         | Terra      | MODIS      | 64         | 6.3        | 300.0      | 21.2       | D          | 0          |\n",
       "| -13.8656   | 141.9771   | 315.7      | 1.0        | 1.0        | 2019-08-01 | 57         | Terra      | MODIS      | 69         | 6.3        | 300.8      |  6.7       | D          | 0          |\n",
       "| -12.6491   | 134.3953   | 324.9      | 2.4        | 1.5        | 2019-08-01 | 57         | Terra      | MODIS      | 79         | 6.3        | 300.6      | 57.7       | D          | 0          |\n",
       "| -13.1015   | 134.1926   | 311.3      | 2.4        | 1.5        | 2019-08-01 | 57         | Terra      | MODIS      | 55         | 6.3        | 298.1      | 17.2       | D          | 0          |\n",
       "| -12.6703   | 142.1102   | 322.4      | 1.0        | 1.0        | 2019-08-01 | 57         | Terra      | MODIS      | 78         | 6.3        | 301.0      | 13.7       | D          | 0          |\n",
       "| -13.3042   | 142.0400   | 318.6      | 1.0        | 1.0        | 2019-08-01 | 57         | Terra      | MODIS      | 76         | 6.3        | 299.0      | 11.6       | D          | 0          |\n",
       "| -13.2236   | 141.9914   | 325.3      | 1.0        | 1.0        | 2019-08-01 | 57         | Terra      | MODIS      | 69         | 6.3        | 300.4      | 16.2       | D          | 0          |\n",
       "| -13.2821   | 142.4617   | 306.5      | 1.0        | 1.0        | 2019-08-01 | 57         | Terra      | MODIS      | 19         | 6.3        | 280.3      |  5.4       | D          | 0          |\n",
       "| -13.2159   | 142.0020   | 325.5      | 1.0        | 1.0        | 2019-08-01 | 57         | Terra      | MODIS      | 52         | 6.3        | 297.3      | 17.6       | D          | 0          |\n",
       "| -13.2537   | 142.5242   | 310.0      | 1.0        | 1.0        | 2019-08-01 | 57         | Terra      | MODIS      | 37         | 6.3        | 291.3      |  4.3       | D          | 0          |\n",
       "| -12.4513   | 141.8071   | 320.2      | 1.0        | 1.0        | 2019-08-01 | 57         | Terra      | MODIS      | 68         | 6.3        | 296.0      | 13.0       | D          | 0          |\n",
       "| ... | ... | ... | ... | ... | ... | ... | ... | ... | ... | ... | ... | ... | ... | ... |\n",
       "| -14.9333   | 133.9170   | 313.2      | 1.1        | 1.1        | 2019-09-30 | 1640       | Aqua       | MODIS      |  67        | 6.3        | 296.6      |  11.1      | N          | 0          |\n",
       "| -14.9252   | 133.9291   | 306.1      | 1.1        | 1.1        | 2019-09-30 | 1640       | Aqua       | MODIS      |  28        | 6.3        | 296.0      |   5.8      | N          | 0          |\n",
       "| -14.9223   | 133.9076   | 308.6      | 1.1        | 1.1        | 2019-09-30 | 1640       | Aqua       | MODIS      |  66        | 6.3        | 297.1      |   7.8      | N          | 0          |\n",
       "| -14.0827   | 130.0241   | 310.3      | 1.1        | 1.0        | 2019-09-30 | 1640       | Aqua       | MODIS      |  80        | 6.3        | 292.7      |  11.4      | N          | 0          |\n",
       "| -14.1787   | 132.8351   | 310.7      | 1.0        | 1.0        | 2019-09-30 | 1640       | Aqua       | MODIS      |  81        | 6.3        | 295.9      |   8.8      | N          | 0          |\n",
       "| -13.9292   | 132.9576   | 317.4      | 1.0        | 1.0        | 2019-09-30 | 1640       | Aqua       | MODIS      |  95        | 6.3        | 297.0      |  13.6      | N          | 0          |\n",
       "| -13.9278   | 132.9481   | 315.3      | 1.0        | 1.0        | 2019-09-30 | 1640       | Aqua       | MODIS      |  91        | 6.3        | 297.9      |  11.6      | N          | 0          |\n",
       "| -13.9200   | 132.9590   | 322.0      | 1.0        | 1.0        | 2019-09-30 | 1640       | Aqua       | MODIS      | 100        | 6.3        | 298.2      |  18.0      | N          | 0          |\n",
       "| -13.9187   | 132.9494   | 310.6      | 1.0        | 1.0        | 2019-09-30 | 1640       | Aqua       | MODIS      |  80        | 6.3        | 297.6      |   7.3      | N          | 0          |\n",
       "| -13.8794   | 132.9358   | 311.8      | 1.0        | 1.0        | 2019-09-30 | 1640       | Aqua       | MODIS      |  82        | 6.3        | 295.6      |   9.1      | N          | 0          |\n",
       "| -16.6958   | 124.8151   | 315.5      | 2.1        | 1.4        | 2019-09-30 | 1641       | Aqua       | MODIS      |  91        | 6.3        | 294.7      |  35.1      | N          | 0          |\n",
       "| -16.7259   | 124.8235   | 318.2      | 2.1        | 1.4        | 2019-09-30 | 1641       | Aqua       | MODIS      |  96        | 6.3        | 294.9      |  41.0      | N          | 0          |\n",
       "| -16.6833   | 124.8175   | 319.8      | 2.1        | 1.4        | 2019-09-30 | 1641       | Aqua       | MODIS      |  99        | 6.3        | 294.2      |  46.3      | N          | 0          |\n",
       "| -16.6890   | 127.6211   | 312.4      | 1.3        | 1.1        | 2019-09-30 | 1641       | Aqua       | MODIS      |  85        | 6.3        | 297.3      |  13.9      | N          | 0          |\n",
       "| -16.6870   | 127.6090   | 320.8      | 1.3        | 1.1        | 2019-09-30 | 1641       | Aqua       | MODIS      | 100        | 6.3        | 297.4      |  25.0      | N          | 0          |\n",
       "| -16.7241   | 124.8292   | 328.5      | 2.1        | 1.4        | 2019-09-30 | 1641       | Aqua       | MODIS      | 100        | 6.3        | 295.1      |  73.4      | N          | 0          |\n",
       "| -16.7134   | 124.8259   | 343.2      | 2.1        | 1.4        | 2019-09-30 | 1641       | Aqua       | MODIS      | 100        | 6.3        | 295.4      | 136.0      | N          | 0          |\n",
       "| -16.7209   | 124.8104   | 312.9      | 2.1        | 1.4        | 2019-09-30 | 1641       | Aqua       | MODIS      |  86        | 6.3        | 294.3      |  29.0      | N          | 0          |\n",
       "| -16.7117   | 124.8318   | 325.0      | 2.1        | 1.4        | 2019-09-30 | 1641       | Aqua       | MODIS      | 100        | 6.3        | 294.9      |  60.9      | N          | 0          |\n",
       "| -16.7083   | 124.8126   | 315.2      | 2.1        | 1.4        | 2019-09-30 | 1641       | Aqua       | MODIS      |  91        | 6.3        | 294.3      |  33.9      | N          | 0          |\n",
       "| -29.1196   | 122.9981   | 306.7      | 1.6        | 1.2        | 2019-09-30 | 1644       | Aqua       | MODIS      |  69        | 6.3        | 287.9      |  17.8      | N          | 0          |\n",
       "| -29.1225   | 123.0141   | 300.6      | 1.6        | 1.2        | 2019-09-30 | 1644       | Aqua       | MODIS      |  31        | 6.3        | 289.0      |  10.6      | N          | 0          |\n",
       "| -28.0557   | 131.6349   | 305.2      | 1.2        | 1.1        | 2019-09-30 | 1644       | Aqua       | MODIS      |  63        | 6.3        | 292.3      |   7.9      | N          | 0          |\n",
       "| -28.0572   | 131.6473   | 302.1      | 1.2        | 1.1        | 2019-09-30 | 1644       | Aqua       | MODIS      |  41        | 6.3        | 291.7      |   5.7      | N          | 0          |\n",
       "| -28.0640   | 131.6209   | 323.5      | 1.2        | 1.1        | 2019-09-30 | 1644       | Aqua       | MODIS      | 100        | 6.3        | 293.9      |  27.4      | N          | 0          |\n",
       "| -28.0656   | 131.6334   | 312.7      | 1.2        | 1.1        | 2019-09-30 | 1644       | Aqua       | MODIS      |  85        | 6.3        | 292.9      |  14.2      | N          | 0          |\n",
       "| -28.2625   | 128.5494   | 304.9      | 1.0        | 1.0        | 2019-09-30 | 1644       | Aqua       | MODIS      |  27        | 6.3        | 290.9      |   6.4      | N          | 0          |\n",
       "| -28.2941   | 128.5123   | 301.7      | 1.0        | 1.0        | 2019-09-30 | 1644       | Aqua       | MODIS      |  43        | 6.3        | 290.4      |   5.5      | N          | 0          |\n",
       "| -28.3001   | 128.5530   | 303.6      | 1.0        | 1.0        | 2019-09-30 | 1644       | Aqua       | MODIS      |  41        | 6.3        | 290.3      |   5.7      | N          | 0          |\n",
       "| -30.8641   | 121.4995   | 309.1      | 1.8        | 1.3        | 2019-09-30 | 1645       | Aqua       | MODIS      |  77        | 6.3        | 290.9      |  23.0      | N          | 2          |\n",
       "\n"
      ],
      "text/plain": [
       "      latitude longitude brightness scan track acq_date   acq_time satellite\n",
       "1     -11.8070 142.0583  313.0      1.0  1.0   2019-08-01 56       Terra    \n",
       "2     -11.7924 142.0850  319.3      1.0  1.0   2019-08-01 56       Terra    \n",
       "3     -12.8398 132.8744  311.6      3.1  1.7   2019-08-01 57       Terra    \n",
       "4     -14.4306 143.3035  310.1      1.1  1.1   2019-08-01 57       Terra    \n",
       "5     -12.4953 131.4897  310.3      4.0  1.9   2019-08-01 57       Terra    \n",
       "6     -12.6191 142.1998  314.8      1.0  1.0   2019-08-01 57       Terra    \n",
       "7     -14.3655 143.5682  305.4      1.2  1.1   2019-08-01 57       Terra    \n",
       "8     -14.3195 143.5198  322.9      1.2  1.1   2019-08-01 57       Terra    \n",
       "9     -13.1654 141.9715  317.2      1.0  1.0   2019-08-01 57       Terra    \n",
       "10    -11.5473 132.6796  311.5      3.4  1.7   2019-08-01 57       Terra    \n",
       "11    -11.5417 132.6490  312.2      3.4  1.7   2019-08-01 57       Terra    \n",
       "12    -11.5471 132.6538  316.0      3.4  1.7   2019-08-01 57       Terra    \n",
       "13    -12.7626 142.1759  335.2      1.0  1.0   2019-08-01 57       Terra    \n",
       "14    -12.7050 133.9070  311.7      2.6  1.5   2019-08-01 57       Terra    \n",
       "15    -13.1092 134.1848  315.9      2.4  1.5   2019-08-01 57       Terra    \n",
       "16    -14.0539 142.3327  316.0      1.0  1.0   2019-08-01 57       Terra    \n",
       "17    -12.6996 133.9138  310.9      2.6  1.5   2019-08-01 57       Terra    \n",
       "18    -12.7499 134.5251  314.8      2.3  1.5   2019-08-01 57       Terra    \n",
       "19    -12.7141 134.3991  313.9      2.4  1.5   2019-08-01 57       Terra    \n",
       "20    -12.7061 134.4077  314.0      2.4  1.5   2019-08-01 57       Terra    \n",
       "21    -13.8656 141.9771  315.7      1.0  1.0   2019-08-01 57       Terra    \n",
       "22    -12.6491 134.3953  324.9      2.4  1.5   2019-08-01 57       Terra    \n",
       "23    -13.1015 134.1926  311.3      2.4  1.5   2019-08-01 57       Terra    \n",
       "24    -12.6703 142.1102  322.4      1.0  1.0   2019-08-01 57       Terra    \n",
       "25    -13.3042 142.0400  318.6      1.0  1.0   2019-08-01 57       Terra    \n",
       "26    -13.2236 141.9914  325.3      1.0  1.0   2019-08-01 57       Terra    \n",
       "27    -13.2821 142.4617  306.5      1.0  1.0   2019-08-01 57       Terra    \n",
       "28    -13.2159 142.0020  325.5      1.0  1.0   2019-08-01 57       Terra    \n",
       "29    -13.2537 142.5242  310.0      1.0  1.0   2019-08-01 57       Terra    \n",
       "30    -12.4513 141.8071  320.2      1.0  1.0   2019-08-01 57       Terra    \n",
       "...   ...      ...       ...        ...  ...   ...        ...      ...      \n",
       "35982 -14.9333 133.9170  313.2      1.1  1.1   2019-09-30 1640     Aqua     \n",
       "35983 -14.9252 133.9291  306.1      1.1  1.1   2019-09-30 1640     Aqua     \n",
       "35984 -14.9223 133.9076  308.6      1.1  1.1   2019-09-30 1640     Aqua     \n",
       "35985 -14.0827 130.0241  310.3      1.1  1.0   2019-09-30 1640     Aqua     \n",
       "35986 -14.1787 132.8351  310.7      1.0  1.0   2019-09-30 1640     Aqua     \n",
       "35987 -13.9292 132.9576  317.4      1.0  1.0   2019-09-30 1640     Aqua     \n",
       "35988 -13.9278 132.9481  315.3      1.0  1.0   2019-09-30 1640     Aqua     \n",
       "35989 -13.9200 132.9590  322.0      1.0  1.0   2019-09-30 1640     Aqua     \n",
       "35990 -13.9187 132.9494  310.6      1.0  1.0   2019-09-30 1640     Aqua     \n",
       "35991 -13.8794 132.9358  311.8      1.0  1.0   2019-09-30 1640     Aqua     \n",
       "35992 -16.6958 124.8151  315.5      2.1  1.4   2019-09-30 1641     Aqua     \n",
       "35993 -16.7259 124.8235  318.2      2.1  1.4   2019-09-30 1641     Aqua     \n",
       "35994 -16.6833 124.8175  319.8      2.1  1.4   2019-09-30 1641     Aqua     \n",
       "35995 -16.6890 127.6211  312.4      1.3  1.1   2019-09-30 1641     Aqua     \n",
       "35996 -16.6870 127.6090  320.8      1.3  1.1   2019-09-30 1641     Aqua     \n",
       "35997 -16.7241 124.8292  328.5      2.1  1.4   2019-09-30 1641     Aqua     \n",
       "35998 -16.7134 124.8259  343.2      2.1  1.4   2019-09-30 1641     Aqua     \n",
       "35999 -16.7209 124.8104  312.9      2.1  1.4   2019-09-30 1641     Aqua     \n",
       "36000 -16.7117 124.8318  325.0      2.1  1.4   2019-09-30 1641     Aqua     \n",
       "36001 -16.7083 124.8126  315.2      2.1  1.4   2019-09-30 1641     Aqua     \n",
       "36002 -29.1196 122.9981  306.7      1.6  1.2   2019-09-30 1644     Aqua     \n",
       "36003 -29.1225 123.0141  300.6      1.6  1.2   2019-09-30 1644     Aqua     \n",
       "36004 -28.0557 131.6349  305.2      1.2  1.1   2019-09-30 1644     Aqua     \n",
       "36005 -28.0572 131.6473  302.1      1.2  1.1   2019-09-30 1644     Aqua     \n",
       "36006 -28.0640 131.6209  323.5      1.2  1.1   2019-09-30 1644     Aqua     \n",
       "36007 -28.0656 131.6334  312.7      1.2  1.1   2019-09-30 1644     Aqua     \n",
       "36008 -28.2625 128.5494  304.9      1.0  1.0   2019-09-30 1644     Aqua     \n",
       "36009 -28.2941 128.5123  301.7      1.0  1.0   2019-09-30 1644     Aqua     \n",
       "36010 -28.3001 128.5530  303.6      1.0  1.0   2019-09-30 1644     Aqua     \n",
       "36011 -30.8641 121.4995  309.1      1.8  1.3   2019-09-30 1645     Aqua     \n",
       "      instrument confidence version bright_t31 frp   daynight type\n",
       "1     MODIS      48         6.3     297.3       6.6  D        0   \n",
       "2     MODIS      71         6.3     297.3      11.3  D        0   \n",
       "3     MODIS      42         6.3     298.7      23.1  D        0   \n",
       "4     MODIS      33         6.3     296.1       6.5  D        0   \n",
       "5     MODIS      36         6.3     298.8      27.6  D        0   \n",
       "6     MODIS      68         6.3     297.6       9.3  D        0   \n",
       "7     MODIS      24         6.3     283.9       5.9  D        0   \n",
       "8     MODIS      79         6.3     290.9      20.4  D        0   \n",
       "9     MODIS      72         6.3     300.0       9.9  D        0   \n",
       "10    MODIS      40         6.3     298.7      27.3  D        0   \n",
       "11    MODIS      42         6.3     298.0      31.4  D        0   \n",
       "12    MODIS      65         6.3     298.0      52.7  D        0   \n",
       "13    MODIS      88         6.3     301.7      30.1  D        0   \n",
       "14    MODIS      57         6.3     298.6      20.6  D        0   \n",
       "15    MODIS      67         6.3     298.4      29.5  D        0   \n",
       "16    MODIS      52         6.3     298.8       7.8  D        0   \n",
       "17    MODIS      55         6.3     298.7      17.6  D        0   \n",
       "18    MODIS      66         6.3     299.9      22.8  D        0   \n",
       "19    MODIS      64         6.3     299.2      23.0  D        0   \n",
       "20    MODIS      64         6.3     300.0      21.2  D        0   \n",
       "21    MODIS      69         6.3     300.8       6.7  D        0   \n",
       "22    MODIS      79         6.3     300.6      57.7  D        0   \n",
       "23    MODIS      55         6.3     298.1      17.2  D        0   \n",
       "24    MODIS      78         6.3     301.0      13.7  D        0   \n",
       "25    MODIS      76         6.3     299.0      11.6  D        0   \n",
       "26    MODIS      69         6.3     300.4      16.2  D        0   \n",
       "27    MODIS      19         6.3     280.3       5.4  D        0   \n",
       "28    MODIS      52         6.3     297.3      17.6  D        0   \n",
       "29    MODIS      37         6.3     291.3       4.3  D        0   \n",
       "30    MODIS      68         6.3     296.0      13.0  D        0   \n",
       "...   ...        ...        ...     ...        ...   ...      ... \n",
       "35982 MODIS       67        6.3     296.6       11.1 N        0   \n",
       "35983 MODIS       28        6.3     296.0        5.8 N        0   \n",
       "35984 MODIS       66        6.3     297.1        7.8 N        0   \n",
       "35985 MODIS       80        6.3     292.7       11.4 N        0   \n",
       "35986 MODIS       81        6.3     295.9        8.8 N        0   \n",
       "35987 MODIS       95        6.3     297.0       13.6 N        0   \n",
       "35988 MODIS       91        6.3     297.9       11.6 N        0   \n",
       "35989 MODIS      100        6.3     298.2       18.0 N        0   \n",
       "35990 MODIS       80        6.3     297.6        7.3 N        0   \n",
       "35991 MODIS       82        6.3     295.6        9.1 N        0   \n",
       "35992 MODIS       91        6.3     294.7       35.1 N        0   \n",
       "35993 MODIS       96        6.3     294.9       41.0 N        0   \n",
       "35994 MODIS       99        6.3     294.2       46.3 N        0   \n",
       "35995 MODIS       85        6.3     297.3       13.9 N        0   \n",
       "35996 MODIS      100        6.3     297.4       25.0 N        0   \n",
       "35997 MODIS      100        6.3     295.1       73.4 N        0   \n",
       "35998 MODIS      100        6.3     295.4      136.0 N        0   \n",
       "35999 MODIS       86        6.3     294.3       29.0 N        0   \n",
       "36000 MODIS      100        6.3     294.9       60.9 N        0   \n",
       "36001 MODIS       91        6.3     294.3       33.9 N        0   \n",
       "36002 MODIS       69        6.3     287.9       17.8 N        0   \n",
       "36003 MODIS       31        6.3     289.0       10.6 N        0   \n",
       "36004 MODIS       63        6.3     292.3        7.9 N        0   \n",
       "36005 MODIS       41        6.3     291.7        5.7 N        0   \n",
       "36006 MODIS      100        6.3     293.9       27.4 N        0   \n",
       "36007 MODIS       85        6.3     292.9       14.2 N        0   \n",
       "36008 MODIS       27        6.3     290.9        6.4 N        0   \n",
       "36009 MODIS       43        6.3     290.4        5.5 N        0   \n",
       "36010 MODIS       41        6.3     290.3        5.7 N        0   \n",
       "36011 MODIS       77        6.3     290.9       23.0 N        2   "
      ]
     },
     "metadata": {},
     "output_type": "display_data"
    }
   ],
   "source": [
    "# Visualizamos toda la tabla\n",
    "fire_archive_M6_96619"
   ]
  },
  {
   "cell_type": "markdown",
   "id": "ebda74bf-8c3c-451c-afc7-7a5e8d968a17",
   "metadata": {},
   "source": [
    "# Avance 2 Evidencia 2"
   ]
  },
  {
   "cell_type": "markdown",
   "id": "db6fb198-aec1-4c2a-ab8e-8345c251821e",
   "metadata": {},
   "source": [
    "### Calculos de elementos nulos, valores maximos y minimos, desviaciones estandar, valores atípicos por columna\n"
   ]
  },
  {
   "cell_type": "code",
   "execution_count": 69,
   "id": "a1c26dc4-2069-4fd0-ab81-e0d44d4def0b",
   "metadata": {
    "jupyter": {
     "source_hidden": true
    }
   },
   "outputs": [],
   "source": [
    "# Función principal que llama a todas las demás\n",
    "analizar_dataframe <- function(df) {\n",
    "  cat(\"== Análisis Tabla Fire Archive M6 96619 ==\\n\")\n",
    "  valores_nulos(df)\n",
    "  valores_max_min(df)\n",
    "  desviaciones_estandar(df)\n",
    "  valores_atipicos(df)\n",
    "}\n",
    "\n",
    "# Calcular nulos por columna\n",
    "valores_nulos <- function(df) {\n",
    "  cat(\"\\n a. Elementos nulos por columna:\\n\")\n",
    "  print(colSums(is.na(df)))\n",
    "}\n",
    "\n",
    "# Calcular valores máximos y mínimos\n",
    "valores_max_min <- function(df) {\n",
    "  cat(\"\\n b. Valores máximos por columna numérica:\\n\")\n",
    "  print(sapply(df, function(col) if(is.numeric(col)) max(col, na.rm = TRUE) else NA))\n",
    "\n",
    "  cat(\"\\n b_1. Valores mínimos por columna numérica:\\n\")\n",
    "  print(sapply(df, function(col) if(is.numeric(col)) min(col, na.rm = TRUE) else NA))\n",
    "}\n",
    "\n",
    "# Calcular desviaciones estándar\n",
    "desviaciones_estandar <- function(df) {\n",
    "  cat(\"\\n c. Desviación estándar por columna numérica:\\n\")\n",
    "  print(sapply(df, function(col) if(is.numeric(col)) sd(col, na.rm = TRUE) else NA))\n",
    "}\n",
    "\n",
    "# Identificar valores atípicos con la regla del IQR\n",
    "valores_atipicos <- function(df) {\n",
    "  cat(\"\\n d. Cantidad de valores atípicos por columna numérica (basado en IQR):\\n\")\n",
    "  detectar_outliers <- function(col) {\n",
    "    if (!is.numeric(col)) return(NA)\n",
    "    Q1 <- quantile(col, 0.25, na.rm = TRUE)\n",
    "    Q3 <- quantile(col, 0.75, na.rm = TRUE)\n",
    "    IQR_val <- Q3 - Q1\n",
    "    outliers <- which(col < (Q1 - 1.5 * IQR_val) | col > (Q3 + 1.5 * IQR_val))\n",
    "    return(length(outliers))\n",
    "  }\n",
    "  print(sapply(df, detectar_outliers))\n",
    "}"
   ]
  },
  {
   "cell_type": "markdown",
   "id": "f2a7a3a6-b60c-4e8c-903a-6c8ad82defba",
   "metadata": {},
   "source": [
    "### Resultados"
   ]
  },
  {
   "cell_type": "code",
   "execution_count": 22,
   "id": "2d9d0058-3f05-4aea-a6ea-eff9f7bc9fde",
   "metadata": {
    "collapsed": true,
    "jupyter": {
     "outputs_hidden": true
    },
    "scrolled": true
   },
   "outputs": [
    {
     "name": "stdout",
     "output_type": "stream",
     "text": [
      "== Análisis Tabla Fire Archive M6 96619 ==\n",
      "\n",
      " a. Elementos nulos por columna:\n",
      "  latitude  longitude brightness       scan      track   acq_date   acq_time \n",
      "         0          0          0          0          0          0          0 \n",
      " satellite instrument confidence    version bright_t31        frp   daynight \n",
      "         0          0          0          0          0          0          0 \n",
      "      type \n",
      "         0 \n",
      "\n",
      " b. Valores máximos por columna numérica:\n",
      "  latitude  longitude brightness       scan      track   acq_date   acq_time \n",
      "  -10.0726   153.4904   504.4000     4.8000     2.0000         NA  2359.0000 \n",
      " satellite instrument confidence    version bright_t31        frp   daynight \n",
      "        NA         NA   100.0000     6.3000   400.1000  3679.5000         NA \n",
      "      type \n",
      "    3.0000 \n",
      "\n",
      " b_1. Valores mínimos por columna numérica:\n",
      "  latitude  longitude brightness       scan      track   acq_date   acq_time \n",
      "  -42.7628   114.1043   300.0000     1.0000     1.0000         NA     0.0000 \n",
      " satellite instrument confidence    version bright_t31        frp   daynight \n",
      "        NA         NA     0.0000     6.3000   267.0000     0.0000         NA \n",
      "      type \n",
      "    0.0000 \n",
      "\n",
      " c. Desviación estándar por columna numérica:\n",
      "   latitude   longitude  brightness        scan       track    acq_date \n",
      "  7.2657771   9.2614002  18.9928077   0.8137639   0.2478522          NA \n",
      "   acq_time   satellite  instrument  confidence     version  bright_t31 \n",
      "548.3691109          NA          NA  23.1799462   0.0000000   9.7244621 \n",
      "        frp    daynight        type \n",
      " 92.2801116          NA   0.1983263 \n",
      "\n",
      " d. Cantidad de valores atípicos por columna numérica (basado en IQR):\n",
      "  latitude  longitude brightness       scan      track   acq_date   acq_time \n",
      "         0          0       1478       2762       1853         NA       8610 \n",
      " satellite instrument confidence    version bright_t31        frp   daynight \n",
      "        NA         NA        320          0         44       3424         NA \n",
      "      type \n",
      "       345 \n"
     ]
    }
   ],
   "source": [
    "analizar_dataframe(fire_archive_M6_96619)"
   ]
  },
  {
   "cell_type": "markdown",
   "id": "0dafa520-6fe4-4934-907a-5958bc20908c",
   "metadata": {},
   "source": [
    "# PARTE FINAL EVIDENCIA 2"
   ]
  },
  {
   "cell_type": "markdown",
   "id": "324932a3-4db1-4e00-9a62-42704811f806",
   "metadata": {},
   "source": [
    "## Declaración Función Visualización Gráfica"
   ]
  },
  {
   "cell_type": "code",
   "execution_count": 70,
   "id": "c1da894b-d5e7-4faa-b855-3a285dae892e",
   "metadata": {
    "jupyter": {
     "source_hidden": true
    }
   },
   "outputs": [],
   "source": [
    "# 1. Función para graficar valores nulos por columna\n",
    "graficar_nulos <- function(df) {\n",
    "  nulos <- colSums(is.na(df))\n",
    "  datos_nulos <- data.frame(Columna = names(nulos), Nulos = as.numeric(nulos))\n",
    "  \n",
    "  ggplot(datos_nulos, aes(x = reorder(Columna, -Nulos), y = Nulos)) +\n",
    "    geom_bar(stat = \"identity\", fill = \"tomato\") +\n",
    "    labs(title = \"Valores nulos por columna\", x = \"Columnas\", y = \"Cantidad de nulos\") +\n",
    "    theme(axis.text.x = element_text(angle = 45, hjust = 1))\n",
    "}\n",
    "\n",
    "# 2. Función para graficar valores máximos y mínimos\n",
    "graficar_max_min <- function(df) {\n",
    "  maximos <- sapply(df, function(col) if(is.numeric(col)) max(col, na.rm = TRUE) else NA)\n",
    "  minimos <- sapply(df, function(col) if(is.numeric(col)) min(col, na.rm = TRUE) else NA)\n",
    "  \n",
    "  datos_extremos <- data.frame(\n",
    "    Columna = names(df),\n",
    "    Maximo = as.numeric(maximos),\n",
    "    Minimo = as.numeric(minimos)\n",
    "  )\n",
    "  \n",
    "  datos_extremos <- datos_extremos[!is.na(datos_extremos$Maximo), ]\n",
    "  \n",
    "  ggplot(datos_extremos, aes(x = reorder(Columna, Maximo))) +\n",
    "    geom_segment(aes(xend = Columna, y = Minimo, yend = Maximo), color = \"gray\") +\n",
    "    geom_point(aes(y = Maximo), color = \"red\", size = 3) +\n",
    "    geom_point(aes(y = Minimo), color = \"blue\", size = 3) +\n",
    "    labs(title = \"Valores máximos (rojo) y mínimos (azul) por columna\", \n",
    "         x = \"Columnas\", y = \"Valor\") +\n",
    "    coord_flip() +\n",
    "    theme_minimal()\n",
    "}\n",
    "\n",
    "# 3. Función para graficar desviaciones estándar\n",
    "graficar_desviaciones <- function(df) {\n",
    "  desviaciones <- sapply(df, function(col) if(is.numeric(col)) sd(col, na.rm = TRUE) else NA)\n",
    "  datos_desviaciones <- data.frame(Columna = names(desviaciones), \n",
    "                                  Desviacion = as.numeric(desviaciones))\n",
    "  \n",
    "  datos_desviaciones <- datos_desviaciones[!is.na(datos_desviaciones$Desviacion), ]\n",
    "  \n",
    "  ggplot(datos_desviaciones, aes(x = reorder(Columna, -Desviacion), y = Desviacion)) +\n",
    "    geom_bar(stat = \"identity\", fill = \"darkgreen\") +\n",
    "    labs(title = \"Desviación estándar por columna numérica\", \n",
    "         x = \"Columnas\", y = \"Desviación estándar\") +\n",
    "    theme(axis.text.x = element_text(angle = 45, hjust = 1))\n",
    "}\n",
    "\n",
    "# 4. Función para graficar valores atípicos\n",
    "graficar_atipicos <- function(df) {\n",
    "  detectar_outliers <- function(col) {\n",
    "    if (!is.numeric(col)) return(NA)\n",
    "    Q1 <- quantile(col, 0.25, na.rm = TRUE)\n",
    "    Q3 <- quantile(col, 0.75, na.rm = TRUE)\n",
    "    IQR_val <- Q3 - Q1\n",
    "    outliers <- which(col < (Q1 - 1.5 * IQR_val) | col > (Q3 + 1.5 * IQR_val))\n",
    "    return(length(outliers))\n",
    "  }\n",
    "  \n",
    "  atipicos <- sapply(df, detectar_outliers)\n",
    "  datos_atipicos <- data.frame(Columna = names(atipicos), \n",
    "                              Atipicos = as.numeric(atipicos))\n",
    "  \n",
    "  datos_atipicos <- datos_atipicos[!is.na(datos_atipicos$Atipicos), ]\n",
    "  \n",
    "  ggplot(datos_atipicos, aes(x = reorder(Columna, -Atipicos), y = Atipicos)) +\n",
    "    geom_bar(stat = \"identity\", fill = \"purple\") +\n",
    "    labs(title = \"Valores atípicos por columna numérica\", \n",
    "         x = \"Columnas\", y = \"Cantidad de atípicos\") +\n",
    "    theme(axis.text.x = element_text(angle = 45, hjust = 1))\n",
    "}\n",
    "\n",
    "# Función principal que genera todos los gráficos\n",
    "generar_graficos_analisis <- function(df) {\n",
    "  plot_list <- list(\n",
    "    graficar_nulos(df),\n",
    "    graficar_max_min(df),\n",
    "    graficar_desviaciones(df),\n",
    "    graficar_atipicos(df)\n",
    "  )\n",
    "  \n",
    "  grid.arrange(grobs = plot_list, ncol = 2)\n",
    "}"
   ]
  },
  {
   "cell_type": "markdown",
   "id": "c3876036-4a44-4928-8117-1642fbb33d7f",
   "metadata": {},
   "source": [
    "## Resultados Analisis Datos"
   ]
  },
  {
   "cell_type": "code",
   "execution_count": 71,
   "id": "fe45c1ca-bc40-4cfb-b4d0-232cc80ebaf6",
   "metadata": {},
   "outputs": [
    {
     "name": "stdout",
     "output_type": "stream",
     "text": [
      "== Análisis Tabla Fire Archive M6 96619 ==\n",
      "\n",
      " a. Elementos nulos por columna:\n",
      "  latitude  longitude brightness       scan      track   acq_date   acq_time \n",
      "         0          0          0          0          0          0          0 \n",
      " satellite instrument confidence    version bright_t31        frp   daynight \n",
      "         0          0          0          0          0          0          0 \n",
      "      type \n",
      "         0 \n",
      "\n",
      " b. Valores máximos por columna numérica:\n",
      "  latitude  longitude brightness       scan      track   acq_date   acq_time \n",
      "  -10.0726   153.4904   504.4000     4.8000     2.0000         NA  2359.0000 \n",
      " satellite instrument confidence    version bright_t31        frp   daynight \n",
      "        NA         NA   100.0000     6.3000   400.1000  3679.5000         NA \n",
      "      type \n",
      "    3.0000 \n",
      "\n",
      " b_1. Valores mínimos por columna numérica:\n",
      "  latitude  longitude brightness       scan      track   acq_date   acq_time \n",
      "  -42.7628   114.1043   300.0000     1.0000     1.0000         NA     0.0000 \n",
      " satellite instrument confidence    version bright_t31        frp   daynight \n",
      "        NA         NA     0.0000     6.3000   267.0000     0.0000         NA \n",
      "      type \n",
      "    0.0000 \n",
      "\n",
      " c. Desviación estándar por columna numérica:\n",
      "   latitude   longitude  brightness        scan       track    acq_date \n",
      "  7.2657771   9.2614002  18.9928077   0.8137639   0.2478522          NA \n",
      "   acq_time   satellite  instrument  confidence     version  bright_t31 \n",
      "548.3691109          NA          NA  23.1799462   0.0000000   9.7244621 \n",
      "        frp    daynight        type \n",
      " 92.2801116          NA   0.1983263 \n",
      "\n",
      " d. Cantidad de valores atípicos por columna numérica (basado en IQR):\n",
      "  latitude  longitude brightness       scan      track   acq_date   acq_time \n",
      "         0          0       1478       2762       1853         NA       8610 \n",
      " satellite instrument confidence    version bright_t31        frp   daynight \n",
      "        NA         NA        320          0         44       3424         NA \n",
      "      type \n",
      "       345 \n"
     ]
    }
   ],
   "source": [
    "analizar_dataframe(fire_archive_M6_96619)"
   ]
  },
  {
   "cell_type": "markdown",
   "id": "13dfd7c4-7cfd-4963-8983-b11ad5781be7",
   "metadata": {},
   "source": [
    "## Generación de Todos los Gráficos"
   ]
  },
  {
   "cell_type": "code",
   "execution_count": 72,
   "id": "ad2e0482-83c3-4060-b5ae-736698ca8200",
   "metadata": {},
   "outputs": [
    {
     "data": {
      "image/png": "[encoded data removed]",
      "text/plain": [
       "plot without title"
      ]
     },
     "metadata": {},
     "output_type": "display_data"
    }
   ],
   "source": [
    "generar_graficos_analisis(fire_archive_M6_96619)"
   ]
  },
  {
   "cell_type": "markdown",
   "id": "fcb5f9a8-9d37-44cb-a080-f566f410428e",
   "metadata": {},
   "source": [
    "# Fire Archive V1 96617"
   ]
  },
  {
   "cell_type": "markdown",
   "id": "58a27894-9b56-4270-bdf6-17f0662baf8c",
   "metadata": {},
   "source": [
    "### Se carga el archivo CVS"
   ]
  },
  {
   "cell_type": "code",
   "execution_count": 73,
   "id": "f0150bbc-9d68-45fa-b7f2-7065b2f73ff3",
   "metadata": {},
   "outputs": [],
   "source": [
    "fire_archive_V1_96617 <- read.csv(\"C:/Users/alans/OneDrive/Documentos/Universidad_TecMilenio/PROFESIONAL/4to.SEMESTRE/BigData_Códigos/Evidencia_1/FIRE_AUSTRALIA/fire_archive_V1_96617.csv\")"
   ]
  },
  {
   "cell_type": "markdown",
   "id": "ed6a02b8-964b-46d5-92cf-cfcac276d16f",
   "metadata": {},
   "source": [
    "### Visualizador Rapido de las Primeras Filas del conjunto de datos"
   ]
  },
  {
   "cell_type": "code",
   "execution_count": 16,
   "id": "20ed3849-35f9-4eb1-82bb-3fc77fdc9aae",
   "metadata": {
    "collapsed": true,
    "jupyter": {
     "outputs_hidden": true
    },
    "scrolled": true
   },
   "outputs": [
    {
     "data": {
      "text/html": [
       "<table>\n",
       "<thead><tr><th scope=col>latitude</th><th scope=col>longitude</th><th scope=col>bright_ti4</th><th scope=col>scan</th><th scope=col>track</th><th scope=col>acq_date</th><th scope=col>acq_time</th><th scope=col>satellite</th><th scope=col>instrument</th><th scope=col>confidence</th><th scope=col>version</th><th scope=col>bright_ti5</th><th scope=col>frp</th><th scope=col>type</th></tr></thead>\n",
       "<tbody>\n",
       "\t<tr><td>-34.45902 </td><td>150.8804  </td><td>326.5     </td><td>0.60      </td><td>0.71      </td><td>2019-08-01</td><td>246       </td><td>N         </td><td>VIIRS     </td><td>n         </td><td>1         </td><td>290.7     </td><td> 5.8      </td><td>3         </td></tr>\n",
       "\t<tr><td>-31.70724 </td><td>151.0719  </td><td>367.0     </td><td>0.56      </td><td>0.69      </td><td>2019-08-01</td><td>247       </td><td>N         </td><td>VIIRS     </td><td>h         </td><td>1         </td><td>291.9     </td><td>10.4      </td><td>0         </td></tr>\n",
       "\t<tr><td>-31.39626 </td><td>149.6525  </td><td>325.2     </td><td>0.68      </td><td>0.74      </td><td>2019-08-01</td><td>247       </td><td>N         </td><td>VIIRS     </td><td>n         </td><td>1         </td><td>292.7     </td><td> 5.6      </td><td>0         </td></tr>\n",
       "\t<tr><td>-30.39774 </td><td>152.0643  </td><td>347.8     </td><td>0.48      </td><td>0.65      </td><td>2019-08-01</td><td>247       </td><td>N         </td><td>VIIRS     </td><td>n         </td><td>1         </td><td>287.6     </td><td> 9.1      </td><td>0         </td></tr>\n",
       "\t<tr><td>-31.20248 </td><td>151.8977  </td><td>350.7     </td><td>0.50      </td><td>0.66      </td><td>2019-08-01</td><td>247       </td><td>N         </td><td>VIIRS     </td><td>n         </td><td>1         </td><td>292.3     </td><td> 9.4      </td><td>0         </td></tr>\n",
       "\t<tr><td>-31.20390 </td><td>151.8957  </td><td>353.3     </td><td>0.50      </td><td>0.66      </td><td>2019-08-01</td><td>247       </td><td>N         </td><td>VIIRS     </td><td>n         </td><td>1         </td><td>290.9     </td><td>12.7      </td><td>0         </td></tr>\n",
       "</tbody>\n",
       "</table>\n"
      ],
      "text/latex": [
       "\\begin{tabular}{r|llllllllllllll}\n",
       " latitude & longitude & bright\\_ti4 & scan & track & acq\\_date & acq\\_time & satellite & instrument & confidence & version & bright\\_ti5 & frp & type\\\\\n",
       "\\hline\n",
       "\t -34.45902  & 150.8804   & 326.5      & 0.60       & 0.71       & 2019-08-01 & 246        & N          & VIIRS      & n          & 1          & 290.7      &  5.8       & 3         \\\\\n",
       "\t -31.70724  & 151.0719   & 367.0      & 0.56       & 0.69       & 2019-08-01 & 247        & N          & VIIRS      & h          & 1          & 291.9      & 10.4       & 0         \\\\\n",
       "\t -31.39626  & 149.6525   & 325.2      & 0.68       & 0.74       & 2019-08-01 & 247        & N          & VIIRS      & n          & 1          & 292.7      &  5.6       & 0         \\\\\n",
       "\t -30.39774  & 152.0643   & 347.8      & 0.48       & 0.65       & 2019-08-01 & 247        & N          & VIIRS      & n          & 1          & 287.6      &  9.1       & 0         \\\\\n",
       "\t -31.20248  & 151.8977   & 350.7      & 0.50       & 0.66       & 2019-08-01 & 247        & N          & VIIRS      & n          & 1          & 292.3      &  9.4       & 0         \\\\\n",
       "\t -31.20390  & 151.8957   & 353.3      & 0.50       & 0.66       & 2019-08-01 & 247        & N          & VIIRS      & n          & 1          & 290.9      & 12.7       & 0         \\\\\n",
       "\\end{tabular}\n"
      ],
      "text/markdown": [
       "\n",
       "| latitude | longitude | bright_ti4 | scan | track | acq_date | acq_time | satellite | instrument | confidence | version | bright_ti5 | frp | type |\n",
       "|---|---|---|---|---|---|---|---|---|---|---|---|---|---|\n",
       "| -34.45902  | 150.8804   | 326.5      | 0.60       | 0.71       | 2019-08-01 | 246        | N          | VIIRS      | n          | 1          | 290.7      |  5.8       | 3          |\n",
       "| -31.70724  | 151.0719   | 367.0      | 0.56       | 0.69       | 2019-08-01 | 247        | N          | VIIRS      | h          | 1          | 291.9      | 10.4       | 0          |\n",
       "| -31.39626  | 149.6525   | 325.2      | 0.68       | 0.74       | 2019-08-01 | 247        | N          | VIIRS      | n          | 1          | 292.7      |  5.6       | 0          |\n",
       "| -30.39774  | 152.0643   | 347.8      | 0.48       | 0.65       | 2019-08-01 | 247        | N          | VIIRS      | n          | 1          | 287.6      |  9.1       | 0          |\n",
       "| -31.20248  | 151.8977   | 350.7      | 0.50       | 0.66       | 2019-08-01 | 247        | N          | VIIRS      | n          | 1          | 292.3      |  9.4       | 0          |\n",
       "| -31.20390  | 151.8957   | 353.3      | 0.50       | 0.66       | 2019-08-01 | 247        | N          | VIIRS      | n          | 1          | 290.9      | 12.7       | 0          |\n",
       "\n"
      ],
      "text/plain": [
       "  latitude  longitude bright_ti4 scan track acq_date   acq_time satellite\n",
       "1 -34.45902 150.8804  326.5      0.60 0.71  2019-08-01 246      N        \n",
       "2 -31.70724 151.0719  367.0      0.56 0.69  2019-08-01 247      N        \n",
       "3 -31.39626 149.6525  325.2      0.68 0.74  2019-08-01 247      N        \n",
       "4 -30.39774 152.0643  347.8      0.48 0.65  2019-08-01 247      N        \n",
       "5 -31.20248 151.8977  350.7      0.50 0.66  2019-08-01 247      N        \n",
       "6 -31.20390 151.8957  353.3      0.50 0.66  2019-08-01 247      N        \n",
       "  instrument confidence version bright_ti5 frp  type\n",
       "1 VIIRS      n          1       290.7       5.8 3   \n",
       "2 VIIRS      h          1       291.9      10.4 0   \n",
       "3 VIIRS      n          1       292.7       5.6 0   \n",
       "4 VIIRS      n          1       287.6       9.1 0   \n",
       "5 VIIRS      n          1       292.3       9.4 0   \n",
       "6 VIIRS      n          1       290.9      12.7 0   "
      ]
     },
     "metadata": {},
     "output_type": "display_data"
    }
   ],
   "source": [
    "head(fire_archive_V1_96617)"
   ]
  },
  {
   "cell_type": "markdown",
   "id": "13ac77f7-59b4-4367-bee8-9a21ce017069",
   "metadata": {},
   "source": [
    "### Estructura del Conjunto de Datos"
   ]
  },
  {
   "cell_type": "code",
   "execution_count": 17,
   "id": "5e008a07-29cb-4ad5-b9a1-8a45b6d4623a",
   "metadata": {
    "collapsed": true,
    "jupyter": {
     "outputs_hidden": true
    }
   },
   "outputs": [
    {
     "name": "stdout",
     "output_type": "stream",
     "text": [
      "'data.frame':\t184778 obs. of  14 variables:\n",
      " $ latitude  : num  -34.5 -31.7 -31.4 -30.4 -31.2 ...\n",
      " $ longitude : num  151 151 150 152 152 ...\n",
      " $ bright_ti4: num  326 367 325 348 351 ...\n",
      " $ scan      : num  0.6 0.56 0.68 0.48 0.5 0.5 0.59 0.55 0.79 0.79 ...\n",
      " $ track     : num  0.71 0.69 0.74 0.65 0.66 0.66 0.7 0.68 0.78 0.78 ...\n",
      " $ acq_date  : Factor w/ 61 levels \"2019-08-01\",\"2019-08-02\",..: 1 1 1 1 1 1 1 1 1 1 ...\n",
      " $ acq_time  : int  246 247 247 247 247 247 247 247 247 247 ...\n",
      " $ satellite : Factor w/ 1 level \"N\": 1 1 1 1 1 1 1 1 1 1 ...\n",
      " $ instrument: Factor w/ 1 level \"VIIRS\": 1 1 1 1 1 1 1 1 1 1 ...\n",
      " $ confidence: Factor w/ 3 levels \"h\",\"l\",\"n\": 3 1 3 3 3 3 3 1 1 1 ...\n",
      " $ version   : int  1 1 1 1 1 1 1 1 1 1 ...\n",
      " $ bright_ti5: num  291 292 293 288 292 ...\n",
      " $ frp       : num  5.8 10.4 5.6 9.1 9.4 12.7 3.5 16.6 44.3 31.2 ...\n",
      " $ type      : int  3 0 0 0 0 0 0 0 0 0 ...\n"
     ]
    }
   ],
   "source": [
    "# Mostrar la estructura del conjunto de datos (tipos columnas, etc)\n",
    "str(fire_archive_V1_96617)"
   ]
  },
  {
   "cell_type": "markdown",
   "id": "0ec6ba8b-a0ed-470b-9318-38ba684d1e85",
   "metadata": {},
   "source": [
    "### Estadistica de las variables númericos"
   ]
  },
  {
   "cell_type": "code",
   "execution_count": 18,
   "id": "de4a6611-a145-41c8-9ef9-b044547d0747",
   "metadata": {
    "collapsed": true,
    "jupyter": {
     "outputs_hidden": true
    }
   },
   "outputs": [
    {
     "data": {
      "text/plain": [
       "    latitude         longitude       bright_ti4         scan       \n",
       " Min.   :-43.080   Min.   :114.1   Min.   :208.0   Min.   :0.3200  \n",
       " 1st Qu.:-28.163   1st Qu.:131.4   1st Qu.:310.9   1st Qu.:0.3900  \n",
       " Median :-16.207   Median :141.6   Median :335.9   Median :0.4400  \n",
       " Mean   :-19.685   Mean   :139.7   Mean   :331.6   Mean   :0.4629  \n",
       " 3rd Qu.:-13.544   3rd Qu.:150.2   3rd Qu.:346.7   3rd Qu.:0.5200  \n",
       " Max.   : -9.394   Max.   :153.5   Max.   :367.0   Max.   :0.8000  \n",
       "                                                                   \n",
       "     track              acq_date         acq_time      satellite \n",
       " Min.   :0.3600   2019-09-09:  7450   Min.   : 229.0   N:184778  \n",
       " 1st Qu.:0.3800   2019-09-10:  6882   1st Qu.: 415.0             \n",
       " Median :0.4500   2019-09-06:  6817   Median : 511.0             \n",
       " Mean   :0.4875   2019-09-07:  6691   Mean   : 899.2             \n",
       " 3rd Qu.:0.5700   2019-09-08:  6186   3rd Qu.:1528.0             \n",
       " Max.   :0.7800   2019-09-14:  4838   Max.   :1827.0             \n",
       "                  (Other)   :145914                              \n",
       " instrument     confidence    version    bright_ti5         frp         \n",
       " VIIRS:184778   h: 13597   Min.   :1   Min.   :253.4   Min.   :  0.100  \n",
       "                l: 13256   1st Qu.:1   1st Qu.:288.2   1st Qu.:  1.800  \n",
       "                n:157925   Median :1   Median :296.4   Median :  4.500  \n",
       "                           Mean   :1   Mean   :297.6   Mean   :  8.632  \n",
       "                           3rd Qu.:1   3rd Qu.:306.8   3rd Qu.:  9.000  \n",
       "                           Max.   :1   Max.   :380.0   Max.   :595.200  \n",
       "                                                                        \n",
       "      type        \n",
       " Min.   :0.00000  \n",
       " 1st Qu.:0.00000  \n",
       " Median :0.00000  \n",
       " Mean   :0.06489  \n",
       " 3rd Qu.:0.00000  \n",
       " Max.   :3.00000  \n",
       "                  "
      ]
     },
     "metadata": {},
     "output_type": "display_data"
    }
   ],
   "source": [
    "# Resumen estadistico de las variables númericas\n",
    "summary(fire_archive_V1_96617)"
   ]
  },
  {
   "cell_type": "markdown",
   "id": "06e004ba-0601-4289-a5d3-1f2a668208de",
   "metadata": {},
   "source": [
    "### Resumen de la Tabla Fire Archive FV1 96617"
   ]
  },
  {
   "cell_type": "code",
   "execution_count": 19,
   "id": "1ccc7763-cb3f-4bb4-8a37-ba3d20069cfe",
   "metadata": {
    "collapsed": true,
    "jupyter": {
     "outputs_hidden": true
    }
   },
   "outputs": [
    {
     "data": {
      "text/html": [
       "<table>\n",
       "<thead><tr><th scope=col>latitude</th><th scope=col>longitude</th><th scope=col>bright_ti4</th><th scope=col>scan</th><th scope=col>track</th><th scope=col>acq_date</th><th scope=col>acq_time</th><th scope=col>satellite</th><th scope=col>instrument</th><th scope=col>confidence</th><th scope=col>version</th><th scope=col>bright_ti5</th><th scope=col>frp</th><th scope=col>type</th></tr></thead>\n",
       "<tbody>\n",
       "\t<tr><td>-34.45902 </td><td>150.8804  </td><td>326.5     </td><td>0.60      </td><td>0.71      </td><td>2019-08-01</td><td>246       </td><td>N         </td><td>VIIRS     </td><td>n         </td><td>1         </td><td>290.7     </td><td> 5.8      </td><td>3         </td></tr>\n",
       "\t<tr><td>-31.70724 </td><td>151.0719  </td><td>367.0     </td><td>0.56      </td><td>0.69      </td><td>2019-08-01</td><td>247       </td><td>N         </td><td>VIIRS     </td><td>h         </td><td>1         </td><td>291.9     </td><td>10.4      </td><td>0         </td></tr>\n",
       "\t<tr><td>-31.39626 </td><td>149.6525  </td><td>325.2     </td><td>0.68      </td><td>0.74      </td><td>2019-08-01</td><td>247       </td><td>N         </td><td>VIIRS     </td><td>n         </td><td>1         </td><td>292.7     </td><td> 5.6      </td><td>0         </td></tr>\n",
       "\t<tr><td>-30.39774 </td><td>152.0643  </td><td>347.8     </td><td>0.48      </td><td>0.65      </td><td>2019-08-01</td><td>247       </td><td>N         </td><td>VIIRS     </td><td>n         </td><td>1         </td><td>287.6     </td><td> 9.1      </td><td>0         </td></tr>\n",
       "\t<tr><td>-31.20248 </td><td>151.8977  </td><td>350.7     </td><td>0.50      </td><td>0.66      </td><td>2019-08-01</td><td>247       </td><td>N         </td><td>VIIRS     </td><td>n         </td><td>1         </td><td>292.3     </td><td> 9.4      </td><td>0         </td></tr>\n",
       "\t<tr><td>-31.20390 </td><td>151.8957  </td><td>353.3     </td><td>0.50      </td><td>0.66      </td><td>2019-08-01</td><td>247       </td><td>N         </td><td>VIIRS     </td><td>n         </td><td>1         </td><td>290.9     </td><td>12.7      </td><td>0         </td></tr>\n",
       "\t<tr><td>-31.37280 </td><td>150.6890  </td><td>327.5     </td><td>0.59      </td><td>0.70      </td><td>2019-08-01</td><td>247       </td><td>N         </td><td>VIIRS     </td><td>n         </td><td>1         </td><td>291.3     </td><td> 3.5      </td><td>0         </td></tr>\n",
       "\t<tr><td>-30.08108 </td><td>151.0518  </td><td>367.0     </td><td>0.55      </td><td>0.68      </td><td>2019-08-01</td><td>247       </td><td>N         </td><td>VIIRS     </td><td>h         </td><td>1         </td><td>291.9     </td><td>16.6      </td><td>0         </td></tr>\n",
       "\t<tr><td>-31.78818 </td><td>148.4958  </td><td>367.0     </td><td>0.79      </td><td>0.78      </td><td>2019-08-01</td><td>247       </td><td>N         </td><td>VIIRS     </td><td>h         </td><td>1         </td><td>294.7     </td><td>44.3      </td><td>0         </td></tr>\n",
       "\t<tr><td>-31.78719 </td><td>148.4947  </td><td>367.0     </td><td>0.79      </td><td>0.78      </td><td>2019-08-01</td><td>247       </td><td>N         </td><td>VIIRS     </td><td>h         </td><td>1         </td><td>294.0     </td><td>31.2      </td><td>0         </td></tr>\n",
       "\t<tr><td>-42.71249 </td><td>147.5830  </td><td>326.5     </td><td>0.46      </td><td>0.39      </td><td>2019-08-01</td><td>424       </td><td>N         </td><td>VIIRS     </td><td>n         </td><td>1         </td><td>287.1     </td><td> 3.0      </td><td>0         </td></tr>\n",
       "\t<tr><td>-42.37209 </td><td>147.4875  </td><td>330.0     </td><td>0.47      </td><td>0.39      </td><td>2019-08-01</td><td>425       </td><td>N         </td><td>VIIRS     </td><td>n         </td><td>1         </td><td>281.0     </td><td> 6.0      </td><td>0         </td></tr>\n",
       "\t<tr><td>-42.36105 </td><td>146.9285  </td><td>327.4     </td><td>0.45      </td><td>0.39      </td><td>2019-08-01</td><td>425       </td><td>N         </td><td>VIIRS     </td><td>n         </td><td>1         </td><td>280.8     </td><td> 1.9      </td><td>0         </td></tr>\n",
       "\t<tr><td>-42.29099 </td><td>146.8811  </td><td>340.9     </td><td>0.45      </td><td>0.39      </td><td>2019-08-01</td><td>425       </td><td>N         </td><td>VIIRS     </td><td>n         </td><td>1         </td><td>284.7     </td><td>13.0      </td><td>0         </td></tr>\n",
       "\t<tr><td>-41.00097 </td><td>145.6323  </td><td>327.1     </td><td>0.43      </td><td>0.38      </td><td>2019-08-01</td><td>425       </td><td>N         </td><td>VIIRS     </td><td>n         </td><td>1         </td><td>284.4     </td><td> 8.5      </td><td>0         </td></tr>\n",
       "\t<tr><td>-36.57822 </td><td>145.8465  </td><td>328.0     </td><td>0.50      </td><td>0.41      </td><td>2019-08-01</td><td>426       </td><td>N         </td><td>VIIRS     </td><td>n         </td><td>1         </td><td>285.9     </td><td> 2.4      </td><td>0         </td></tr>\n",
       "\t<tr><td>-37.09430 </td><td>147.5002  </td><td>341.3     </td><td>0.38      </td><td>0.43      </td><td>2019-08-01</td><td>426       </td><td>N         </td><td>VIIRS     </td><td>n         </td><td>1         </td><td>284.1     </td><td> 3.0      </td><td>0         </td></tr>\n",
       "\t<tr><td>-34.91529 </td><td>149.8246  </td><td>325.9     </td><td>0.56      </td><td>0.51      </td><td>2019-08-01</td><td>426       </td><td>N         </td><td>VIIRS     </td><td>n         </td><td>1         </td><td>287.1     </td><td> 3.5      </td><td>0         </td></tr>\n",
       "\t<tr><td>-34.46161 </td><td>150.8830  </td><td>325.7     </td><td>0.33      </td><td>0.55      </td><td>2019-08-01</td><td>426       </td><td>N         </td><td>VIIRS     </td><td>n         </td><td>1         </td><td>292.5     </td><td> 2.4      </td><td>2         </td></tr>\n",
       "\t<tr><td>-36.34436 </td><td>149.5090  </td><td>344.2     </td><td>0.50      </td><td>0.49      </td><td>2019-08-01</td><td>426       </td><td>N         </td><td>VIIRS     </td><td>n         </td><td>1         </td><td>290.7     </td><td> 9.5      </td><td>0         </td></tr>\n",
       "\t<tr><td>-33.54812 </td><td>147.8094  </td><td>338.8     </td><td>0.47      </td><td>0.48      </td><td>2019-08-01</td><td>427       </td><td>N         </td><td>VIIRS     </td><td>n         </td><td>1         </td><td>293.4     </td><td> 3.8      </td><td>0         </td></tr>\n",
       "\t<tr><td>-34.41890 </td><td>147.4453  </td><td>330.0     </td><td>0.43      </td><td>0.46      </td><td>2019-08-01</td><td>427       </td><td>N         </td><td>VIIRS     </td><td>n         </td><td>1         </td><td>288.5     </td><td> 3.0      </td><td>0         </td></tr>\n",
       "\t<tr><td>-34.14386 </td><td>147.7658  </td><td>343.0     </td><td>0.45      </td><td>0.47      </td><td>2019-08-01</td><td>427       </td><td>N         </td><td>VIIRS     </td><td>n         </td><td>1         </td><td>289.6     </td><td> 5.8      </td><td>0         </td></tr>\n",
       "\t<tr><td>-33.77158 </td><td>148.4593  </td><td>334.9     </td><td>0.50      </td><td>0.49      </td><td>2019-08-01</td><td>427       </td><td>N         </td><td>VIIRS     </td><td>n         </td><td>1         </td><td>289.3     </td><td> 2.9      </td><td>0         </td></tr>\n",
       "\t<tr><td>-31.79152 </td><td>148.4936  </td><td>336.3     </td><td>0.55      </td><td>0.51      </td><td>2019-08-01</td><td>427       </td><td>N         </td><td>VIIRS     </td><td>n         </td><td>1         </td><td>297.6     </td><td>19.5      </td><td>0         </td></tr>\n",
       "\t<tr><td>-31.69685 </td><td>147.7618  </td><td>337.6     </td><td>0.51      </td><td>0.49      </td><td>2019-08-01</td><td>427       </td><td>N         </td><td>VIIRS     </td><td>n         </td><td>1         </td><td>297.0     </td><td> 5.2      </td><td>0         </td></tr>\n",
       "\t<tr><td>-32.80127 </td><td>149.3598  </td><td>338.4     </td><td>0.59      </td><td>0.53      </td><td>2019-08-01</td><td>427       </td><td>N         </td><td>VIIRS     </td><td>n         </td><td>1         </td><td>293.2     </td><td> 5.4      </td><td>0         </td></tr>\n",
       "\t<tr><td>-31.79020 </td><td>148.4994  </td><td>343.2     </td><td>0.55      </td><td>0.51      </td><td>2019-08-01</td><td>427       </td><td>N         </td><td>VIIRS     </td><td>n         </td><td>1         </td><td>298.2     </td><td>32.6      </td><td>0         </td></tr>\n",
       "\t<tr><td>-33.09182 </td><td>147.1050  </td><td>336.6     </td><td>0.44      </td><td>0.46      </td><td>2019-08-01</td><td>427       </td><td>N         </td><td>VIIRS     </td><td>n         </td><td>1         </td><td>295.4     </td><td> 4.1      </td><td>0         </td></tr>\n",
       "\t<tr><td>-34.41789 </td><td>147.4500  </td><td>336.6     </td><td>0.43      </td><td>0.46      </td><td>2019-08-01</td><td>427       </td><td>N         </td><td>VIIRS     </td><td>n         </td><td>1         </td><td>287.7     </td><td> 4.0      </td><td>0         </td></tr>\n",
       "\t<tr><td>...</td><td>...</td><td>...</td><td>...</td><td>...</td><td>...</td><td>...</td><td>...</td><td>...</td><td>...</td><td>...</td><td>...</td><td>...</td><td>...</td></tr>\n",
       "\t<tr><td>-33.12677 </td><td>116.0500  </td><td>317.9     </td><td>0.47      </td><td>0.40      </td><td>2019-09-30</td><td>1702      </td><td>N         </td><td>VIIRS     </td><td>n         </td><td>1         </td><td>285.3     </td><td>1.1       </td><td>0         </td></tr>\n",
       "\t<tr><td>-33.12772 </td><td>116.0550  </td><td>311.5     </td><td>0.47      </td><td>0.40      </td><td>2019-09-30</td><td>1702      </td><td>N         </td><td>VIIRS     </td><td>n         </td><td>1         </td><td>284.8     </td><td>1.1       </td><td>0         </td></tr>\n",
       "\t<tr><td>-32.35649 </td><td>116.0991  </td><td>296.5     </td><td>0.48      </td><td>0.40      </td><td>2019-09-30</td><td>1702      </td><td>N         </td><td>VIIRS     </td><td>n         </td><td>1         </td><td>285.0     </td><td>0.8       </td><td>0         </td></tr>\n",
       "\t<tr><td>-33.13325 </td><td>116.0640  </td><td>306.0     </td><td>0.47      </td><td>0.39      </td><td>2019-09-30</td><td>1702      </td><td>N         </td><td>VIIRS     </td><td>n         </td><td>1         </td><td>284.1     </td><td>0.9       </td><td>0         </td></tr>\n",
       "\t<tr><td>-33.12867 </td><td>116.0599  </td><td>300.1     </td><td>0.47      </td><td>0.40      </td><td>2019-09-30</td><td>1702      </td><td>N         </td><td>VIIRS     </td><td>n         </td><td>1         </td><td>283.9     </td><td>0.9       </td><td>0         </td></tr>\n",
       "\t<tr><td>-31.10566 </td><td>115.6259  </td><td>295.6     </td><td>0.52      </td><td>0.42      </td><td>2019-09-30</td><td>1702      </td><td>N         </td><td>VIIRS     </td><td>n         </td><td>1         </td><td>285.1     </td><td>1.3       </td><td>0         </td></tr>\n",
       "\t<tr><td>-31.09094 </td><td>115.6529  </td><td>297.5     </td><td>0.52      </td><td>0.42      </td><td>2019-09-30</td><td>1702      </td><td>N         </td><td>VIIRS     </td><td>n         </td><td>1         </td><td>285.5     </td><td>1.0       </td><td>0         </td></tr>\n",
       "\t<tr><td>-32.47548 </td><td>115.9305  </td><td>298.0     </td><td>0.48      </td><td>0.40      </td><td>2019-09-30</td><td>1702      </td><td>N         </td><td>VIIRS     </td><td>n         </td><td>1         </td><td>284.9     </td><td>0.8       </td><td>0         </td></tr>\n",
       "\t<tr><td>-31.09697 </td><td>115.6225  </td><td>295.8     </td><td>0.52      </td><td>0.42      </td><td>2019-09-30</td><td>1702      </td><td>N         </td><td>VIIRS     </td><td>n         </td><td>1         </td><td>285.0     </td><td>0.8       </td><td>0         </td></tr>\n",
       "\t<tr><td>-31.10177 </td><td>115.6673  </td><td>298.0     </td><td>0.52      </td><td>0.42      </td><td>2019-09-30</td><td>1702      </td><td>N         </td><td>VIIRS     </td><td>n         </td><td>1         </td><td>285.3     </td><td>1.1       </td><td>0         </td></tr>\n",
       "\t<tr><td>-31.09855 </td><td>115.6509  </td><td>296.0     </td><td>0.52      </td><td>0.42      </td><td>2019-09-30</td><td>1702      </td><td>N         </td><td>VIIRS     </td><td>n         </td><td>1         </td><td>285.5     </td><td>0.9       </td><td>0         </td></tr>\n",
       "\t<tr><td>-31.09315 </td><td>115.6235  </td><td>298.4     </td><td>0.52      </td><td>0.42      </td><td>2019-09-30</td><td>1702      </td><td>N         </td><td>VIIRS     </td><td>n         </td><td>1         </td><td>285.3     </td><td>0.8       </td><td>0         </td></tr>\n",
       "\t<tr><td>-31.09797 </td><td>115.6683  </td><td>298.2     </td><td>0.52      </td><td>0.42      </td><td>2019-09-30</td><td>1702      </td><td>N         </td><td>VIIRS     </td><td>n         </td><td>1         </td><td>286.3     </td><td>0.8       </td><td>0         </td></tr>\n",
       "\t<tr><td>-31.09689 </td><td>115.6628  </td><td>303.4     </td><td>0.52      </td><td>0.42      </td><td>2019-09-30</td><td>1702      </td><td>N         </td><td>VIIRS     </td><td>n         </td><td>1         </td><td>286.4     </td><td>0.9       </td><td>0         </td></tr>\n",
       "\t<tr><td>-33.90905 </td><td>116.4298  </td><td>295.3     </td><td>0.44      </td><td>0.39      </td><td>2019-09-30</td><td>1702      </td><td>N         </td><td>VIIRS     </td><td>n         </td><td>1         </td><td>280.4     </td><td>0.6       </td><td>0         </td></tr>\n",
       "\t<tr><td>-31.08934 </td><td>115.6245  </td><td>295.0     </td><td>0.52      </td><td>0.42      </td><td>2019-09-30</td><td>1702      </td><td>N         </td><td>VIIRS     </td><td>n         </td><td>1         </td><td>284.9     </td><td>0.6       </td><td>0         </td></tr>\n",
       "\t<tr><td>-32.35283 </td><td>116.1000  </td><td>295.2     </td><td>0.48      </td><td>0.40      </td><td>2019-09-30</td><td>1702      </td><td>N         </td><td>VIIRS     </td><td>n         </td><td>1         </td><td>284.9     </td><td>0.7       </td><td>0         </td></tr>\n",
       "\t<tr><td>-33.95520 </td><td>116.8039  </td><td>300.5     </td><td>0.43      </td><td>0.38      </td><td>2019-09-30</td><td>1702      </td><td>N         </td><td>VIIRS     </td><td>n         </td><td>1         </td><td>281.7     </td><td>0.8       </td><td>0         </td></tr>\n",
       "\t<tr><td>-33.87012 </td><td>116.7935  </td><td>338.4     </td><td>0.43      </td><td>0.38      </td><td>2019-09-30</td><td>1702      </td><td>N         </td><td>VIIRS     </td><td>n         </td><td>1         </td><td>284.8     </td><td>6.6       </td><td>0         </td></tr>\n",
       "\t<tr><td>-32.10360 </td><td>116.1081  </td><td>297.4     </td><td>0.48      </td><td>0.40      </td><td>2019-09-30</td><td>1702      </td><td>N         </td><td>VIIRS     </td><td>n         </td><td>1         </td><td>284.4     </td><td>1.2       </td><td>0         </td></tr>\n",
       "\t<tr><td>-32.36843 </td><td>116.1012  </td><td>296.8     </td><td>0.48      </td><td>0.40      </td><td>2019-09-30</td><td>1702      </td><td>N         </td><td>VIIRS     </td><td>n         </td><td>1         </td><td>284.6     </td><td>0.7       </td><td>0         </td></tr>\n",
       "\t<tr><td>-33.12409 </td><td>116.0559  </td><td>304.7     </td><td>0.47      </td><td>0.40      </td><td>2019-09-30</td><td>1702      </td><td>N         </td><td>VIIRS     </td><td>n         </td><td>1         </td><td>284.6     </td><td>0.8       </td><td>0         </td></tr>\n",
       "\t<tr><td>-32.37113 </td><td>116.0953  </td><td>301.0     </td><td>0.48      </td><td>0.40      </td><td>2019-09-30</td><td>1702      </td><td>N         </td><td>VIIRS     </td><td>n         </td><td>1         </td><td>285.0     </td><td>1.0       </td><td>0         </td></tr>\n",
       "\t<tr><td>-33.12313 </td><td>116.0509  </td><td>306.9     </td><td>0.47      </td><td>0.40      </td><td>2019-09-30</td><td>1702      </td><td>N         </td><td>VIIRS     </td><td>n         </td><td>1         </td><td>284.8     </td><td>0.8       </td><td>0         </td></tr>\n",
       "\t<tr><td>-33.12216 </td><td>116.0458  </td><td>303.9     </td><td>0.47      </td><td>0.40      </td><td>2019-09-30</td><td>1702      </td><td>N         </td><td>VIIRS     </td><td>n         </td><td>1         </td><td>284.8     </td><td>1.6       </td><td>3         </td></tr>\n",
       "\t<tr><td>-32.37209 </td><td>116.1003  </td><td>296.1     </td><td>0.48      </td><td>0.40      </td><td>2019-09-30</td><td>1702      </td><td>N         </td><td>VIIRS     </td><td>n         </td><td>1         </td><td>284.8     </td><td>1.2       </td><td>0         </td></tr>\n",
       "\t<tr><td>-32.38958 </td><td>116.1115  </td><td>296.1     </td><td>0.48      </td><td>0.40      </td><td>2019-09-30</td><td>1702      </td><td>N         </td><td>VIIRS     </td><td>n         </td><td>1         </td><td>284.7     </td><td>1.1       </td><td>0         </td></tr>\n",
       "\t<tr><td>-33.12481 </td><td>116.0397  </td><td>299.9     </td><td>0.47      </td><td>0.40      </td><td>2019-09-30</td><td>1702      </td><td>N         </td><td>VIIRS     </td><td>n         </td><td>1         </td><td>285.0     </td><td>1.3       </td><td>0         </td></tr>\n",
       "\t<tr><td>-33.63480 </td><td>122.9264  </td><td>296.2     </td><td>0.43      </td><td>0.38      </td><td>2019-09-30</td><td>1702      </td><td>N         </td><td>VIIRS     </td><td>n         </td><td>1         </td><td>285.9     </td><td>0.5       </td><td>0         </td></tr>\n",
       "\t<tr><td>-33.63897 </td><td>122.9305  </td><td>297.3     </td><td>0.44      </td><td>0.38      </td><td>2019-09-30</td><td>1702      </td><td>N         </td><td>VIIRS     </td><td>n         </td><td>1         </td><td>285.9     </td><td>0.6       </td><td>0         </td></tr>\n",
       "</tbody>\n",
       "</table>\n"
      ],
      "text/latex": [
       "\\begin{tabular}{r|llllllllllllll}\n",
       " latitude & longitude & bright\\_ti4 & scan & track & acq\\_date & acq\\_time & satellite & instrument & confidence & version & bright\\_ti5 & frp & type\\\\\n",
       "\\hline\n",
       "\t -34.45902  & 150.8804   & 326.5      & 0.60       & 0.71       & 2019-08-01 & 246        & N          & VIIRS      & n          & 1          & 290.7      &  5.8       & 3         \\\\\n",
       "\t -31.70724  & 151.0719   & 367.0      & 0.56       & 0.69       & 2019-08-01 & 247        & N          & VIIRS      & h          & 1          & 291.9      & 10.4       & 0         \\\\\n",
       "\t -31.39626  & 149.6525   & 325.2      & 0.68       & 0.74       & 2019-08-01 & 247        & N          & VIIRS      & n          & 1          & 292.7      &  5.6       & 0         \\\\\n",
       "\t -30.39774  & 152.0643   & 347.8      & 0.48       & 0.65       & 2019-08-01 & 247        & N          & VIIRS      & n          & 1          & 287.6      &  9.1       & 0         \\\\\n",
       "\t -31.20248  & 151.8977   & 350.7      & 0.50       & 0.66       & 2019-08-01 & 247        & N          & VIIRS      & n          & 1          & 292.3      &  9.4       & 0         \\\\\n",
       "\t -31.20390  & 151.8957   & 353.3      & 0.50       & 0.66       & 2019-08-01 & 247        & N          & VIIRS      & n          & 1          & 290.9      & 12.7       & 0         \\\\\n",
       "\t -31.37280  & 150.6890   & 327.5      & 0.59       & 0.70       & 2019-08-01 & 247        & N          & VIIRS      & n          & 1          & 291.3      &  3.5       & 0         \\\\\n",
       "\t -30.08108  & 151.0518   & 367.0      & 0.55       & 0.68       & 2019-08-01 & 247        & N          & VIIRS      & h          & 1          & 291.9      & 16.6       & 0         \\\\\n",
       "\t -31.78818  & 148.4958   & 367.0      & 0.79       & 0.78       & 2019-08-01 & 247        & N          & VIIRS      & h          & 1          & 294.7      & 44.3       & 0         \\\\\n",
       "\t -31.78719  & 148.4947   & 367.0      & 0.79       & 0.78       & 2019-08-01 & 247        & N          & VIIRS      & h          & 1          & 294.0      & 31.2       & 0         \\\\\n",
       "\t -42.71249  & 147.5830   & 326.5      & 0.46       & 0.39       & 2019-08-01 & 424        & N          & VIIRS      & n          & 1          & 287.1      &  3.0       & 0         \\\\\n",
       "\t -42.37209  & 147.4875   & 330.0      & 0.47       & 0.39       & 2019-08-01 & 425        & N          & VIIRS      & n          & 1          & 281.0      &  6.0       & 0         \\\\\n",
       "\t -42.36105  & 146.9285   & 327.4      & 0.45       & 0.39       & 2019-08-01 & 425        & N          & VIIRS      & n          & 1          & 280.8      &  1.9       & 0         \\\\\n",
       "\t -42.29099  & 146.8811   & 340.9      & 0.45       & 0.39       & 2019-08-01 & 425        & N          & VIIRS      & n          & 1          & 284.7      & 13.0       & 0         \\\\\n",
       "\t -41.00097  & 145.6323   & 327.1      & 0.43       & 0.38       & 2019-08-01 & 425        & N          & VIIRS      & n          & 1          & 284.4      &  8.5       & 0         \\\\\n",
       "\t -36.57822  & 145.8465   & 328.0      & 0.50       & 0.41       & 2019-08-01 & 426        & N          & VIIRS      & n          & 1          & 285.9      &  2.4       & 0         \\\\\n",
       "\t -37.09430  & 147.5002   & 341.3      & 0.38       & 0.43       & 2019-08-01 & 426        & N          & VIIRS      & n          & 1          & 284.1      &  3.0       & 0         \\\\\n",
       "\t -34.91529  & 149.8246   & 325.9      & 0.56       & 0.51       & 2019-08-01 & 426        & N          & VIIRS      & n          & 1          & 287.1      &  3.5       & 0         \\\\\n",
       "\t -34.46161  & 150.8830   & 325.7      & 0.33       & 0.55       & 2019-08-01 & 426        & N          & VIIRS      & n          & 1          & 292.5      &  2.4       & 2         \\\\\n",
       "\t -36.34436  & 149.5090   & 344.2      & 0.50       & 0.49       & 2019-08-01 & 426        & N          & VIIRS      & n          & 1          & 290.7      &  9.5       & 0         \\\\\n",
       "\t -33.54812  & 147.8094   & 338.8      & 0.47       & 0.48       & 2019-08-01 & 427        & N          & VIIRS      & n          & 1          & 293.4      &  3.8       & 0         \\\\\n",
       "\t -34.41890  & 147.4453   & 330.0      & 0.43       & 0.46       & 2019-08-01 & 427        & N          & VIIRS      & n          & 1          & 288.5      &  3.0       & 0         \\\\\n",
       "\t -34.14386  & 147.7658   & 343.0      & 0.45       & 0.47       & 2019-08-01 & 427        & N          & VIIRS      & n          & 1          & 289.6      &  5.8       & 0         \\\\\n",
       "\t -33.77158  & 148.4593   & 334.9      & 0.50       & 0.49       & 2019-08-01 & 427        & N          & VIIRS      & n          & 1          & 289.3      &  2.9       & 0         \\\\\n",
       "\t -31.79152  & 148.4936   & 336.3      & 0.55       & 0.51       & 2019-08-01 & 427        & N          & VIIRS      & n          & 1          & 297.6      & 19.5       & 0         \\\\\n",
       "\t -31.69685  & 147.7618   & 337.6      & 0.51       & 0.49       & 2019-08-01 & 427        & N          & VIIRS      & n          & 1          & 297.0      &  5.2       & 0         \\\\\n",
       "\t -32.80127  & 149.3598   & 338.4      & 0.59       & 0.53       & 2019-08-01 & 427        & N          & VIIRS      & n          & 1          & 293.2      &  5.4       & 0         \\\\\n",
       "\t -31.79020  & 148.4994   & 343.2      & 0.55       & 0.51       & 2019-08-01 & 427        & N          & VIIRS      & n          & 1          & 298.2      & 32.6       & 0         \\\\\n",
       "\t -33.09182  & 147.1050   & 336.6      & 0.44       & 0.46       & 2019-08-01 & 427        & N          & VIIRS      & n          & 1          & 295.4      &  4.1       & 0         \\\\\n",
       "\t -34.41789  & 147.4500   & 336.6      & 0.43       & 0.46       & 2019-08-01 & 427        & N          & VIIRS      & n          & 1          & 287.7      &  4.0       & 0         \\\\\n",
       "\t ... & ... & ... & ... & ... & ... & ... & ... & ... & ... & ... & ... & ... & ...\\\\\n",
       "\t -33.12677  & 116.0500   & 317.9      & 0.47       & 0.40       & 2019-09-30 & 1702       & N          & VIIRS      & n          & 1          & 285.3      & 1.1        & 0         \\\\\n",
       "\t -33.12772  & 116.0550   & 311.5      & 0.47       & 0.40       & 2019-09-30 & 1702       & N          & VIIRS      & n          & 1          & 284.8      & 1.1        & 0         \\\\\n",
       "\t -32.35649  & 116.0991   & 296.5      & 0.48       & 0.40       & 2019-09-30 & 1702       & N          & VIIRS      & n          & 1          & 285.0      & 0.8        & 0         \\\\\n",
       "\t -33.13325  & 116.0640   & 306.0      & 0.47       & 0.39       & 2019-09-30 & 1702       & N          & VIIRS      & n          & 1          & 284.1      & 0.9        & 0         \\\\\n",
       "\t -33.12867  & 116.0599   & 300.1      & 0.47       & 0.40       & 2019-09-30 & 1702       & N          & VIIRS      & n          & 1          & 283.9      & 0.9        & 0         \\\\\n",
       "\t -31.10566  & 115.6259   & 295.6      & 0.52       & 0.42       & 2019-09-30 & 1702       & N          & VIIRS      & n          & 1          & 285.1      & 1.3        & 0         \\\\\n",
       "\t -31.09094  & 115.6529   & 297.5      & 0.52       & 0.42       & 2019-09-30 & 1702       & N          & VIIRS      & n          & 1          & 285.5      & 1.0        & 0         \\\\\n",
       "\t -32.47548  & 115.9305   & 298.0      & 0.48       & 0.40       & 2019-09-30 & 1702       & N          & VIIRS      & n          & 1          & 284.9      & 0.8        & 0         \\\\\n",
       "\t -31.09697  & 115.6225   & 295.8      & 0.52       & 0.42       & 2019-09-30 & 1702       & N          & VIIRS      & n          & 1          & 285.0      & 0.8        & 0         \\\\\n",
       "\t -31.10177  & 115.6673   & 298.0      & 0.52       & 0.42       & 2019-09-30 & 1702       & N          & VIIRS      & n          & 1          & 285.3      & 1.1        & 0         \\\\\n",
       "\t -31.09855  & 115.6509   & 296.0      & 0.52       & 0.42       & 2019-09-30 & 1702       & N          & VIIRS      & n          & 1          & 285.5      & 0.9        & 0         \\\\\n",
       "\t -31.09315  & 115.6235   & 298.4      & 0.52       & 0.42       & 2019-09-30 & 1702       & N          & VIIRS      & n          & 1          & 285.3      & 0.8        & 0         \\\\\n",
       "\t -31.09797  & 115.6683   & 298.2      & 0.52       & 0.42       & 2019-09-30 & 1702       & N          & VIIRS      & n          & 1          & 286.3      & 0.8        & 0         \\\\\n",
       "\t -31.09689  & 115.6628   & 303.4      & 0.52       & 0.42       & 2019-09-30 & 1702       & N          & VIIRS      & n          & 1          & 286.4      & 0.9        & 0         \\\\\n",
       "\t -33.90905  & 116.4298   & 295.3      & 0.44       & 0.39       & 2019-09-30 & 1702       & N          & VIIRS      & n          & 1          & 280.4      & 0.6        & 0         \\\\\n",
       "\t -31.08934  & 115.6245   & 295.0      & 0.52       & 0.42       & 2019-09-30 & 1702       & N          & VIIRS      & n          & 1          & 284.9      & 0.6        & 0         \\\\\n",
       "\t -32.35283  & 116.1000   & 295.2      & 0.48       & 0.40       & 2019-09-30 & 1702       & N          & VIIRS      & n          & 1          & 284.9      & 0.7        & 0         \\\\\n",
       "\t -33.95520  & 116.8039   & 300.5      & 0.43       & 0.38       & 2019-09-30 & 1702       & N          & VIIRS      & n          & 1          & 281.7      & 0.8        & 0         \\\\\n",
       "\t -33.87012  & 116.7935   & 338.4      & 0.43       & 0.38       & 2019-09-30 & 1702       & N          & VIIRS      & n          & 1          & 284.8      & 6.6        & 0         \\\\\n",
       "\t -32.10360  & 116.1081   & 297.4      & 0.48       & 0.40       & 2019-09-30 & 1702       & N          & VIIRS      & n          & 1          & 284.4      & 1.2        & 0         \\\\\n",
       "\t -32.36843  & 116.1012   & 296.8      & 0.48       & 0.40       & 2019-09-30 & 1702       & N          & VIIRS      & n          & 1          & 284.6      & 0.7        & 0         \\\\\n",
       "\t -33.12409  & 116.0559   & 304.7      & 0.47       & 0.40       & 2019-09-30 & 1702       & N          & VIIRS      & n          & 1          & 284.6      & 0.8        & 0         \\\\\n",
       "\t -32.37113  & 116.0953   & 301.0      & 0.48       & 0.40       & 2019-09-30 & 1702       & N          & VIIRS      & n          & 1          & 285.0      & 1.0        & 0         \\\\\n",
       "\t -33.12313  & 116.0509   & 306.9      & 0.47       & 0.40       & 2019-09-30 & 1702       & N          & VIIRS      & n          & 1          & 284.8      & 0.8        & 0         \\\\\n",
       "\t -33.12216  & 116.0458   & 303.9      & 0.47       & 0.40       & 2019-09-30 & 1702       & N          & VIIRS      & n          & 1          & 284.8      & 1.6        & 3         \\\\\n",
       "\t -32.37209  & 116.1003   & 296.1      & 0.48       & 0.40       & 2019-09-30 & 1702       & N          & VIIRS      & n          & 1          & 284.8      & 1.2        & 0         \\\\\n",
       "\t -32.38958  & 116.1115   & 296.1      & 0.48       & 0.40       & 2019-09-30 & 1702       & N          & VIIRS      & n          & 1          & 284.7      & 1.1        & 0         \\\\\n",
       "\t -33.12481  & 116.0397   & 299.9      & 0.47       & 0.40       & 2019-09-30 & 1702       & N          & VIIRS      & n          & 1          & 285.0      & 1.3        & 0         \\\\\n",
       "\t -33.63480  & 122.9264   & 296.2      & 0.43       & 0.38       & 2019-09-30 & 1702       & N          & VIIRS      & n          & 1          & 285.9      & 0.5        & 0         \\\\\n",
       "\t -33.63897  & 122.9305   & 297.3      & 0.44       & 0.38       & 2019-09-30 & 1702       & N          & VIIRS      & n          & 1          & 285.9      & 0.6        & 0         \\\\\n",
       "\\end{tabular}\n"
      ],
      "text/markdown": [
       "\n",
       "| latitude | longitude | bright_ti4 | scan | track | acq_date | acq_time | satellite | instrument | confidence | version | bright_ti5 | frp | type |\n",
       "|---|---|---|---|---|---|---|---|---|---|---|---|---|---|\n",
       "| -34.45902  | 150.8804   | 326.5      | 0.60       | 0.71       | 2019-08-01 | 246        | N          | VIIRS      | n          | 1          | 290.7      |  5.8       | 3          |\n",
       "| -31.70724  | 151.0719   | 367.0      | 0.56       | 0.69       | 2019-08-01 | 247        | N          | VIIRS      | h          | 1          | 291.9      | 10.4       | 0          |\n",
       "| -31.39626  | 149.6525   | 325.2      | 0.68       | 0.74       | 2019-08-01 | 247        | N          | VIIRS      | n          | 1          | 292.7      |  5.6       | 0          |\n",
       "| -30.39774  | 152.0643   | 347.8      | 0.48       | 0.65       | 2019-08-01 | 247        | N          | VIIRS      | n          | 1          | 287.6      |  9.1       | 0          |\n",
       "| -31.20248  | 151.8977   | 350.7      | 0.50       | 0.66       | 2019-08-01 | 247        | N          | VIIRS      | n          | 1          | 292.3      |  9.4       | 0          |\n",
       "| -31.20390  | 151.8957   | 353.3      | 0.50       | 0.66       | 2019-08-01 | 247        | N          | VIIRS      | n          | 1          | 290.9      | 12.7       | 0          |\n",
       "| -31.37280  | 150.6890   | 327.5      | 0.59       | 0.70       | 2019-08-01 | 247        | N          | VIIRS      | n          | 1          | 291.3      |  3.5       | 0          |\n",
       "| -30.08108  | 151.0518   | 367.0      | 0.55       | 0.68       | 2019-08-01 | 247        | N          | VIIRS      | h          | 1          | 291.9      | 16.6       | 0          |\n",
       "| -31.78818  | 148.4958   | 367.0      | 0.79       | 0.78       | 2019-08-01 | 247        | N          | VIIRS      | h          | 1          | 294.7      | 44.3       | 0          |\n",
       "| -31.78719  | 148.4947   | 367.0      | 0.79       | 0.78       | 2019-08-01 | 247        | N          | VIIRS      | h          | 1          | 294.0      | 31.2       | 0          |\n",
       "| -42.71249  | 147.5830   | 326.5      | 0.46       | 0.39       | 2019-08-01 | 424        | N          | VIIRS      | n          | 1          | 287.1      |  3.0       | 0          |\n",
       "| -42.37209  | 147.4875   | 330.0      | 0.47       | 0.39       | 2019-08-01 | 425        | N          | VIIRS      | n          | 1          | 281.0      |  6.0       | 0          |\n",
       "| -42.36105  | 146.9285   | 327.4      | 0.45       | 0.39       | 2019-08-01 | 425        | N          | VIIRS      | n          | 1          | 280.8      |  1.9       | 0          |\n",
       "| -42.29099  | 146.8811   | 340.9      | 0.45       | 0.39       | 2019-08-01 | 425        | N          | VIIRS      | n          | 1          | 284.7      | 13.0       | 0          |\n",
       "| -41.00097  | 145.6323   | 327.1      | 0.43       | 0.38       | 2019-08-01 | 425        | N          | VIIRS      | n          | 1          | 284.4      |  8.5       | 0          |\n",
       "| -36.57822  | 145.8465   | 328.0      | 0.50       | 0.41       | 2019-08-01 | 426        | N          | VIIRS      | n          | 1          | 285.9      |  2.4       | 0          |\n",
       "| -37.09430  | 147.5002   | 341.3      | 0.38       | 0.43       | 2019-08-01 | 426        | N          | VIIRS      | n          | 1          | 284.1      |  3.0       | 0          |\n",
       "| -34.91529  | 149.8246   | 325.9      | 0.56       | 0.51       | 2019-08-01 | 426        | N          | VIIRS      | n          | 1          | 287.1      |  3.5       | 0          |\n",
       "| -34.46161  | 150.8830   | 325.7      | 0.33       | 0.55       | 2019-08-01 | 426        | N          | VIIRS      | n          | 1          | 292.5      |  2.4       | 2          |\n",
       "| -36.34436  | 149.5090   | 344.2      | 0.50       | 0.49       | 2019-08-01 | 426        | N          | VIIRS      | n          | 1          | 290.7      |  9.5       | 0          |\n",
       "| -33.54812  | 147.8094   | 338.8      | 0.47       | 0.48       | 2019-08-01 | 427        | N          | VIIRS      | n          | 1          | 293.4      |  3.8       | 0          |\n",
       "| -34.41890  | 147.4453   | 330.0      | 0.43       | 0.46       | 2019-08-01 | 427        | N          | VIIRS      | n          | 1          | 288.5      |  3.0       | 0          |\n",
       "| -34.14386  | 147.7658   | 343.0      | 0.45       | 0.47       | 2019-08-01 | 427        | N          | VIIRS      | n          | 1          | 289.6      |  5.8       | 0          |\n",
       "| -33.77158  | 148.4593   | 334.9      | 0.50       | 0.49       | 2019-08-01 | 427        | N          | VIIRS      | n          | 1          | 289.3      |  2.9       | 0          |\n",
       "| -31.79152  | 148.4936   | 336.3      | 0.55       | 0.51       | 2019-08-01 | 427        | N          | VIIRS      | n          | 1          | 297.6      | 19.5       | 0          |\n",
       "| -31.69685  | 147.7618   | 337.6      | 0.51       | 0.49       | 2019-08-01 | 427        | N          | VIIRS      | n          | 1          | 297.0      |  5.2       | 0          |\n",
       "| -32.80127  | 149.3598   | 338.4      | 0.59       | 0.53       | 2019-08-01 | 427        | N          | VIIRS      | n          | 1          | 293.2      |  5.4       | 0          |\n",
       "| -31.79020  | 148.4994   | 343.2      | 0.55       | 0.51       | 2019-08-01 | 427        | N          | VIIRS      | n          | 1          | 298.2      | 32.6       | 0          |\n",
       "| -33.09182  | 147.1050   | 336.6      | 0.44       | 0.46       | 2019-08-01 | 427        | N          | VIIRS      | n          | 1          | 295.4      |  4.1       | 0          |\n",
       "| -34.41789  | 147.4500   | 336.6      | 0.43       | 0.46       | 2019-08-01 | 427        | N          | VIIRS      | n          | 1          | 287.7      |  4.0       | 0          |\n",
       "| ... | ... | ... | ... | ... | ... | ... | ... | ... | ... | ... | ... | ... | ... |\n",
       "| -33.12677  | 116.0500   | 317.9      | 0.47       | 0.40       | 2019-09-30 | 1702       | N          | VIIRS      | n          | 1          | 285.3      | 1.1        | 0          |\n",
       "| -33.12772  | 116.0550   | 311.5      | 0.47       | 0.40       | 2019-09-30 | 1702       | N          | VIIRS      | n          | 1          | 284.8      | 1.1        | 0          |\n",
       "| -32.35649  | 116.0991   | 296.5      | 0.48       | 0.40       | 2019-09-30 | 1702       | N          | VIIRS      | n          | 1          | 285.0      | 0.8        | 0          |\n",
       "| -33.13325  | 116.0640   | 306.0      | 0.47       | 0.39       | 2019-09-30 | 1702       | N          | VIIRS      | n          | 1          | 284.1      | 0.9        | 0          |\n",
       "| -33.12867  | 116.0599   | 300.1      | 0.47       | 0.40       | 2019-09-30 | 1702       | N          | VIIRS      | n          | 1          | 283.9      | 0.9        | 0          |\n",
       "| -31.10566  | 115.6259   | 295.6      | 0.52       | 0.42       | 2019-09-30 | 1702       | N          | VIIRS      | n          | 1          | 285.1      | 1.3        | 0          |\n",
       "| -31.09094  | 115.6529   | 297.5      | 0.52       | 0.42       | 2019-09-30 | 1702       | N          | VIIRS      | n          | 1          | 285.5      | 1.0        | 0          |\n",
       "| -32.47548  | 115.9305   | 298.0      | 0.48       | 0.40       | 2019-09-30 | 1702       | N          | VIIRS      | n          | 1          | 284.9      | 0.8        | 0          |\n",
       "| -31.09697  | 115.6225   | 295.8      | 0.52       | 0.42       | 2019-09-30 | 1702       | N          | VIIRS      | n          | 1          | 285.0      | 0.8        | 0          |\n",
       "| -31.10177  | 115.6673   | 298.0      | 0.52       | 0.42       | 2019-09-30 | 1702       | N          | VIIRS      | n          | 1          | 285.3      | 1.1        | 0          |\n",
       "| -31.09855  | 115.6509   | 296.0      | 0.52       | 0.42       | 2019-09-30 | 1702       | N          | VIIRS      | n          | 1          | 285.5      | 0.9        | 0          |\n",
       "| -31.09315  | 115.6235   | 298.4      | 0.52       | 0.42       | 2019-09-30 | 1702       | N          | VIIRS      | n          | 1          | 285.3      | 0.8        | 0          |\n",
       "| -31.09797  | 115.6683   | 298.2      | 0.52       | 0.42       | 2019-09-30 | 1702       | N          | VIIRS      | n          | 1          | 286.3      | 0.8        | 0          |\n",
       "| -31.09689  | 115.6628   | 303.4      | 0.52       | 0.42       | 2019-09-30 | 1702       | N          | VIIRS      | n          | 1          | 286.4      | 0.9        | 0          |\n",
       "| -33.90905  | 116.4298   | 295.3      | 0.44       | 0.39       | 2019-09-30 | 1702       | N          | VIIRS      | n          | 1          | 280.4      | 0.6        | 0          |\n",
       "| -31.08934  | 115.6245   | 295.0      | 0.52       | 0.42       | 2019-09-30 | 1702       | N          | VIIRS      | n          | 1          | 284.9      | 0.6        | 0          |\n",
       "| -32.35283  | 116.1000   | 295.2      | 0.48       | 0.40       | 2019-09-30 | 1702       | N          | VIIRS      | n          | 1          | 284.9      | 0.7        | 0          |\n",
       "| -33.95520  | 116.8039   | 300.5      | 0.43       | 0.38       | 2019-09-30 | 1702       | N          | VIIRS      | n          | 1          | 281.7      | 0.8        | 0          |\n",
       "| -33.87012  | 116.7935   | 338.4      | 0.43       | 0.38       | 2019-09-30 | 1702       | N          | VIIRS      | n          | 1          | 284.8      | 6.6        | 0          |\n",
       "| -32.10360  | 116.1081   | 297.4      | 0.48       | 0.40       | 2019-09-30 | 1702       | N          | VIIRS      | n          | 1          | 284.4      | 1.2        | 0          |\n",
       "| -32.36843  | 116.1012   | 296.8      | 0.48       | 0.40       | 2019-09-30 | 1702       | N          | VIIRS      | n          | 1          | 284.6      | 0.7        | 0          |\n",
       "| -33.12409  | 116.0559   | 304.7      | 0.47       | 0.40       | 2019-09-30 | 1702       | N          | VIIRS      | n          | 1          | 284.6      | 0.8        | 0          |\n",
       "| -32.37113  | 116.0953   | 301.0      | 0.48       | 0.40       | 2019-09-30 | 1702       | N          | VIIRS      | n          | 1          | 285.0      | 1.0        | 0          |\n",
       "| -33.12313  | 116.0509   | 306.9      | 0.47       | 0.40       | 2019-09-30 | 1702       | N          | VIIRS      | n          | 1          | 284.8      | 0.8        | 0          |\n",
       "| -33.12216  | 116.0458   | 303.9      | 0.47       | 0.40       | 2019-09-30 | 1702       | N          | VIIRS      | n          | 1          | 284.8      | 1.6        | 3          |\n",
       "| -32.37209  | 116.1003   | 296.1      | 0.48       | 0.40       | 2019-09-30 | 1702       | N          | VIIRS      | n          | 1          | 284.8      | 1.2        | 0          |\n",
       "| -32.38958  | 116.1115   | 296.1      | 0.48       | 0.40       | 2019-09-30 | 1702       | N          | VIIRS      | n          | 1          | 284.7      | 1.1        | 0          |\n",
       "| -33.12481  | 116.0397   | 299.9      | 0.47       | 0.40       | 2019-09-30 | 1702       | N          | VIIRS      | n          | 1          | 285.0      | 1.3        | 0          |\n",
       "| -33.63480  | 122.9264   | 296.2      | 0.43       | 0.38       | 2019-09-30 | 1702       | N          | VIIRS      | n          | 1          | 285.9      | 0.5        | 0          |\n",
       "| -33.63897  | 122.9305   | 297.3      | 0.44       | 0.38       | 2019-09-30 | 1702       | N          | VIIRS      | n          | 1          | 285.9      | 0.6        | 0          |\n",
       "\n"
      ],
      "text/plain": [
       "       latitude  longitude bright_ti4 scan track acq_date   acq_time satellite\n",
       "1      -34.45902 150.8804  326.5      0.60 0.71  2019-08-01 246      N        \n",
       "2      -31.70724 151.0719  367.0      0.56 0.69  2019-08-01 247      N        \n",
       "3      -31.39626 149.6525  325.2      0.68 0.74  2019-08-01 247      N        \n",
       "4      -30.39774 152.0643  347.8      0.48 0.65  2019-08-01 247      N        \n",
       "5      -31.20248 151.8977  350.7      0.50 0.66  2019-08-01 247      N        \n",
       "6      -31.20390 151.8957  353.3      0.50 0.66  2019-08-01 247      N        \n",
       "7      -31.37280 150.6890  327.5      0.59 0.70  2019-08-01 247      N        \n",
       "8      -30.08108 151.0518  367.0      0.55 0.68  2019-08-01 247      N        \n",
       "9      -31.78818 148.4958  367.0      0.79 0.78  2019-08-01 247      N        \n",
       "10     -31.78719 148.4947  367.0      0.79 0.78  2019-08-01 247      N        \n",
       "11     -42.71249 147.5830  326.5      0.46 0.39  2019-08-01 424      N        \n",
       "12     -42.37209 147.4875  330.0      0.47 0.39  2019-08-01 425      N        \n",
       "13     -42.36105 146.9285  327.4      0.45 0.39  2019-08-01 425      N        \n",
       "14     -42.29099 146.8811  340.9      0.45 0.39  2019-08-01 425      N        \n",
       "15     -41.00097 145.6323  327.1      0.43 0.38  2019-08-01 425      N        \n",
       "16     -36.57822 145.8465  328.0      0.50 0.41  2019-08-01 426      N        \n",
       "17     -37.09430 147.5002  341.3      0.38 0.43  2019-08-01 426      N        \n",
       "18     -34.91529 149.8246  325.9      0.56 0.51  2019-08-01 426      N        \n",
       "19     -34.46161 150.8830  325.7      0.33 0.55  2019-08-01 426      N        \n",
       "20     -36.34436 149.5090  344.2      0.50 0.49  2019-08-01 426      N        \n",
       "21     -33.54812 147.8094  338.8      0.47 0.48  2019-08-01 427      N        \n",
       "22     -34.41890 147.4453  330.0      0.43 0.46  2019-08-01 427      N        \n",
       "23     -34.14386 147.7658  343.0      0.45 0.47  2019-08-01 427      N        \n",
       "24     -33.77158 148.4593  334.9      0.50 0.49  2019-08-01 427      N        \n",
       "25     -31.79152 148.4936  336.3      0.55 0.51  2019-08-01 427      N        \n",
       "26     -31.69685 147.7618  337.6      0.51 0.49  2019-08-01 427      N        \n",
       "27     -32.80127 149.3598  338.4      0.59 0.53  2019-08-01 427      N        \n",
       "28     -31.79020 148.4994  343.2      0.55 0.51  2019-08-01 427      N        \n",
       "29     -33.09182 147.1050  336.6      0.44 0.46  2019-08-01 427      N        \n",
       "30     -34.41789 147.4500  336.6      0.43 0.46  2019-08-01 427      N        \n",
       "...    ...       ...       ...        ...  ...   ...        ...      ...      \n",
       "184749 -33.12677 116.0500  317.9      0.47 0.40  2019-09-30 1702     N        \n",
       "184750 -33.12772 116.0550  311.5      0.47 0.40  2019-09-30 1702     N        \n",
       "184751 -32.35649 116.0991  296.5      0.48 0.40  2019-09-30 1702     N        \n",
       "184752 -33.13325 116.0640  306.0      0.47 0.39  2019-09-30 1702     N        \n",
       "184753 -33.12867 116.0599  300.1      0.47 0.40  2019-09-30 1702     N        \n",
       "184754 -31.10566 115.6259  295.6      0.52 0.42  2019-09-30 1702     N        \n",
       "184755 -31.09094 115.6529  297.5      0.52 0.42  2019-09-30 1702     N        \n",
       "184756 -32.47548 115.9305  298.0      0.48 0.40  2019-09-30 1702     N        \n",
       "184757 -31.09697 115.6225  295.8      0.52 0.42  2019-09-30 1702     N        \n",
       "184758 -31.10177 115.6673  298.0      0.52 0.42  2019-09-30 1702     N        \n",
       "184759 -31.09855 115.6509  296.0      0.52 0.42  2019-09-30 1702     N        \n",
       "184760 -31.09315 115.6235  298.4      0.52 0.42  2019-09-30 1702     N        \n",
       "184761 -31.09797 115.6683  298.2      0.52 0.42  2019-09-30 1702     N        \n",
       "184762 -31.09689 115.6628  303.4      0.52 0.42  2019-09-30 1702     N        \n",
       "184763 -33.90905 116.4298  295.3      0.44 0.39  2019-09-30 1702     N        \n",
       "184764 -31.08934 115.6245  295.0      0.52 0.42  2019-09-30 1702     N        \n",
       "184765 -32.35283 116.1000  295.2      0.48 0.40  2019-09-30 1702     N        \n",
       "184766 -33.95520 116.8039  300.5      0.43 0.38  2019-09-30 1702     N        \n",
       "184767 -33.87012 116.7935  338.4      0.43 0.38  2019-09-30 1702     N        \n",
       "184768 -32.10360 116.1081  297.4      0.48 0.40  2019-09-30 1702     N        \n",
       "184769 -32.36843 116.1012  296.8      0.48 0.40  2019-09-30 1702     N        \n",
       "184770 -33.12409 116.0559  304.7      0.47 0.40  2019-09-30 1702     N        \n",
       "184771 -32.37113 116.0953  301.0      0.48 0.40  2019-09-30 1702     N        \n",
       "184772 -33.12313 116.0509  306.9      0.47 0.40  2019-09-30 1702     N        \n",
       "184773 -33.12216 116.0458  303.9      0.47 0.40  2019-09-30 1702     N        \n",
       "184774 -32.37209 116.1003  296.1      0.48 0.40  2019-09-30 1702     N        \n",
       "184775 -32.38958 116.1115  296.1      0.48 0.40  2019-09-30 1702     N        \n",
       "184776 -33.12481 116.0397  299.9      0.47 0.40  2019-09-30 1702     N        \n",
       "184777 -33.63480 122.9264  296.2      0.43 0.38  2019-09-30 1702     N        \n",
       "184778 -33.63897 122.9305  297.3      0.44 0.38  2019-09-30 1702     N        \n",
       "       instrument confidence version bright_ti5 frp  type\n",
       "1      VIIRS      n          1       290.7       5.8 3   \n",
       "2      VIIRS      h          1       291.9      10.4 0   \n",
       "3      VIIRS      n          1       292.7       5.6 0   \n",
       "4      VIIRS      n          1       287.6       9.1 0   \n",
       "5      VIIRS      n          1       292.3       9.4 0   \n",
       "6      VIIRS      n          1       290.9      12.7 0   \n",
       "7      VIIRS      n          1       291.3       3.5 0   \n",
       "8      VIIRS      h          1       291.9      16.6 0   \n",
       "9      VIIRS      h          1       294.7      44.3 0   \n",
       "10     VIIRS      h          1       294.0      31.2 0   \n",
       "11     VIIRS      n          1       287.1       3.0 0   \n",
       "12     VIIRS      n          1       281.0       6.0 0   \n",
       "13     VIIRS      n          1       280.8       1.9 0   \n",
       "14     VIIRS      n          1       284.7      13.0 0   \n",
       "15     VIIRS      n          1       284.4       8.5 0   \n",
       "16     VIIRS      n          1       285.9       2.4 0   \n",
       "17     VIIRS      n          1       284.1       3.0 0   \n",
       "18     VIIRS      n          1       287.1       3.5 0   \n",
       "19     VIIRS      n          1       292.5       2.4 2   \n",
       "20     VIIRS      n          1       290.7       9.5 0   \n",
       "21     VIIRS      n          1       293.4       3.8 0   \n",
       "22     VIIRS      n          1       288.5       3.0 0   \n",
       "23     VIIRS      n          1       289.6       5.8 0   \n",
       "24     VIIRS      n          1       289.3       2.9 0   \n",
       "25     VIIRS      n          1       297.6      19.5 0   \n",
       "26     VIIRS      n          1       297.0       5.2 0   \n",
       "27     VIIRS      n          1       293.2       5.4 0   \n",
       "28     VIIRS      n          1       298.2      32.6 0   \n",
       "29     VIIRS      n          1       295.4       4.1 0   \n",
       "30     VIIRS      n          1       287.7       4.0 0   \n",
       "...    ...        ...        ...     ...        ...  ... \n",
       "184749 VIIRS      n          1       285.3      1.1  0   \n",
       "184750 VIIRS      n          1       284.8      1.1  0   \n",
       "184751 VIIRS      n          1       285.0      0.8  0   \n",
       "184752 VIIRS      n          1       284.1      0.9  0   \n",
       "184753 VIIRS      n          1       283.9      0.9  0   \n",
       "184754 VIIRS      n          1       285.1      1.3  0   \n",
       "184755 VIIRS      n          1       285.5      1.0  0   \n",
       "184756 VIIRS      n          1       284.9      0.8  0   \n",
       "184757 VIIRS      n          1       285.0      0.8  0   \n",
       "184758 VIIRS      n          1       285.3      1.1  0   \n",
       "184759 VIIRS      n          1       285.5      0.9  0   \n",
       "184760 VIIRS      n          1       285.3      0.8  0   \n",
       "184761 VIIRS      n          1       286.3      0.8  0   \n",
       "184762 VIIRS      n          1       286.4      0.9  0   \n",
       "184763 VIIRS      n          1       280.4      0.6  0   \n",
       "184764 VIIRS      n          1       284.9      0.6  0   \n",
       "184765 VIIRS      n          1       284.9      0.7  0   \n",
       "184766 VIIRS      n          1       281.7      0.8  0   \n",
       "184767 VIIRS      n          1       284.8      6.6  0   \n",
       "184768 VIIRS      n          1       284.4      1.2  0   \n",
       "184769 VIIRS      n          1       284.6      0.7  0   \n",
       "184770 VIIRS      n          1       284.6      0.8  0   \n",
       "184771 VIIRS      n          1       285.0      1.0  0   \n",
       "184772 VIIRS      n          1       284.8      0.8  0   \n",
       "184773 VIIRS      n          1       284.8      1.6  3   \n",
       "184774 VIIRS      n          1       284.8      1.2  0   \n",
       "184775 VIIRS      n          1       284.7      1.1  0   \n",
       "184776 VIIRS      n          1       285.0      1.3  0   \n",
       "184777 VIIRS      n          1       285.9      0.5  0   \n",
       "184778 VIIRS      n          1       285.9      0.6  0   "
      ]
     },
     "metadata": {},
     "output_type": "display_data"
    }
   ],
   "source": [
    "# Visualizamos toda la tabla\n",
    "fire_archive_V1_96617"
   ]
  },
  {
   "cell_type": "markdown",
   "id": "d74a642d-bd59-4195-8cf9-da6337af6f7f",
   "metadata": {},
   "source": [
    "# Avance 2 Evidencia 2"
   ]
  },
  {
   "cell_type": "markdown",
   "id": "7346df02-5818-4022-a42e-ae7f87865020",
   "metadata": {},
   "source": [
    "### Calculos de elementos nulos, valores maximos y minimos, desviaciones estandar, valores atípicos por columna\n"
   ]
  },
  {
   "cell_type": "code",
   "execution_count": 74,
   "id": "d6a8ad96-757b-4a62-9df6-e474c4cb1c7b",
   "metadata": {
    "jupyter": {
     "source_hidden": true
    }
   },
   "outputs": [],
   "source": [
    "# Función principal que llama a todas las demás\n",
    "analizar_dataframe <- function(df) {\n",
    "  cat(\"== Análisis Tabla Fire V1 96617 ==\\n\")\n",
    "  \n",
    "  valores_nulos(df)\n",
    "  valores_max_min(df)\n",
    "  desviaciones_estandar(df)\n",
    "  valores_atipicos(df)\n",
    "}\n",
    "\n",
    "# Calcular nulos por columna\n",
    "valores_nulos <- function(df) {\n",
    "  cat(\"\\n a. Elementos nulos por columna:\\n\")\n",
    "  print(colSums(is.na(df)))\n",
    "}\n",
    "\n",
    "# Calcular valores máximos y mínimos\n",
    "valores_max_min <- function(df) {\n",
    "  cat(\"\\n b. Valores máximos por columna numérica:\\n\")\n",
    "  print(sapply(df, function(col) if(is.numeric(col)) max(col, na.rm = TRUE) else NA))\n",
    "\n",
    "  cat(\"\\n b_1. Valores mínimos por columna numérica:\\n\")\n",
    "  print(sapply(df, function(col) if(is.numeric(col)) min(col, na.rm = TRUE) else NA))\n",
    "}\n",
    "\n",
    "# Calcular desviaciones estándar\n",
    "desviaciones_estandar <- function(df) {\n",
    "  cat(\"\\n c. Desviación estándar por columna numérica:\\n\")\n",
    "  print(sapply(df, function(col) if(is.numeric(col)) sd(col, na.rm = TRUE) else NA))\n",
    "}\n",
    "\n",
    "# Identificar valores atípicos con la regla del IQR\n",
    "valores_atipicos <- function(df) {\n",
    "  cat(\"\\n d. Cantidad de valores atípicos por columna numérica (basado en IQR):\\n\")\n",
    "  detectar_outliers <- function(col) {\n",
    "    if (!is.numeric(col)) return(NA)\n",
    "    Q1 <- quantile(col, 0.25, na.rm = TRUE)\n",
    "    Q3 <- quantile(col, 0.75, na.rm = TRUE)\n",
    "    IQR_val <- Q3 - Q1\n",
    "    outliers <- which(col < (Q1 - 1.5 * IQR_val) | col > (Q3 + 1.5 * IQR_val))\n",
    "    return(length(outliers))\n",
    "  }\n",
    "  print(sapply(df, detectar_outliers))\n",
    "}\n"
   ]
  },
  {
   "cell_type": "markdown",
   "id": "ad2c3d9b-41c3-4eff-90ba-3235e13d4e31",
   "metadata": {},
   "source": [
    "### Resultados"
   ]
  },
  {
   "cell_type": "code",
   "execution_count": 45,
   "id": "d21f4401-7215-4f95-9479-b31c777cda90",
   "metadata": {
    "collapsed": true,
    "jupyter": {
     "outputs_hidden": true
    }
   },
   "outputs": [
    {
     "name": "stdout",
     "output_type": "stream",
     "text": [
      "== Análisis Tabla Fire V1 96617 ==\n",
      "\n",
      " a. Elementos nulos por columna:\n",
      "  latitude  longitude bright_ti4       scan      track   acq_date   acq_time \n",
      "         0          0          0          0          0          0          0 \n",
      " satellite instrument confidence    version bright_ti5        frp       type \n",
      "         0          0          0          0          0          0          0 \n",
      "\n",
      " b. Valores máximos por columna numérica:\n",
      "  latitude  longitude bright_ti4       scan      track   acq_date   acq_time \n",
      "  -9.39406  153.52112  367.00000    0.80000    0.78000         NA 1827.00000 \n",
      " satellite instrument confidence    version bright_ti5        frp       type \n",
      "        NA         NA         NA    1.00000  380.00000  595.20000    3.00000 \n",
      "\n",
      " b_1. Valores mínimos por columna numérica:\n",
      "  latitude  longitude bright_ti4       scan      track   acq_date   acq_time \n",
      " -43.07985  114.11135  208.00000    0.32000    0.36000         NA  229.00000 \n",
      " satellite instrument confidence    version bright_ti5        frp       type \n",
      "        NA         NA         NA    1.00000  253.40000    0.10000    0.00000 \n",
      "\n",
      " c. Desviación estándar por columna numérica:\n",
      "    latitude    longitude   bright_ti4         scan        track     acq_date \n",
      "  7.40602576   9.53852934  20.76161928   0.09099312   0.11748751           NA \n",
      "    acq_time    satellite   instrument   confidence      version   bright_ti5 \n",
      "564.54526569           NA           NA           NA   0.00000000  12.02210126 \n",
      "         frp         type \n",
      " 15.95930705   0.41228933 \n",
      "\n",
      " d. Cantidad de valores atípicos por columna numérica (basado en IQR):\n",
      "  latitude  longitude bright_ti4       scan      track   acq_date   acq_time \n",
      "         0          0         40       3710          0         NA          0 \n",
      " satellite instrument confidence    version bright_ti5        frp       type \n",
      "        NA         NA         NA          0        786      16372       4628 \n"
     ]
    }
   ],
   "source": [
    "analizar_dataframe(fire_archive_V1_96617)"
   ]
  },
  {
   "cell_type": "markdown",
   "id": "7bcb0771-2a68-46f7-803f-42bae0b7c716",
   "metadata": {},
   "source": [
    "# Parte Final Evidencia 2"
   ]
  },
  {
   "cell_type": "markdown",
   "id": "b700a025-8fe0-452a-aa42-abcd666c5d69",
   "metadata": {},
   "source": [
    "## Declaración Función Visualización Gráfica"
   ]
  },
  {
   "cell_type": "code",
   "execution_count": 75,
   "id": "d358eba6-2a55-4d2f-8db2-2de04782dd4d",
   "metadata": {
    "jupyter": {
     "source_hidden": true
    }
   },
   "outputs": [],
   "source": [
    "# 1. Función para graficar valores nulos por columna\n",
    "graficar_nulos <- function(df) {\n",
    "  nulos <- colSums(is.na(df))\n",
    "  datos_nulos <- data.frame(Columna = names(nulos), Nulos = as.numeric(nulos))\n",
    "  \n",
    "  ggplot(datos_nulos, aes(x = reorder(Columna, -Nulos), y = Nulos)) +\n",
    "    geom_bar(stat = \"identity\", fill = \"tomato\") +\n",
    "    labs(title = \"Valores nulos por columna\", x = \"Columnas\", y = \"Cantidad de nulos\") +\n",
    "    theme(axis.text.x = element_text(angle = 45, hjust = 1))\n",
    "}\n",
    "\n",
    "# 2. Función para graficar valores máximos y mínimos\n",
    "graficar_max_min <- function(df) {\n",
    "  maximos <- sapply(df, function(col) if(is.numeric(col)) max(col, na.rm = TRUE) else NA)\n",
    "  minimos <- sapply(df, function(col) if(is.numeric(col)) min(col, na.rm = TRUE) else NA)\n",
    "  \n",
    "  datos_extremos <- data.frame(\n",
    "    Columna = names(df),\n",
    "    Maximo = as.numeric(maximos),\n",
    "    Minimo = as.numeric(minimos)\n",
    "  )\n",
    "  \n",
    "  datos_extremos <- datos_extremos[!is.na(datos_extremos$Maximo), ]\n",
    "  \n",
    "  ggplot(datos_extremos, aes(x = reorder(Columna, Maximo))) +\n",
    "    geom_segment(aes(xend = Columna, y = Minimo, yend = Maximo), color = \"gray\") +\n",
    "    geom_point(aes(y = Maximo), color = \"red\", size = 3) +\n",
    "    geom_point(aes(y = Minimo), color = \"blue\", size = 3) +\n",
    "    labs(title = \"Valores máximos (rojo) y mínimos (azul) por columna\", \n",
    "         x = \"Columnas\", y = \"Valor\") +\n",
    "    coord_flip() +\n",
    "    theme_minimal()\n",
    "}\n",
    "\n",
    "# 3. Función para graficar desviaciones estándar\n",
    "graficar_desviaciones <- function(df) {\n",
    "  desviaciones <- sapply(df, function(col) if(is.numeric(col)) sd(col, na.rm = TRUE) else NA)\n",
    "  datos_desviaciones <- data.frame(Columna = names(desviaciones), \n",
    "                                  Desviacion = as.numeric(desviaciones))\n",
    "  \n",
    "  datos_desviaciones <- datos_desviaciones[!is.na(datos_desviaciones$Desviacion), ]\n",
    "  \n",
    "  ggplot(datos_desviaciones, aes(x = reorder(Columna, -Desviacion), y = Desviacion)) +\n",
    "    geom_bar(stat = \"identity\", fill = \"darkgreen\") +\n",
    "    labs(title = \"Desviación estándar por columna numérica\", \n",
    "         x = \"Columnas\", y = \"Desviación estándar\") +\n",
    "    theme(axis.text.x = element_text(angle = 45, hjust = 1))\n",
    "}\n",
    "\n",
    "# 4. Función para graficar valores atípicos\n",
    "graficar_atipicos <- function(df) {\n",
    "  detectar_outliers <- function(col) {\n",
    "    if (!is.numeric(col)) return(NA)\n",
    "    Q1 <- quantile(col, 0.25, na.rm = TRUE)\n",
    "    Q3 <- quantile(col, 0.75, na.rm = TRUE)\n",
    "    IQR_val <- Q3 - Q1\n",
    "    outliers <- which(col < (Q1 - 1.5 * IQR_val) | col > (Q3 + 1.5 * IQR_val))\n",
    "    return(length(outliers))\n",
    "  }\n",
    "  \n",
    "  atipicos <- sapply(df, detectar_outliers)\n",
    "  datos_atipicos <- data.frame(Columna = names(atipicos), \n",
    "                              Atipicos = as.numeric(atipicos))\n",
    "  \n",
    "  datos_atipicos <- datos_atipicos[!is.na(datos_atipicos$Atipicos), ]\n",
    "  \n",
    "  ggplot(datos_atipicos, aes(x = reorder(Columna, -Atipicos), y = Atipicos)) +\n",
    "    geom_bar(stat = \"identity\", fill = \"purple\") +\n",
    "    labs(title = \"Valores atípicos por columna numérica\", \n",
    "         x = \"Columnas\", y = \"Cantidad de atípicos\") +\n",
    "    theme(axis.text.x = element_text(angle = 45, hjust = 1))\n",
    "}\n",
    "\n",
    "# Función principal que genera todos los gráficos\n",
    "generar_graficos_analisis <- function(df) {\n",
    "  plot_list <- list(\n",
    "    graficar_nulos(df),\n",
    "    graficar_max_min(df),\n",
    "    graficar_desviaciones(df),\n",
    "    graficar_atipicos(df)\n",
    "  )\n",
    "  \n",
    "  grid.arrange(grobs = plot_list, ncol = 2)\n",
    "}"
   ]
  },
  {
   "cell_type": "markdown",
   "id": "37e6e5d6-eb80-4e99-b5d5-8167a87d5d07",
   "metadata": {},
   "source": [
    "## Resultado Analisis de Datos"
   ]
  },
  {
   "cell_type": "code",
   "execution_count": 76,
   "id": "276e21d3-420c-4313-b9d2-065d3f09b2de",
   "metadata": {},
   "outputs": [
    {
     "name": "stdout",
     "output_type": "stream",
     "text": [
      "== Análisis Tabla Fire V1 96617 ==\n",
      "\n",
      " a. Elementos nulos por columna:\n",
      "  latitude  longitude bright_ti4       scan      track   acq_date   acq_time \n",
      "         0          0          0          0          0          0          0 \n",
      " satellite instrument confidence    version bright_ti5        frp       type \n",
      "         0          0          0          0          0          0          0 \n",
      "\n",
      " b. Valores máximos por columna numérica:\n",
      "  latitude  longitude bright_ti4       scan      track   acq_date   acq_time \n",
      "  -9.39406  153.52112  367.00000    0.80000    0.78000         NA 1827.00000 \n",
      " satellite instrument confidence    version bright_ti5        frp       type \n",
      "        NA         NA         NA    1.00000  380.00000  595.20000    3.00000 \n",
      "\n",
      " b_1. Valores mínimos por columna numérica:\n",
      "  latitude  longitude bright_ti4       scan      track   acq_date   acq_time \n",
      " -43.07985  114.11135  208.00000    0.32000    0.36000         NA  229.00000 \n",
      " satellite instrument confidence    version bright_ti5        frp       type \n",
      "        NA         NA         NA    1.00000  253.40000    0.10000    0.00000 \n",
      "\n",
      " c. Desviación estándar por columna numérica:\n",
      "    latitude    longitude   bright_ti4         scan        track     acq_date \n",
      "  7.40602576   9.53852934  20.76161928   0.09099312   0.11748751           NA \n",
      "    acq_time    satellite   instrument   confidence      version   bright_ti5 \n",
      "564.54526569           NA           NA           NA   0.00000000  12.02210126 \n",
      "         frp         type \n",
      " 15.95930705   0.41228933 \n",
      "\n",
      " d. Cantidad de valores atípicos por columna numérica (basado en IQR):\n",
      "  latitude  longitude bright_ti4       scan      track   acq_date   acq_time \n",
      "         0          0         40       3710          0         NA          0 \n",
      " satellite instrument confidence    version bright_ti5        frp       type \n",
      "        NA         NA         NA          0        786      16372       4628 \n"
     ]
    }
   ],
   "source": [
    "analizar_dataframe(fire_archive_V1_96617)"
   ]
  },
  {
   "cell_type": "markdown",
   "id": "dbbff290-5fe9-4a40-a5cd-07f4ec5ddea5",
   "metadata": {},
   "source": [
    "## Generación de Todos los Gráficos"
   ]
  },
  {
   "cell_type": "code",
   "execution_count": 77,
   "id": "81506b9a-acf9-464a-b139-c82216f9fb3b",
   "metadata": {},
   "outputs": [
    {
     "data": {
      "image/png": "[encoded data removed]",
      "text/plain": [
       "plot without title"
      ]
     },
     "metadata": {},
     "output_type": "display_data"
    }
   ],
   "source": [
    "generar_graficos_analisis(fire_archive_V1_96617)"
   ]
  },
  {
   "cell_type": "markdown",
   "id": "f786c993-6443-414d-a2b7-eb13b0df5402",
   "metadata": {},
   "source": [
    "# Fire NRT M6 96619"
   ]
  },
  {
   "cell_type": "markdown",
   "id": "6ec638b2-5b8a-45fb-8b09-94cdea50824f",
   "metadata": {},
   "source": [
    "### Se carga el archivo CVS"
   ]
  },
  {
   "cell_type": "code",
   "execution_count": 58,
   "id": "79a424c8-e2b8-4c00-b83e-2106e38d5492",
   "metadata": {},
   "outputs": [],
   "source": [
    "fire_nrt_M6_96619 <- read.csv(\"C:/Users/alans/OneDrive/Documentos/Universidad_TecMilenio/PROFESIONAL/4to.SEMESTRE/BigData_Códigos/Evidencia_1/FIRE_AUSTRALIA/fire_nrt_M6_96619.csv\")"
   ]
  },
  {
   "cell_type": "markdown",
   "id": "f7147dd1-fa06-405a-8452-5b48def56471",
   "metadata": {},
   "source": [
    "### Visualizador Rapido de las Primeras Filas del conjunto de datos"
   ]
  },
  {
   "cell_type": "code",
   "execution_count": 60,
   "id": "c8cff461-6fac-4ea4-b84d-03881b5d3339",
   "metadata": {
    "collapsed": true,
    "jupyter": {
     "outputs_hidden": true
    },
    "scrolled": true
   },
   "outputs": [
    {
     "data": {
      "text/html": [
       "<table>\n",
       "<thead><tr><th scope=col>latitude</th><th scope=col>longitude</th><th scope=col>brightness</th><th scope=col>scan</th><th scope=col>track</th><th scope=col>acq_date</th><th scope=col>acq_time</th><th scope=col>satellite</th><th scope=col>instrument</th><th scope=col>confidence</th><th scope=col>version</th><th scope=col>bright_t31</th><th scope=col>frp</th><th scope=col>daynight</th></tr></thead>\n",
       "<tbody>\n",
       "\t<tr><td>-14.281   </td><td>143.636   </td><td>323.9     </td><td>1.7       </td><td>1.3       </td><td>2019-10-01</td><td>25        </td><td>Terra     </td><td>MODIS     </td><td>70        </td><td>6.0NRT    </td><td>302.3     </td><td> 26.8     </td><td>D         </td></tr>\n",
       "\t<tr><td>-14.284   </td><td>143.532   </td><td>343.5     </td><td>1.7       </td><td>1.3       </td><td>2019-10-01</td><td>25        </td><td>Terra     </td><td>MODIS     </td><td>90        </td><td>6.0NRT    </td><td>306.3     </td><td> 84.3     </td><td>D         </td></tr>\n",
       "\t<tr><td>-14.302   </td><td>143.706   </td><td>320.2     </td><td>1.7       </td><td>1.3       </td><td>2019-10-01</td><td>25        </td><td>Terra     </td><td>MODIS     </td><td>30        </td><td>6.0NRT    </td><td>305.0     </td><td> 14.1     </td><td>D         </td></tr>\n",
       "\t<tr><td>-14.283   </td><td>143.652   </td><td>320.4     </td><td>1.7       </td><td>1.3       </td><td>2019-10-01</td><td>25        </td><td>Terra     </td><td>MODIS     </td><td>57        </td><td>6.0NRT    </td><td>303.3     </td><td> 18.4     </td><td>D         </td></tr>\n",
       "\t<tr><td>-14.285   </td><td>143.521   </td><td>349.4     </td><td>1.7       </td><td>1.3       </td><td>2019-10-01</td><td>25        </td><td>Terra     </td><td>MODIS     </td><td>94        </td><td>6.0NRT    </td><td>304.7     </td><td>110.7     </td><td>D         </td></tr>\n",
       "\t<tr><td>-14.273   </td><td>143.589   </td><td>328.1     </td><td>1.7       </td><td>1.3       </td><td>2019-10-01</td><td>25        </td><td>Terra     </td><td>MODIS     </td><td>62        </td><td>6.0NRT    </td><td>304.6     </td><td> 32.4     </td><td>D         </td></tr>\n",
       "</tbody>\n",
       "</table>\n"
      ],
      "text/latex": [
       "\\begin{tabular}{r|llllllllllllll}\n",
       " latitude & longitude & brightness & scan & track & acq\\_date & acq\\_time & satellite & instrument & confidence & version & bright\\_t31 & frp & daynight\\\\\n",
       "\\hline\n",
       "\t -14.281    & 143.636    & 323.9      & 1.7        & 1.3        & 2019-10-01 & 25         & Terra      & MODIS      & 70         & 6.0NRT     & 302.3      &  26.8      & D         \\\\\n",
       "\t -14.284    & 143.532    & 343.5      & 1.7        & 1.3        & 2019-10-01 & 25         & Terra      & MODIS      & 90         & 6.0NRT     & 306.3      &  84.3      & D         \\\\\n",
       "\t -14.302    & 143.706    & 320.2      & 1.7        & 1.3        & 2019-10-01 & 25         & Terra      & MODIS      & 30         & 6.0NRT     & 305.0      &  14.1      & D         \\\\\n",
       "\t -14.283    & 143.652    & 320.4      & 1.7        & 1.3        & 2019-10-01 & 25         & Terra      & MODIS      & 57         & 6.0NRT     & 303.3      &  18.4      & D         \\\\\n",
       "\t -14.285    & 143.521    & 349.4      & 1.7        & 1.3        & 2019-10-01 & 25         & Terra      & MODIS      & 94         & 6.0NRT     & 304.7      & 110.7      & D         \\\\\n",
       "\t -14.273    & 143.589    & 328.1      & 1.7        & 1.3        & 2019-10-01 & 25         & Terra      & MODIS      & 62         & 6.0NRT     & 304.6      &  32.4      & D         \\\\\n",
       "\\end{tabular}\n"
      ],
      "text/markdown": [
       "\n",
       "| latitude | longitude | brightness | scan | track | acq_date | acq_time | satellite | instrument | confidence | version | bright_t31 | frp | daynight |\n",
       "|---|---|---|---|---|---|---|---|---|---|---|---|---|---|\n",
       "| -14.281    | 143.636    | 323.9      | 1.7        | 1.3        | 2019-10-01 | 25         | Terra      | MODIS      | 70         | 6.0NRT     | 302.3      |  26.8      | D          |\n",
       "| -14.284    | 143.532    | 343.5      | 1.7        | 1.3        | 2019-10-01 | 25         | Terra      | MODIS      | 90         | 6.0NRT     | 306.3      |  84.3      | D          |\n",
       "| -14.302    | 143.706    | 320.2      | 1.7        | 1.3        | 2019-10-01 | 25         | Terra      | MODIS      | 30         | 6.0NRT     | 305.0      |  14.1      | D          |\n",
       "| -14.283    | 143.652    | 320.4      | 1.7        | 1.3        | 2019-10-01 | 25         | Terra      | MODIS      | 57         | 6.0NRT     | 303.3      |  18.4      | D          |\n",
       "| -14.285    | 143.521    | 349.4      | 1.7        | 1.3        | 2019-10-01 | 25         | Terra      | MODIS      | 94         | 6.0NRT     | 304.7      | 110.7      | D          |\n",
       "| -14.273    | 143.589    | 328.1      | 1.7        | 1.3        | 2019-10-01 | 25         | Terra      | MODIS      | 62         | 6.0NRT     | 304.6      |  32.4      | D          |\n",
       "\n"
      ],
      "text/plain": [
       "  latitude longitude brightness scan track acq_date   acq_time satellite\n",
       "1 -14.281  143.636   323.9      1.7  1.3   2019-10-01 25       Terra    \n",
       "2 -14.284  143.532   343.5      1.7  1.3   2019-10-01 25       Terra    \n",
       "3 -14.302  143.706   320.2      1.7  1.3   2019-10-01 25       Terra    \n",
       "4 -14.283  143.652   320.4      1.7  1.3   2019-10-01 25       Terra    \n",
       "5 -14.285  143.521   349.4      1.7  1.3   2019-10-01 25       Terra    \n",
       "6 -14.273  143.589   328.1      1.7  1.3   2019-10-01 25       Terra    \n",
       "  instrument confidence version bright_t31 frp   daynight\n",
       "1 MODIS      70         6.0NRT  302.3       26.8 D       \n",
       "2 MODIS      90         6.0NRT  306.3       84.3 D       \n",
       "3 MODIS      30         6.0NRT  305.0       14.1 D       \n",
       "4 MODIS      57         6.0NRT  303.3       18.4 D       \n",
       "5 MODIS      94         6.0NRT  304.7      110.7 D       \n",
       "6 MODIS      62         6.0NRT  304.6       32.4 D       "
      ]
     },
     "metadata": {},
     "output_type": "display_data"
    }
   ],
   "source": [
    "head(fire_nrt_M6_96619)"
   ]
  },
  {
   "cell_type": "markdown",
   "id": "73956464-0fbc-4de6-b88b-31f26ef3a5af",
   "metadata": {},
   "source": [
    "### Estructura del Conjunto Datos "
   ]
  },
  {
   "cell_type": "code",
   "execution_count": 53,
   "id": "604f9294-d7c6-4652-b106-c1a19a6847fd",
   "metadata": {
    "collapsed": true,
    "jupyter": {
     "outputs_hidden": true
    }
   },
   "outputs": [
    {
     "name": "stdout",
     "output_type": "stream",
     "text": [
      "'data.frame':\t183593 obs. of  14 variables:\n",
      " $ latitude  : num  -14.3 -14.3 -14.3 -14.3 -14.3 ...\n",
      " $ longitude : num  144 144 144 144 144 ...\n",
      " $ brightness: num  324 344 320 320 349 ...\n",
      " $ scan      : num  1.7 1.7 1.7 1.7 1.7 1.7 2.3 1.7 1.7 1.7 ...\n",
      " $ track     : num  1.3 1.3 1.3 1.3 1.3 1.3 1.5 1.3 1.3 1.3 ...\n",
      " $ acq_date  : Factor w/ 103 levels \"2019-10-01\",\"2019-10-02\",..: 1 1 1 1 1 1 1 1 1 1 ...\n",
      " $ acq_time  : int  25 25 25 25 25 25 25 25 25 25 ...\n",
      " $ satellite : Factor w/ 2 levels \"Aqua\",\"Terra\": 2 2 2 2 2 2 2 2 2 2 ...\n",
      " $ instrument: Factor w/ 1 level \"MODIS\": 1 1 1 1 1 1 1 1 1 1 ...\n",
      " $ confidence: int  70 90 30 57 94 62 57 86 65 70 ...\n",
      " $ version   : Factor w/ 1 level \"6.0NRT\": 1 1 1 1 1 1 1 1 1 1 ...\n",
      " $ bright_t31: num  302 306 305 303 305 ...\n",
      " $ frp       : num  26.8 84.3 14.1 18.4 110.7 ...\n",
      " $ daynight  : Factor w/ 2 levels \"D\",\"N\": 1 1 1 1 1 1 1 1 1 1 ...\n"
     ]
    }
   ],
   "source": [
    "str(fire_nrt_M6_96619)"
   ]
  },
  {
   "cell_type": "markdown",
   "id": "1cb84ba3-ba52-48c9-8846-4a6abef56c81",
   "metadata": {},
   "source": [
    "### Estadisitica de Variables Númericos"
   ]
  },
  {
   "cell_type": "code",
   "execution_count": 54,
   "id": "78a882fc-4c91-426f-85a9-602d3312f63a",
   "metadata": {
    "collapsed": true,
    "jupyter": {
     "outputs_hidden": true
    }
   },
   "outputs": [
    {
     "data": {
      "text/plain": [
       "    latitude         longitude       brightness         scan      \n",
       " Min.   :-43.116   Min.   :113.5   Min.   :300.0   Min.   :1.000  \n",
       " 1st Qu.:-33.109   1st Qu.:131.6   1st Qu.:320.8   1st Qu.:1.000  \n",
       " Median :-30.132   Median :147.9   Median :334.3   Median :1.300  \n",
       " Mean   :-27.101   Mean   :141.9   Mean   :339.1   Mean   :1.603  \n",
       " 3rd Qu.:-17.868   3rd Qu.:150.7   3rd Qu.:348.6   3rd Qu.:1.800  \n",
       " Max.   : -9.387   Max.   :153.5   Max.   :507.0   Max.   :4.800  \n",
       "                                                                  \n",
       "     track             acq_date         acq_time      satellite     \n",
       " Min.   :1.000   2020-01-04:  7350   Min.   :   0.0   Aqua :100010  \n",
       " 1st Qu.:1.000   2019-12-30:  6926   1st Qu.: 345.0   Terra: 83583  \n",
       " Median :1.100   2019-12-19:  4769   Median : 515.0                 \n",
       " Mean   :1.208   2020-01-02:  4389   Mean   : 811.9                 \n",
       " 3rd Qu.:1.300   2020-01-03:  4257   3rd Qu.:1330.0                 \n",
       " Max.   :2.000   2019-11-08:  4097   Max.   :2355.0                 \n",
       "                 (Other)   :151805                                  \n",
       " instrument       confidence       version         bright_t31   \n",
       " MODIS:183593   Min.   :  0.00   6.0NRT:183593   Min.   :265.7  \n",
       "                1st Qu.: 59.00                   1st Qu.:293.8  \n",
       "                Median : 82.00                   Median :302.0  \n",
       "                Mean   : 74.99                   Mean   :303.3  \n",
       "                3rd Qu.: 99.00                   3rd Qu.:311.6  \n",
       "                Max.   :100.00                   Max.   :400.1  \n",
       "                                                                \n",
       "      frp           daynight  \n",
       " Min.   :    0.00   D:113467  \n",
       " 1st Qu.:   18.10   N: 70126  \n",
       " Median :   36.40             \n",
       " Mean   :   95.34             \n",
       " 3rd Qu.:   82.40             \n",
       " Max.   :11164.10             \n",
       "                              "
      ]
     },
     "metadata": {},
     "output_type": "display_data"
    }
   ],
   "source": [
    "summary(fire_nrt_M6_96619)"
   ]
  },
  {
   "cell_type": "markdown",
   "id": "6a430c5b-883f-4649-8a21-2d0e40ab6b00",
   "metadata": {},
   "source": [
    "### Resumen de Tabla Fire NRT M6 96619"
   ]
  },
  {
   "cell_type": "code",
   "execution_count": 55,
   "id": "483541eb-13b7-4622-9af4-b1f1b30ff107",
   "metadata": {
    "collapsed": true,
    "jupyter": {
     "outputs_hidden": true
    },
    "scrolled": true
   },
   "outputs": [
    {
     "data": {
      "text/html": [
       "<table>\n",
       "<thead><tr><th scope=col>latitude</th><th scope=col>longitude</th><th scope=col>brightness</th><th scope=col>scan</th><th scope=col>track</th><th scope=col>acq_date</th><th scope=col>acq_time</th><th scope=col>satellite</th><th scope=col>instrument</th><th scope=col>confidence</th><th scope=col>version</th><th scope=col>bright_t31</th><th scope=col>frp</th><th scope=col>daynight</th></tr></thead>\n",
       "<tbody>\n",
       "\t<tr><td>-14.281   </td><td>143.636   </td><td>323.9     </td><td>1.7       </td><td>1.3       </td><td>2019-10-01</td><td>25        </td><td>Terra     </td><td>MODIS     </td><td>70        </td><td>6.0NRT    </td><td>302.3     </td><td> 26.8     </td><td>D         </td></tr>\n",
       "\t<tr><td>-14.284   </td><td>143.532   </td><td>343.5     </td><td>1.7       </td><td>1.3       </td><td>2019-10-01</td><td>25        </td><td>Terra     </td><td>MODIS     </td><td>90        </td><td>6.0NRT    </td><td>306.3     </td><td> 84.3     </td><td>D         </td></tr>\n",
       "\t<tr><td>-14.302   </td><td>143.706   </td><td>320.2     </td><td>1.7       </td><td>1.3       </td><td>2019-10-01</td><td>25        </td><td>Terra     </td><td>MODIS     </td><td>30        </td><td>6.0NRT    </td><td>305.0     </td><td> 14.1     </td><td>D         </td></tr>\n",
       "\t<tr><td>-14.283   </td><td>143.652   </td><td>320.4     </td><td>1.7       </td><td>1.3       </td><td>2019-10-01</td><td>25        </td><td>Terra     </td><td>MODIS     </td><td>57        </td><td>6.0NRT    </td><td>303.3     </td><td> 18.4     </td><td>D         </td></tr>\n",
       "\t<tr><td>-14.285   </td><td>143.521   </td><td>349.4     </td><td>1.7       </td><td>1.3       </td><td>2019-10-01</td><td>25        </td><td>Terra     </td><td>MODIS     </td><td>94        </td><td>6.0NRT    </td><td>304.7     </td><td>110.7     </td><td>D         </td></tr>\n",
       "\t<tr><td>-14.273   </td><td>143.589   </td><td>328.1     </td><td>1.7       </td><td>1.3       </td><td>2019-10-01</td><td>25        </td><td>Terra     </td><td>MODIS     </td><td>62        </td><td>6.0NRT    </td><td>304.6     </td><td> 32.4     </td><td>D         </td></tr>\n",
       "\t<tr><td>-14.768   </td><td>141.792   </td><td>324.3     </td><td>2.3       </td><td>1.5       </td><td>2019-10-01</td><td>25        </td><td>Terra     </td><td>MODIS     </td><td>57        </td><td>6.0NRT    </td><td>308.1     </td><td> 24.0     </td><td>D         </td></tr>\n",
       "\t<tr><td>-14.304   </td><td>143.512   </td><td>338.0     </td><td>1.7       </td><td>1.3       </td><td>2019-10-01</td><td>25        </td><td>Terra     </td><td>MODIS     </td><td>86        </td><td>6.0NRT    </td><td>304.0     </td><td> 66.1     </td><td>D         </td></tr>\n",
       "\t<tr><td>-14.267   </td><td>143.557   </td><td>329.3     </td><td>1.7       </td><td>1.3       </td><td>2019-10-01</td><td>25        </td><td>Terra     </td><td>MODIS     </td><td>65        </td><td>6.0NRT    </td><td>304.2     </td><td> 34.2     </td><td>D         </td></tr>\n",
       "\t<tr><td>-14.307   </td><td>143.528   </td><td>331.1     </td><td>1.7       </td><td>1.3       </td><td>2019-10-01</td><td>25        </td><td>Terra     </td><td>MODIS     </td><td>70        </td><td>6.0NRT    </td><td>305.2     </td><td> 40.8     </td><td>D         </td></tr>\n",
       "\t<tr><td>-14.274   </td><td>143.523   </td><td>337.7     </td><td>1.7       </td><td>1.3       </td><td>2019-10-01</td><td>25        </td><td>Terra     </td><td>MODIS     </td><td>86        </td><td>6.0NRT    </td><td>303.2     </td><td> 62.7     </td><td>D         </td></tr>\n",
       "\t<tr><td>-14.298   </td><td>143.546   </td><td>323.3     </td><td>1.7       </td><td>1.3       </td><td>2019-10-01</td><td>25        </td><td>Terra     </td><td>MODIS     </td><td>67        </td><td>6.0NRT    </td><td>305.3     </td><td> 18.7     </td><td>D         </td></tr>\n",
       "\t<tr><td>-14.293   </td><td>143.514   </td><td>329.7     </td><td>1.7       </td><td>1.3       </td><td>2019-10-01</td><td>25        </td><td>Terra     </td><td>MODIS     </td><td>69        </td><td>6.0NRT    </td><td>303.6     </td><td> 40.4     </td><td>D         </td></tr>\n",
       "\t<tr><td>-14.281   </td><td>143.516   </td><td>340.3     </td><td>1.7       </td><td>1.3       </td><td>2019-10-01</td><td>25        </td><td>Terra     </td><td>MODIS     </td><td>87        </td><td>6.0NRT    </td><td>302.8     </td><td> 73.8     </td><td>D         </td></tr>\n",
       "\t<tr><td>-15.990   </td><td>144.631   </td><td>337.2     </td><td>1.4       </td><td>1.2       </td><td>2019-10-01</td><td>25        </td><td>Terra     </td><td>MODIS     </td><td>86        </td><td>6.0NRT    </td><td>307.7     </td><td> 40.4     </td><td>D         </td></tr>\n",
       "\t<tr><td>-12.098   </td><td>142.316   </td><td>322.0     </td><td>2.4       </td><td>1.5       </td><td>2019-10-01</td><td>25        </td><td>Terra     </td><td>MODIS     </td><td>75        </td><td>6.0NRT    </td><td>296.0     </td><td> 42.2     </td><td>D         </td></tr>\n",
       "\t<tr><td>-13.365   </td><td>141.954   </td><td>323.1     </td><td>2.4       </td><td>1.5       </td><td>2019-10-01</td><td>25        </td><td>Terra     </td><td>MODIS     </td><td>71        </td><td>6.0NRT    </td><td>302.7     </td><td> 43.1     </td><td>D         </td></tr>\n",
       "\t<tr><td>-16.934   </td><td>143.176   </td><td>334.0     </td><td>1.6       </td><td>1.3       </td><td>2019-10-01</td><td>25        </td><td>Terra     </td><td>MODIS     </td><td>78        </td><td>6.0NRT    </td><td>307.2     </td><td> 43.4     </td><td>D         </td></tr>\n",
       "\t<tr><td>-15.992   </td><td>144.644   </td><td>324.0     </td><td>1.4       </td><td>1.2       </td><td>2019-10-01</td><td>25        </td><td>Terra     </td><td>MODIS     </td><td>34        </td><td>6.0NRT    </td><td>307.5     </td><td> 13.3     </td><td>D         </td></tr>\n",
       "\t<tr><td>-15.904   </td><td>144.601   </td><td>338.2     </td><td>1.4       </td><td>1.2       </td><td>2019-10-01</td><td>25        </td><td>Terra     </td><td>MODIS     </td><td>82        </td><td>6.0NRT    </td><td>307.0     </td><td> 45.6     </td><td>D         </td></tr>\n",
       "\t<tr><td>-15.906   </td><td>144.614   </td><td>351.9     </td><td>1.4       </td><td>1.2       </td><td>2019-10-01</td><td>25        </td><td>Terra     </td><td>MODIS     </td><td>95        </td><td>6.0NRT    </td><td>308.9     </td><td> 86.2     </td><td>D         </td></tr>\n",
       "\t<tr><td>-15.908   </td><td>144.626   </td><td>333.4     </td><td>1.4       </td><td>1.2       </td><td>2019-10-01</td><td>25        </td><td>Terra     </td><td>MODIS     </td><td>69        </td><td>6.0NRT    </td><td>307.1     </td><td> 34.5     </td><td>D         </td></tr>\n",
       "\t<tr><td>-15.932   </td><td>144.537   </td><td>321.5     </td><td>1.4       </td><td>1.2       </td><td>2019-10-01</td><td>25        </td><td>Terra     </td><td>MODIS     </td><td>35        </td><td>6.0NRT    </td><td>307.8     </td><td>  8.8     </td><td>D         </td></tr>\n",
       "\t<tr><td>-15.980   </td><td>144.633   </td><td>337.0     </td><td>1.4       </td><td>1.2       </td><td>2019-10-01</td><td>25        </td><td>Terra     </td><td>MODIS     </td><td>85        </td><td>6.0NRT    </td><td>310.6     </td><td> 38.7     </td><td>D         </td></tr>\n",
       "\t<tr><td>-15.982   </td><td>144.645   </td><td>333.4     </td><td>1.4       </td><td>1.2       </td><td>2019-10-01</td><td>25        </td><td>Terra     </td><td>MODIS     </td><td>77        </td><td>6.0NRT    </td><td>308.4     </td><td> 30.4     </td><td>D         </td></tr>\n",
       "\t<tr><td>-16.988   </td><td>143.292   </td><td>341.1     </td><td>1.6       </td><td>1.3       </td><td>2019-10-01</td><td>25        </td><td>Terra     </td><td>MODIS     </td><td>86        </td><td>6.0NRT    </td><td>310.9     </td><td> 58.0     </td><td>D         </td></tr>\n",
       "\t<tr><td>-17.056   </td><td>143.350   </td><td>351.7     </td><td>1.6       </td><td>1.2       </td><td>2019-10-01</td><td>25        </td><td>Terra     </td><td>MODIS     </td><td>94        </td><td>6.0NRT    </td><td>313.7     </td><td> 93.3     </td><td>D         </td></tr>\n",
       "\t<tr><td>-18.317   </td><td>142.437   </td><td>328.7     </td><td>1.8       </td><td>1.3       </td><td>2019-10-01</td><td>25        </td><td>Terra     </td><td>MODIS     </td><td>54        </td><td>6.0NRT    </td><td>310.2     </td><td> 23.1     </td><td>D         </td></tr>\n",
       "\t<tr><td>-16.834   </td><td>139.103   </td><td>311.9     </td><td>3.3       </td><td>1.7       </td><td>2019-10-01</td><td>25        </td><td>Terra     </td><td>MODIS     </td><td>29        </td><td>6.0NRT    </td><td>301.1     </td><td> 43.5     </td><td>D         </td></tr>\n",
       "\t<tr><td>-18.306   </td><td>142.439   </td><td>332.9     </td><td>1.8       </td><td>1.3       </td><td>2019-10-01</td><td>25        </td><td>Terra     </td><td>MODIS     </td><td>61        </td><td>6.0NRT    </td><td>311.8     </td><td> 33.3     </td><td>D         </td></tr>\n",
       "\t<tr><td>...</td><td>...</td><td>...</td><td>...</td><td>...</td><td>...</td><td>...</td><td>...</td><td>...</td><td>...</td><td>...</td><td>...</td><td>...</td><td>...</td></tr>\n",
       "\t<tr><td>-35.817   </td><td>147.536   </td><td>309.3     </td><td>1.1       </td><td>1.0       </td><td>2020-01-11</td><td>1510      </td><td>Aqua      </td><td>MODIS     </td><td> 26       </td><td>6.0NRT    </td><td>289.2     </td><td>10.1      </td><td>N         </td></tr>\n",
       "\t<tr><td>-35.871   </td><td>147.935   </td><td>305.7     </td><td>1.0       </td><td>1.0       </td><td>2020-01-11</td><td>1510      </td><td>Aqua      </td><td>MODIS     </td><td> 65       </td><td>6.0NRT    </td><td>287.9     </td><td> 8.9      </td><td>N         </td></tr>\n",
       "\t<tr><td>-35.881   </td><td>147.933   </td><td>320.7     </td><td>1.0       </td><td>1.0       </td><td>2020-01-11</td><td>1510      </td><td>Aqua      </td><td>MODIS     </td><td>100       </td><td>6.0NRT    </td><td>288.1     </td><td>20.9      </td><td>N         </td></tr>\n",
       "\t<tr><td>-35.882   </td><td>147.944   </td><td>314.3     </td><td>1.0       </td><td>1.0       </td><td>2020-01-11</td><td>1510      </td><td>Aqua      </td><td>MODIS     </td><td> 89       </td><td>6.0NRT    </td><td>289.3     </td><td>14.5      </td><td>N         </td></tr>\n",
       "\t<tr><td>-35.884   </td><td>147.956   </td><td>312.7     </td><td>1.0       </td><td>1.0       </td><td>2020-01-11</td><td>1510      </td><td>Aqua      </td><td>MODIS     </td><td> 85       </td><td>6.0NRT    </td><td>289.0     </td><td>13.3      </td><td>N         </td></tr>\n",
       "\t<tr><td>-35.979   </td><td>147.811   </td><td>319.2     </td><td>1.0       </td><td>1.0       </td><td>2020-01-11</td><td>1510      </td><td>Aqua      </td><td>MODIS     </td><td> 98       </td><td>6.0NRT    </td><td>290.6     </td><td>19.5      </td><td>N         </td></tr>\n",
       "\t<tr><td>-35.828   </td><td>147.667   </td><td>304.0     </td><td>1.1       </td><td>1.0       </td><td>2020-01-11</td><td>1510      </td><td>Aqua      </td><td>MODIS     </td><td> 58       </td><td>6.0NRT    </td><td>289.1     </td><td> 7.5      </td><td>N         </td></tr>\n",
       "\t<tr><td>-36.353   </td><td>147.721   </td><td>309.7     </td><td>1.0       </td><td>1.0       </td><td>2020-01-11</td><td>1510      </td><td>Aqua      </td><td>MODIS     </td><td> 78       </td><td>6.0NRT    </td><td>284.9     </td><td>12.1      </td><td>N         </td></tr>\n",
       "\t<tr><td>-36.355   </td><td>147.732   </td><td>333.3     </td><td>1.0       </td><td>1.0       </td><td>2020-01-11</td><td>1510      </td><td>Aqua      </td><td>MODIS     </td><td>100       </td><td>6.0NRT    </td><td>287.8     </td><td>37.6      </td><td>N         </td></tr>\n",
       "\t<tr><td>-36.357   </td><td>147.744   </td><td>325.0     </td><td>1.0       </td><td>1.0       </td><td>2020-01-11</td><td>1510      </td><td>Aqua      </td><td>MODIS     </td><td> 84       </td><td>6.0NRT    </td><td>286.6     </td><td>24.0      </td><td>N         </td></tr>\n",
       "\t<tr><td>-36.359   </td><td>147.756   </td><td>331.5     </td><td>1.0       </td><td>1.0       </td><td>2020-01-11</td><td>1510      </td><td>Aqua      </td><td>MODIS     </td><td>100       </td><td>6.0NRT    </td><td>287.6     </td><td>32.6      </td><td>N         </td></tr>\n",
       "\t<tr><td>-36.361   </td><td>147.767   </td><td>317.1     </td><td>1.0       </td><td>1.0       </td><td>2020-01-11</td><td>1510      </td><td>Aqua      </td><td>MODIS     </td><td> 75       </td><td>6.0NRT    </td><td>287.3     </td><td>16.0      </td><td>N         </td></tr>\n",
       "\t<tr><td>-36.362   </td><td>147.719   </td><td>324.1     </td><td>1.0       </td><td>1.0       </td><td>2020-01-11</td><td>1510      </td><td>Aqua      </td><td>MODIS     </td><td> 70       </td><td>6.0NRT    </td><td>285.5     </td><td>24.2      </td><td>N         </td></tr>\n",
       "\t<tr><td>-36.364   </td><td>147.730   </td><td>332.1     </td><td>1.0       </td><td>1.0       </td><td>2020-01-11</td><td>1510      </td><td>Aqua      </td><td>MODIS     </td><td> 90       </td><td>6.0NRT    </td><td>287.8     </td><td>33.9      </td><td>N         </td></tr>\n",
       "\t<tr><td>-36.368   </td><td>147.753   </td><td>327.2     </td><td>1.0       </td><td>1.0       </td><td>2020-01-11</td><td>1510      </td><td>Aqua      </td><td>MODIS     </td><td>100       </td><td>6.0NRT    </td><td>286.4     </td><td>26.7      </td><td>N         </td></tr>\n",
       "\t<tr><td>-36.370   </td><td>147.765   </td><td>318.5     </td><td>1.0       </td><td>1.0       </td><td>2020-01-11</td><td>1510      </td><td>Aqua      </td><td>MODIS     </td><td> 97       </td><td>6.0NRT    </td><td>286.7     </td><td>18.1      </td><td>N         </td></tr>\n",
       "\t<tr><td>-36.372   </td><td>147.716   </td><td>327.1     </td><td>1.0       </td><td>1.0       </td><td>2020-01-11</td><td>1510      </td><td>Aqua      </td><td>MODIS     </td><td> 70       </td><td>6.0NRT    </td><td>285.6     </td><td>27.6      </td><td>N         </td></tr>\n",
       "\t<tr><td>-36.381   </td><td>147.714   </td><td>309.1     </td><td>1.0       </td><td>1.0       </td><td>2020-01-11</td><td>1510      </td><td>Aqua      </td><td>MODIS     </td><td> 76       </td><td>6.0NRT    </td><td>283.5     </td><td>11.6      </td><td>N         </td></tr>\n",
       "\t<tr><td>-36.383   </td><td>147.726   </td><td>304.0     </td><td>1.0       </td><td>1.0       </td><td>2020-01-11</td><td>1510      </td><td>Aqua      </td><td>MODIS     </td><td> 27       </td><td>6.0NRT    </td><td>283.6     </td><td> 7.9      </td><td>N         </td></tr>\n",
       "\t<tr><td>-36.390   </td><td>147.712   </td><td>320.6     </td><td>1.0       </td><td>1.0       </td><td>2020-01-11</td><td>1510      </td><td>Aqua      </td><td>MODIS     </td><td> 88       </td><td>6.0NRT    </td><td>284.3     </td><td>21.0      </td><td>N         </td></tr>\n",
       "\t<tr><td>-36.392   </td><td>147.724   </td><td>330.8     </td><td>1.0       </td><td>1.0       </td><td>2020-01-11</td><td>1510      </td><td>Aqua      </td><td>MODIS     </td><td>100       </td><td>6.0NRT    </td><td>285.6     </td><td>33.3      </td><td>N         </td></tr>\n",
       "\t<tr><td>-36.436   </td><td>147.719   </td><td>323.8     </td><td>1.0       </td><td>1.0       </td><td>2020-01-11</td><td>1510      </td><td>Aqua      </td><td>MODIS     </td><td> 82       </td><td>6.0NRT    </td><td>283.6     </td><td>24.8      </td><td>N         </td></tr>\n",
       "\t<tr><td>-30.863   </td><td>121.497   </td><td>304.2     </td><td>2.4       </td><td>1.5       </td><td>2020-01-11</td><td>1515      </td><td>Terra     </td><td>MODIS     </td><td> 50       </td><td>6.0NRT    </td><td>290.8     </td><td>18.8      </td><td>N         </td></tr>\n",
       "\t<tr><td>-32.484   </td><td>121.299   </td><td>307.0     </td><td>2.1       </td><td>1.4       </td><td>2020-01-11</td><td>1515      </td><td>Terra     </td><td>MODIS     </td><td> 44       </td><td>6.0NRT    </td><td>293.0     </td><td>19.3      </td><td>N         </td></tr>\n",
       "\t<tr><td>-32.482   </td><td>121.305   </td><td>309.2     </td><td>2.1       </td><td>1.4       </td><td>2020-01-11</td><td>1515      </td><td>Terra     </td><td>MODIS     </td><td> 77       </td><td>6.0NRT    </td><td>293.2     </td><td>25.5      </td><td>N         </td></tr>\n",
       "\t<tr><td>-32.675   </td><td>122.113   </td><td>300.5     </td><td>2.4       </td><td>1.5       </td><td>2020-01-11</td><td>1515      </td><td>Terra     </td><td>MODIS     </td><td> 19       </td><td>6.0NRT    </td><td>289.3     </td><td>15.3      </td><td>N         </td></tr>\n",
       "\t<tr><td>-16.708   </td><td>129.646   </td><td>300.5     </td><td>1.0       </td><td>1.0       </td><td>2020-01-11</td><td>1645      </td><td>Aqua      </td><td>MODIS     </td><td> 16       </td><td>6.0NRT    </td><td>280.8     </td><td> 2.9      </td><td>N         </td></tr>\n",
       "\t<tr><td>-16.747   </td><td>129.653   </td><td>301.8     </td><td>1.0       </td><td>1.0       </td><td>2020-01-11</td><td>1645      </td><td>Aqua      </td><td>MODIS     </td><td> 23       </td><td>6.0NRT    </td><td>277.9     </td><td> 3.7      </td><td>N         </td></tr>\n",
       "\t<tr><td>-32.484   </td><td>121.319   </td><td>306.5     </td><td>1.4       </td><td>1.2       </td><td>2020-01-11</td><td>1650      </td><td>Aqua      </td><td>MODIS     </td><td> 68       </td><td>6.0NRT    </td><td>291.9     </td><td>11.6      </td><td>N         </td></tr>\n",
       "\t<tr><td>-30.858   </td><td>121.500   </td><td>300.7     </td><td>1.4       </td><td>1.2       </td><td>2020-01-11</td><td>1650      </td><td>Aqua      </td><td>MODIS     </td><td> 32       </td><td>6.0NRT    </td><td>290.5     </td><td> 6.8      </td><td>N         </td></tr>\n",
       "</tbody>\n",
       "</table>\n"
      ],
      "text/latex": [
       "\\begin{tabular}{r|llllllllllllll}\n",
       " latitude & longitude & brightness & scan & track & acq\\_date & acq\\_time & satellite & instrument & confidence & version & bright\\_t31 & frp & daynight\\\\\n",
       "\\hline\n",
       "\t -14.281    & 143.636    & 323.9      & 1.7        & 1.3        & 2019-10-01 & 25         & Terra      & MODIS      & 70         & 6.0NRT     & 302.3      &  26.8      & D         \\\\\n",
       "\t -14.284    & 143.532    & 343.5      & 1.7        & 1.3        & 2019-10-01 & 25         & Terra      & MODIS      & 90         & 6.0NRT     & 306.3      &  84.3      & D         \\\\\n",
       "\t -14.302    & 143.706    & 320.2      & 1.7        & 1.3        & 2019-10-01 & 25         & Terra      & MODIS      & 30         & 6.0NRT     & 305.0      &  14.1      & D         \\\\\n",
       "\t -14.283    & 143.652    & 320.4      & 1.7        & 1.3        & 2019-10-01 & 25         & Terra      & MODIS      & 57         & 6.0NRT     & 303.3      &  18.4      & D         \\\\\n",
       "\t -14.285    & 143.521    & 349.4      & 1.7        & 1.3        & 2019-10-01 & 25         & Terra      & MODIS      & 94         & 6.0NRT     & 304.7      & 110.7      & D         \\\\\n",
       "\t -14.273    & 143.589    & 328.1      & 1.7        & 1.3        & 2019-10-01 & 25         & Terra      & MODIS      & 62         & 6.0NRT     & 304.6      &  32.4      & D         \\\\\n",
       "\t -14.768    & 141.792    & 324.3      & 2.3        & 1.5        & 2019-10-01 & 25         & Terra      & MODIS      & 57         & 6.0NRT     & 308.1      &  24.0      & D         \\\\\n",
       "\t -14.304    & 143.512    & 338.0      & 1.7        & 1.3        & 2019-10-01 & 25         & Terra      & MODIS      & 86         & 6.0NRT     & 304.0      &  66.1      & D         \\\\\n",
       "\t -14.267    & 143.557    & 329.3      & 1.7        & 1.3        & 2019-10-01 & 25         & Terra      & MODIS      & 65         & 6.0NRT     & 304.2      &  34.2      & D         \\\\\n",
       "\t -14.307    & 143.528    & 331.1      & 1.7        & 1.3        & 2019-10-01 & 25         & Terra      & MODIS      & 70         & 6.0NRT     & 305.2      &  40.8      & D         \\\\\n",
       "\t -14.274    & 143.523    & 337.7      & 1.7        & 1.3        & 2019-10-01 & 25         & Terra      & MODIS      & 86         & 6.0NRT     & 303.2      &  62.7      & D         \\\\\n",
       "\t -14.298    & 143.546    & 323.3      & 1.7        & 1.3        & 2019-10-01 & 25         & Terra      & MODIS      & 67         & 6.0NRT     & 305.3      &  18.7      & D         \\\\\n",
       "\t -14.293    & 143.514    & 329.7      & 1.7        & 1.3        & 2019-10-01 & 25         & Terra      & MODIS      & 69         & 6.0NRT     & 303.6      &  40.4      & D         \\\\\n",
       "\t -14.281    & 143.516    & 340.3      & 1.7        & 1.3        & 2019-10-01 & 25         & Terra      & MODIS      & 87         & 6.0NRT     & 302.8      &  73.8      & D         \\\\\n",
       "\t -15.990    & 144.631    & 337.2      & 1.4        & 1.2        & 2019-10-01 & 25         & Terra      & MODIS      & 86         & 6.0NRT     & 307.7      &  40.4      & D         \\\\\n",
       "\t -12.098    & 142.316    & 322.0      & 2.4        & 1.5        & 2019-10-01 & 25         & Terra      & MODIS      & 75         & 6.0NRT     & 296.0      &  42.2      & D         \\\\\n",
       "\t -13.365    & 141.954    & 323.1      & 2.4        & 1.5        & 2019-10-01 & 25         & Terra      & MODIS      & 71         & 6.0NRT     & 302.7      &  43.1      & D         \\\\\n",
       "\t -16.934    & 143.176    & 334.0      & 1.6        & 1.3        & 2019-10-01 & 25         & Terra      & MODIS      & 78         & 6.0NRT     & 307.2      &  43.4      & D         \\\\\n",
       "\t -15.992    & 144.644    & 324.0      & 1.4        & 1.2        & 2019-10-01 & 25         & Terra      & MODIS      & 34         & 6.0NRT     & 307.5      &  13.3      & D         \\\\\n",
       "\t -15.904    & 144.601    & 338.2      & 1.4        & 1.2        & 2019-10-01 & 25         & Terra      & MODIS      & 82         & 6.0NRT     & 307.0      &  45.6      & D         \\\\\n",
       "\t -15.906    & 144.614    & 351.9      & 1.4        & 1.2        & 2019-10-01 & 25         & Terra      & MODIS      & 95         & 6.0NRT     & 308.9      &  86.2      & D         \\\\\n",
       "\t -15.908    & 144.626    & 333.4      & 1.4        & 1.2        & 2019-10-01 & 25         & Terra      & MODIS      & 69         & 6.0NRT     & 307.1      &  34.5      & D         \\\\\n",
       "\t -15.932    & 144.537    & 321.5      & 1.4        & 1.2        & 2019-10-01 & 25         & Terra      & MODIS      & 35         & 6.0NRT     & 307.8      &   8.8      & D         \\\\\n",
       "\t -15.980    & 144.633    & 337.0      & 1.4        & 1.2        & 2019-10-01 & 25         & Terra      & MODIS      & 85         & 6.0NRT     & 310.6      &  38.7      & D         \\\\\n",
       "\t -15.982    & 144.645    & 333.4      & 1.4        & 1.2        & 2019-10-01 & 25         & Terra      & MODIS      & 77         & 6.0NRT     & 308.4      &  30.4      & D         \\\\\n",
       "\t -16.988    & 143.292    & 341.1      & 1.6        & 1.3        & 2019-10-01 & 25         & Terra      & MODIS      & 86         & 6.0NRT     & 310.9      &  58.0      & D         \\\\\n",
       "\t -17.056    & 143.350    & 351.7      & 1.6        & 1.2        & 2019-10-01 & 25         & Terra      & MODIS      & 94         & 6.0NRT     & 313.7      &  93.3      & D         \\\\\n",
       "\t -18.317    & 142.437    & 328.7      & 1.8        & 1.3        & 2019-10-01 & 25         & Terra      & MODIS      & 54         & 6.0NRT     & 310.2      &  23.1      & D         \\\\\n",
       "\t -16.834    & 139.103    & 311.9      & 3.3        & 1.7        & 2019-10-01 & 25         & Terra      & MODIS      & 29         & 6.0NRT     & 301.1      &  43.5      & D         \\\\\n",
       "\t -18.306    & 142.439    & 332.9      & 1.8        & 1.3        & 2019-10-01 & 25         & Terra      & MODIS      & 61         & 6.0NRT     & 311.8      &  33.3      & D         \\\\\n",
       "\t ... & ... & ... & ... & ... & ... & ... & ... & ... & ... & ... & ... & ... & ...\\\\\n",
       "\t -35.817    & 147.536    & 309.3      & 1.1        & 1.0        & 2020-01-11 & 1510       & Aqua       & MODIS      &  26        & 6.0NRT     & 289.2      & 10.1       & N         \\\\\n",
       "\t -35.871    & 147.935    & 305.7      & 1.0        & 1.0        & 2020-01-11 & 1510       & Aqua       & MODIS      &  65        & 6.0NRT     & 287.9      &  8.9       & N         \\\\\n",
       "\t -35.881    & 147.933    & 320.7      & 1.0        & 1.0        & 2020-01-11 & 1510       & Aqua       & MODIS      & 100        & 6.0NRT     & 288.1      & 20.9       & N         \\\\\n",
       "\t -35.882    & 147.944    & 314.3      & 1.0        & 1.0        & 2020-01-11 & 1510       & Aqua       & MODIS      &  89        & 6.0NRT     & 289.3      & 14.5       & N         \\\\\n",
       "\t -35.884    & 147.956    & 312.7      & 1.0        & 1.0        & 2020-01-11 & 1510       & Aqua       & MODIS      &  85        & 6.0NRT     & 289.0      & 13.3       & N         \\\\\n",
       "\t -35.979    & 147.811    & 319.2      & 1.0        & 1.0        & 2020-01-11 & 1510       & Aqua       & MODIS      &  98        & 6.0NRT     & 290.6      & 19.5       & N         \\\\\n",
       "\t -35.828    & 147.667    & 304.0      & 1.1        & 1.0        & 2020-01-11 & 1510       & Aqua       & MODIS      &  58        & 6.0NRT     & 289.1      &  7.5       & N         \\\\\n",
       "\t -36.353    & 147.721    & 309.7      & 1.0        & 1.0        & 2020-01-11 & 1510       & Aqua       & MODIS      &  78        & 6.0NRT     & 284.9      & 12.1       & N         \\\\\n",
       "\t -36.355    & 147.732    & 333.3      & 1.0        & 1.0        & 2020-01-11 & 1510       & Aqua       & MODIS      & 100        & 6.0NRT     & 287.8      & 37.6       & N         \\\\\n",
       "\t -36.357    & 147.744    & 325.0      & 1.0        & 1.0        & 2020-01-11 & 1510       & Aqua       & MODIS      &  84        & 6.0NRT     & 286.6      & 24.0       & N         \\\\\n",
       "\t -36.359    & 147.756    & 331.5      & 1.0        & 1.0        & 2020-01-11 & 1510       & Aqua       & MODIS      & 100        & 6.0NRT     & 287.6      & 32.6       & N         \\\\\n",
       "\t -36.361    & 147.767    & 317.1      & 1.0        & 1.0        & 2020-01-11 & 1510       & Aqua       & MODIS      &  75        & 6.0NRT     & 287.3      & 16.0       & N         \\\\\n",
       "\t -36.362    & 147.719    & 324.1      & 1.0        & 1.0        & 2020-01-11 & 1510       & Aqua       & MODIS      &  70        & 6.0NRT     & 285.5      & 24.2       & N         \\\\\n",
       "\t -36.364    & 147.730    & 332.1      & 1.0        & 1.0        & 2020-01-11 & 1510       & Aqua       & MODIS      &  90        & 6.0NRT     & 287.8      & 33.9       & N         \\\\\n",
       "\t -36.368    & 147.753    & 327.2      & 1.0        & 1.0        & 2020-01-11 & 1510       & Aqua       & MODIS      & 100        & 6.0NRT     & 286.4      & 26.7       & N         \\\\\n",
       "\t -36.370    & 147.765    & 318.5      & 1.0        & 1.0        & 2020-01-11 & 1510       & Aqua       & MODIS      &  97        & 6.0NRT     & 286.7      & 18.1       & N         \\\\\n",
       "\t -36.372    & 147.716    & 327.1      & 1.0        & 1.0        & 2020-01-11 & 1510       & Aqua       & MODIS      &  70        & 6.0NRT     & 285.6      & 27.6       & N         \\\\\n",
       "\t -36.381    & 147.714    & 309.1      & 1.0        & 1.0        & 2020-01-11 & 1510       & Aqua       & MODIS      &  76        & 6.0NRT     & 283.5      & 11.6       & N         \\\\\n",
       "\t -36.383    & 147.726    & 304.0      & 1.0        & 1.0        & 2020-01-11 & 1510       & Aqua       & MODIS      &  27        & 6.0NRT     & 283.6      &  7.9       & N         \\\\\n",
       "\t -36.390    & 147.712    & 320.6      & 1.0        & 1.0        & 2020-01-11 & 1510       & Aqua       & MODIS      &  88        & 6.0NRT     & 284.3      & 21.0       & N         \\\\\n",
       "\t -36.392    & 147.724    & 330.8      & 1.0        & 1.0        & 2020-01-11 & 1510       & Aqua       & MODIS      & 100        & 6.0NRT     & 285.6      & 33.3       & N         \\\\\n",
       "\t -36.436    & 147.719    & 323.8      & 1.0        & 1.0        & 2020-01-11 & 1510       & Aqua       & MODIS      &  82        & 6.0NRT     & 283.6      & 24.8       & N         \\\\\n",
       "\t -30.863    & 121.497    & 304.2      & 2.4        & 1.5        & 2020-01-11 & 1515       & Terra      & MODIS      &  50        & 6.0NRT     & 290.8      & 18.8       & N         \\\\\n",
       "\t -32.484    & 121.299    & 307.0      & 2.1        & 1.4        & 2020-01-11 & 1515       & Terra      & MODIS      &  44        & 6.0NRT     & 293.0      & 19.3       & N         \\\\\n",
       "\t -32.482    & 121.305    & 309.2      & 2.1        & 1.4        & 2020-01-11 & 1515       & Terra      & MODIS      &  77        & 6.0NRT     & 293.2      & 25.5       & N         \\\\\n",
       "\t -32.675    & 122.113    & 300.5      & 2.4        & 1.5        & 2020-01-11 & 1515       & Terra      & MODIS      &  19        & 6.0NRT     & 289.3      & 15.3       & N         \\\\\n",
       "\t -16.708    & 129.646    & 300.5      & 1.0        & 1.0        & 2020-01-11 & 1645       & Aqua       & MODIS      &  16        & 6.0NRT     & 280.8      &  2.9       & N         \\\\\n",
       "\t -16.747    & 129.653    & 301.8      & 1.0        & 1.0        & 2020-01-11 & 1645       & Aqua       & MODIS      &  23        & 6.0NRT     & 277.9      &  3.7       & N         \\\\\n",
       "\t -32.484    & 121.319    & 306.5      & 1.4        & 1.2        & 2020-01-11 & 1650       & Aqua       & MODIS      &  68        & 6.0NRT     & 291.9      & 11.6       & N         \\\\\n",
       "\t -30.858    & 121.500    & 300.7      & 1.4        & 1.2        & 2020-01-11 & 1650       & Aqua       & MODIS      &  32        & 6.0NRT     & 290.5      &  6.8       & N         \\\\\n",
       "\\end{tabular}\n"
      ],
      "text/markdown": [
       "\n",
       "| latitude | longitude | brightness | scan | track | acq_date | acq_time | satellite | instrument | confidence | version | bright_t31 | frp | daynight |\n",
       "|---|---|---|---|---|---|---|---|---|---|---|---|---|---|\n",
       "| -14.281    | 143.636    | 323.9      | 1.7        | 1.3        | 2019-10-01 | 25         | Terra      | MODIS      | 70         | 6.0NRT     | 302.3      |  26.8      | D          |\n",
       "| -14.284    | 143.532    | 343.5      | 1.7        | 1.3        | 2019-10-01 | 25         | Terra      | MODIS      | 90         | 6.0NRT     | 306.3      |  84.3      | D          |\n",
       "| -14.302    | 143.706    | 320.2      | 1.7        | 1.3        | 2019-10-01 | 25         | Terra      | MODIS      | 30         | 6.0NRT     | 305.0      |  14.1      | D          |\n",
       "| -14.283    | 143.652    | 320.4      | 1.7        | 1.3        | 2019-10-01 | 25         | Terra      | MODIS      | 57         | 6.0NRT     | 303.3      |  18.4      | D          |\n",
       "| -14.285    | 143.521    | 349.4      | 1.7        | 1.3        | 2019-10-01 | 25         | Terra      | MODIS      | 94         | 6.0NRT     | 304.7      | 110.7      | D          |\n",
       "| -14.273    | 143.589    | 328.1      | 1.7        | 1.3        | 2019-10-01 | 25         | Terra      | MODIS      | 62         | 6.0NRT     | 304.6      |  32.4      | D          |\n",
       "| -14.768    | 141.792    | 324.3      | 2.3        | 1.5        | 2019-10-01 | 25         | Terra      | MODIS      | 57         | 6.0NRT     | 308.1      |  24.0      | D          |\n",
       "| -14.304    | 143.512    | 338.0      | 1.7        | 1.3        | 2019-10-01 | 25         | Terra      | MODIS      | 86         | 6.0NRT     | 304.0      |  66.1      | D          |\n",
       "| -14.267    | 143.557    | 329.3      | 1.7        | 1.3        | 2019-10-01 | 25         | Terra      | MODIS      | 65         | 6.0NRT     | 304.2      |  34.2      | D          |\n",
       "| -14.307    | 143.528    | 331.1      | 1.7        | 1.3        | 2019-10-01 | 25         | Terra      | MODIS      | 70         | 6.0NRT     | 305.2      |  40.8      | D          |\n",
       "| -14.274    | 143.523    | 337.7      | 1.7        | 1.3        | 2019-10-01 | 25         | Terra      | MODIS      | 86         | 6.0NRT     | 303.2      |  62.7      | D          |\n",
       "| -14.298    | 143.546    | 323.3      | 1.7        | 1.3        | 2019-10-01 | 25         | Terra      | MODIS      | 67         | 6.0NRT     | 305.3      |  18.7      | D          |\n",
       "| -14.293    | 143.514    | 329.7      | 1.7        | 1.3        | 2019-10-01 | 25         | Terra      | MODIS      | 69         | 6.0NRT     | 303.6      |  40.4      | D          |\n",
       "| -14.281    | 143.516    | 340.3      | 1.7        | 1.3        | 2019-10-01 | 25         | Terra      | MODIS      | 87         | 6.0NRT     | 302.8      |  73.8      | D          |\n",
       "| -15.990    | 144.631    | 337.2      | 1.4        | 1.2        | 2019-10-01 | 25         | Terra      | MODIS      | 86         | 6.0NRT     | 307.7      |  40.4      | D          |\n",
       "| -12.098    | 142.316    | 322.0      | 2.4        | 1.5        | 2019-10-01 | 25         | Terra      | MODIS      | 75         | 6.0NRT     | 296.0      |  42.2      | D          |\n",
       "| -13.365    | 141.954    | 323.1      | 2.4        | 1.5        | 2019-10-01 | 25         | Terra      | MODIS      | 71         | 6.0NRT     | 302.7      |  43.1      | D          |\n",
       "| -16.934    | 143.176    | 334.0      | 1.6        | 1.3        | 2019-10-01 | 25         | Terra      | MODIS      | 78         | 6.0NRT     | 307.2      |  43.4      | D          |\n",
       "| -15.992    | 144.644    | 324.0      | 1.4        | 1.2        | 2019-10-01 | 25         | Terra      | MODIS      | 34         | 6.0NRT     | 307.5      |  13.3      | D          |\n",
       "| -15.904    | 144.601    | 338.2      | 1.4        | 1.2        | 2019-10-01 | 25         | Terra      | MODIS      | 82         | 6.0NRT     | 307.0      |  45.6      | D          |\n",
       "| -15.906    | 144.614    | 351.9      | 1.4        | 1.2        | 2019-10-01 | 25         | Terra      | MODIS      | 95         | 6.0NRT     | 308.9      |  86.2      | D          |\n",
       "| -15.908    | 144.626    | 333.4      | 1.4        | 1.2        | 2019-10-01 | 25         | Terra      | MODIS      | 69         | 6.0NRT     | 307.1      |  34.5      | D          |\n",
       "| -15.932    | 144.537    | 321.5      | 1.4        | 1.2        | 2019-10-01 | 25         | Terra      | MODIS      | 35         | 6.0NRT     | 307.8      |   8.8      | D          |\n",
       "| -15.980    | 144.633    | 337.0      | 1.4        | 1.2        | 2019-10-01 | 25         | Terra      | MODIS      | 85         | 6.0NRT     | 310.6      |  38.7      | D          |\n",
       "| -15.982    | 144.645    | 333.4      | 1.4        | 1.2        | 2019-10-01 | 25         | Terra      | MODIS      | 77         | 6.0NRT     | 308.4      |  30.4      | D          |\n",
       "| -16.988    | 143.292    | 341.1      | 1.6        | 1.3        | 2019-10-01 | 25         | Terra      | MODIS      | 86         | 6.0NRT     | 310.9      |  58.0      | D          |\n",
       "| -17.056    | 143.350    | 351.7      | 1.6        | 1.2        | 2019-10-01 | 25         | Terra      | MODIS      | 94         | 6.0NRT     | 313.7      |  93.3      | D          |\n",
       "| -18.317    | 142.437    | 328.7      | 1.8        | 1.3        | 2019-10-01 | 25         | Terra      | MODIS      | 54         | 6.0NRT     | 310.2      |  23.1      | D          |\n",
       "| -16.834    | 139.103    | 311.9      | 3.3        | 1.7        | 2019-10-01 | 25         | Terra      | MODIS      | 29         | 6.0NRT     | 301.1      |  43.5      | D          |\n",
       "| -18.306    | 142.439    | 332.9      | 1.8        | 1.3        | 2019-10-01 | 25         | Terra      | MODIS      | 61         | 6.0NRT     | 311.8      |  33.3      | D          |\n",
       "| ... | ... | ... | ... | ... | ... | ... | ... | ... | ... | ... | ... | ... | ... |\n",
       "| -35.817    | 147.536    | 309.3      | 1.1        | 1.0        | 2020-01-11 | 1510       | Aqua       | MODIS      |  26        | 6.0NRT     | 289.2      | 10.1       | N          |\n",
       "| -35.871    | 147.935    | 305.7      | 1.0        | 1.0        | 2020-01-11 | 1510       | Aqua       | MODIS      |  65        | 6.0NRT     | 287.9      |  8.9       | N          |\n",
       "| -35.881    | 147.933    | 320.7      | 1.0        | 1.0        | 2020-01-11 | 1510       | Aqua       | MODIS      | 100        | 6.0NRT     | 288.1      | 20.9       | N          |\n",
       "| -35.882    | 147.944    | 314.3      | 1.0        | 1.0        | 2020-01-11 | 1510       | Aqua       | MODIS      |  89        | 6.0NRT     | 289.3      | 14.5       | N          |\n",
       "| -35.884    | 147.956    | 312.7      | 1.0        | 1.0        | 2020-01-11 | 1510       | Aqua       | MODIS      |  85        | 6.0NRT     | 289.0      | 13.3       | N          |\n",
       "| -35.979    | 147.811    | 319.2      | 1.0        | 1.0        | 2020-01-11 | 1510       | Aqua       | MODIS      |  98        | 6.0NRT     | 290.6      | 19.5       | N          |\n",
       "| -35.828    | 147.667    | 304.0      | 1.1        | 1.0        | 2020-01-11 | 1510       | Aqua       | MODIS      |  58        | 6.0NRT     | 289.1      |  7.5       | N          |\n",
       "| -36.353    | 147.721    | 309.7      | 1.0        | 1.0        | 2020-01-11 | 1510       | Aqua       | MODIS      |  78        | 6.0NRT     | 284.9      | 12.1       | N          |\n",
       "| -36.355    | 147.732    | 333.3      | 1.0        | 1.0        | 2020-01-11 | 1510       | Aqua       | MODIS      | 100        | 6.0NRT     | 287.8      | 37.6       | N          |\n",
       "| -36.357    | 147.744    | 325.0      | 1.0        | 1.0        | 2020-01-11 | 1510       | Aqua       | MODIS      |  84        | 6.0NRT     | 286.6      | 24.0       | N          |\n",
       "| -36.359    | 147.756    | 331.5      | 1.0        | 1.0        | 2020-01-11 | 1510       | Aqua       | MODIS      | 100        | 6.0NRT     | 287.6      | 32.6       | N          |\n",
       "| -36.361    | 147.767    | 317.1      | 1.0        | 1.0        | 2020-01-11 | 1510       | Aqua       | MODIS      |  75        | 6.0NRT     | 287.3      | 16.0       | N          |\n",
       "| -36.362    | 147.719    | 324.1      | 1.0        | 1.0        | 2020-01-11 | 1510       | Aqua       | MODIS      |  70        | 6.0NRT     | 285.5      | 24.2       | N          |\n",
       "| -36.364    | 147.730    | 332.1      | 1.0        | 1.0        | 2020-01-11 | 1510       | Aqua       | MODIS      |  90        | 6.0NRT     | 287.8      | 33.9       | N          |\n",
       "| -36.368    | 147.753    | 327.2      | 1.0        | 1.0        | 2020-01-11 | 1510       | Aqua       | MODIS      | 100        | 6.0NRT     | 286.4      | 26.7       | N          |\n",
       "| -36.370    | 147.765    | 318.5      | 1.0        | 1.0        | 2020-01-11 | 1510       | Aqua       | MODIS      |  97        | 6.0NRT     | 286.7      | 18.1       | N          |\n",
       "| -36.372    | 147.716    | 327.1      | 1.0        | 1.0        | 2020-01-11 | 1510       | Aqua       | MODIS      |  70        | 6.0NRT     | 285.6      | 27.6       | N          |\n",
       "| -36.381    | 147.714    | 309.1      | 1.0        | 1.0        | 2020-01-11 | 1510       | Aqua       | MODIS      |  76        | 6.0NRT     | 283.5      | 11.6       | N          |\n",
       "| -36.383    | 147.726    | 304.0      | 1.0        | 1.0        | 2020-01-11 | 1510       | Aqua       | MODIS      |  27        | 6.0NRT     | 283.6      |  7.9       | N          |\n",
       "| -36.390    | 147.712    | 320.6      | 1.0        | 1.0        | 2020-01-11 | 1510       | Aqua       | MODIS      |  88        | 6.0NRT     | 284.3      | 21.0       | N          |\n",
       "| -36.392    | 147.724    | 330.8      | 1.0        | 1.0        | 2020-01-11 | 1510       | Aqua       | MODIS      | 100        | 6.0NRT     | 285.6      | 33.3       | N          |\n",
       "| -36.436    | 147.719    | 323.8      | 1.0        | 1.0        | 2020-01-11 | 1510       | Aqua       | MODIS      |  82        | 6.0NRT     | 283.6      | 24.8       | N          |\n",
       "| -30.863    | 121.497    | 304.2      | 2.4        | 1.5        | 2020-01-11 | 1515       | Terra      | MODIS      |  50        | 6.0NRT     | 290.8      | 18.8       | N          |\n",
       "| -32.484    | 121.299    | 307.0      | 2.1        | 1.4        | 2020-01-11 | 1515       | Terra      | MODIS      |  44        | 6.0NRT     | 293.0      | 19.3       | N          |\n",
       "| -32.482    | 121.305    | 309.2      | 2.1        | 1.4        | 2020-01-11 | 1515       | Terra      | MODIS      |  77        | 6.0NRT     | 293.2      | 25.5       | N          |\n",
       "| -32.675    | 122.113    | 300.5      | 2.4        | 1.5        | 2020-01-11 | 1515       | Terra      | MODIS      |  19        | 6.0NRT     | 289.3      | 15.3       | N          |\n",
       "| -16.708    | 129.646    | 300.5      | 1.0        | 1.0        | 2020-01-11 | 1645       | Aqua       | MODIS      |  16        | 6.0NRT     | 280.8      |  2.9       | N          |\n",
       "| -16.747    | 129.653    | 301.8      | 1.0        | 1.0        | 2020-01-11 | 1645       | Aqua       | MODIS      |  23        | 6.0NRT     | 277.9      |  3.7       | N          |\n",
       "| -32.484    | 121.319    | 306.5      | 1.4        | 1.2        | 2020-01-11 | 1650       | Aqua       | MODIS      |  68        | 6.0NRT     | 291.9      | 11.6       | N          |\n",
       "| -30.858    | 121.500    | 300.7      | 1.4        | 1.2        | 2020-01-11 | 1650       | Aqua       | MODIS      |  32        | 6.0NRT     | 290.5      |  6.8       | N          |\n",
       "\n"
      ],
      "text/plain": [
       "       latitude longitude brightness scan track acq_date   acq_time satellite\n",
       "1      -14.281  143.636   323.9      1.7  1.3   2019-10-01 25       Terra    \n",
       "2      -14.284  143.532   343.5      1.7  1.3   2019-10-01 25       Terra    \n",
       "3      -14.302  143.706   320.2      1.7  1.3   2019-10-01 25       Terra    \n",
       "4      -14.283  143.652   320.4      1.7  1.3   2019-10-01 25       Terra    \n",
       "5      -14.285  143.521   349.4      1.7  1.3   2019-10-01 25       Terra    \n",
       "6      -14.273  143.589   328.1      1.7  1.3   2019-10-01 25       Terra    \n",
       "7      -14.768  141.792   324.3      2.3  1.5   2019-10-01 25       Terra    \n",
       "8      -14.304  143.512   338.0      1.7  1.3   2019-10-01 25       Terra    \n",
       "9      -14.267  143.557   329.3      1.7  1.3   2019-10-01 25       Terra    \n",
       "10     -14.307  143.528   331.1      1.7  1.3   2019-10-01 25       Terra    \n",
       "11     -14.274  143.523   337.7      1.7  1.3   2019-10-01 25       Terra    \n",
       "12     -14.298  143.546   323.3      1.7  1.3   2019-10-01 25       Terra    \n",
       "13     -14.293  143.514   329.7      1.7  1.3   2019-10-01 25       Terra    \n",
       "14     -14.281  143.516   340.3      1.7  1.3   2019-10-01 25       Terra    \n",
       "15     -15.990  144.631   337.2      1.4  1.2   2019-10-01 25       Terra    \n",
       "16     -12.098  142.316   322.0      2.4  1.5   2019-10-01 25       Terra    \n",
       "17     -13.365  141.954   323.1      2.4  1.5   2019-10-01 25       Terra    \n",
       "18     -16.934  143.176   334.0      1.6  1.3   2019-10-01 25       Terra    \n",
       "19     -15.992  144.644   324.0      1.4  1.2   2019-10-01 25       Terra    \n",
       "20     -15.904  144.601   338.2      1.4  1.2   2019-10-01 25       Terra    \n",
       "21     -15.906  144.614   351.9      1.4  1.2   2019-10-01 25       Terra    \n",
       "22     -15.908  144.626   333.4      1.4  1.2   2019-10-01 25       Terra    \n",
       "23     -15.932  144.537   321.5      1.4  1.2   2019-10-01 25       Terra    \n",
       "24     -15.980  144.633   337.0      1.4  1.2   2019-10-01 25       Terra    \n",
       "25     -15.982  144.645   333.4      1.4  1.2   2019-10-01 25       Terra    \n",
       "26     -16.988  143.292   341.1      1.6  1.3   2019-10-01 25       Terra    \n",
       "27     -17.056  143.350   351.7      1.6  1.2   2019-10-01 25       Terra    \n",
       "28     -18.317  142.437   328.7      1.8  1.3   2019-10-01 25       Terra    \n",
       "29     -16.834  139.103   311.9      3.3  1.7   2019-10-01 25       Terra    \n",
       "30     -18.306  142.439   332.9      1.8  1.3   2019-10-01 25       Terra    \n",
       "...    ...      ...       ...        ...  ...   ...        ...      ...      \n",
       "183564 -35.817  147.536   309.3      1.1  1.0   2020-01-11 1510     Aqua     \n",
       "183565 -35.871  147.935   305.7      1.0  1.0   2020-01-11 1510     Aqua     \n",
       "183566 -35.881  147.933   320.7      1.0  1.0   2020-01-11 1510     Aqua     \n",
       "183567 -35.882  147.944   314.3      1.0  1.0   2020-01-11 1510     Aqua     \n",
       "183568 -35.884  147.956   312.7      1.0  1.0   2020-01-11 1510     Aqua     \n",
       "183569 -35.979  147.811   319.2      1.0  1.0   2020-01-11 1510     Aqua     \n",
       "183570 -35.828  147.667   304.0      1.1  1.0   2020-01-11 1510     Aqua     \n",
       "183571 -36.353  147.721   309.7      1.0  1.0   2020-01-11 1510     Aqua     \n",
       "183572 -36.355  147.732   333.3      1.0  1.0   2020-01-11 1510     Aqua     \n",
       "183573 -36.357  147.744   325.0      1.0  1.0   2020-01-11 1510     Aqua     \n",
       "183574 -36.359  147.756   331.5      1.0  1.0   2020-01-11 1510     Aqua     \n",
       "183575 -36.361  147.767   317.1      1.0  1.0   2020-01-11 1510     Aqua     \n",
       "183576 -36.362  147.719   324.1      1.0  1.0   2020-01-11 1510     Aqua     \n",
       "183577 -36.364  147.730   332.1      1.0  1.0   2020-01-11 1510     Aqua     \n",
       "183578 -36.368  147.753   327.2      1.0  1.0   2020-01-11 1510     Aqua     \n",
       "183579 -36.370  147.765   318.5      1.0  1.0   2020-01-11 1510     Aqua     \n",
       "183580 -36.372  147.716   327.1      1.0  1.0   2020-01-11 1510     Aqua     \n",
       "183581 -36.381  147.714   309.1      1.0  1.0   2020-01-11 1510     Aqua     \n",
       "183582 -36.383  147.726   304.0      1.0  1.0   2020-01-11 1510     Aqua     \n",
       "183583 -36.390  147.712   320.6      1.0  1.0   2020-01-11 1510     Aqua     \n",
       "183584 -36.392  147.724   330.8      1.0  1.0   2020-01-11 1510     Aqua     \n",
       "183585 -36.436  147.719   323.8      1.0  1.0   2020-01-11 1510     Aqua     \n",
       "183586 -30.863  121.497   304.2      2.4  1.5   2020-01-11 1515     Terra    \n",
       "183587 -32.484  121.299   307.0      2.1  1.4   2020-01-11 1515     Terra    \n",
       "183588 -32.482  121.305   309.2      2.1  1.4   2020-01-11 1515     Terra    \n",
       "183589 -32.675  122.113   300.5      2.4  1.5   2020-01-11 1515     Terra    \n",
       "183590 -16.708  129.646   300.5      1.0  1.0   2020-01-11 1645     Aqua     \n",
       "183591 -16.747  129.653   301.8      1.0  1.0   2020-01-11 1645     Aqua     \n",
       "183592 -32.484  121.319   306.5      1.4  1.2   2020-01-11 1650     Aqua     \n",
       "183593 -30.858  121.500   300.7      1.4  1.2   2020-01-11 1650     Aqua     \n",
       "       instrument confidence version bright_t31 frp   daynight\n",
       "1      MODIS      70         6.0NRT  302.3       26.8 D       \n",
       "2      MODIS      90         6.0NRT  306.3       84.3 D       \n",
       "3      MODIS      30         6.0NRT  305.0       14.1 D       \n",
       "4      MODIS      57         6.0NRT  303.3       18.4 D       \n",
       "5      MODIS      94         6.0NRT  304.7      110.7 D       \n",
       "6      MODIS      62         6.0NRT  304.6       32.4 D       \n",
       "7      MODIS      57         6.0NRT  308.1       24.0 D       \n",
       "8      MODIS      86         6.0NRT  304.0       66.1 D       \n",
       "9      MODIS      65         6.0NRT  304.2       34.2 D       \n",
       "10     MODIS      70         6.0NRT  305.2       40.8 D       \n",
       "11     MODIS      86         6.0NRT  303.2       62.7 D       \n",
       "12     MODIS      67         6.0NRT  305.3       18.7 D       \n",
       "13     MODIS      69         6.0NRT  303.6       40.4 D       \n",
       "14     MODIS      87         6.0NRT  302.8       73.8 D       \n",
       "15     MODIS      86         6.0NRT  307.7       40.4 D       \n",
       "16     MODIS      75         6.0NRT  296.0       42.2 D       \n",
       "17     MODIS      71         6.0NRT  302.7       43.1 D       \n",
       "18     MODIS      78         6.0NRT  307.2       43.4 D       \n",
       "19     MODIS      34         6.0NRT  307.5       13.3 D       \n",
       "20     MODIS      82         6.0NRT  307.0       45.6 D       \n",
       "21     MODIS      95         6.0NRT  308.9       86.2 D       \n",
       "22     MODIS      69         6.0NRT  307.1       34.5 D       \n",
       "23     MODIS      35         6.0NRT  307.8        8.8 D       \n",
       "24     MODIS      85         6.0NRT  310.6       38.7 D       \n",
       "25     MODIS      77         6.0NRT  308.4       30.4 D       \n",
       "26     MODIS      86         6.0NRT  310.9       58.0 D       \n",
       "27     MODIS      94         6.0NRT  313.7       93.3 D       \n",
       "28     MODIS      54         6.0NRT  310.2       23.1 D       \n",
       "29     MODIS      29         6.0NRT  301.1       43.5 D       \n",
       "30     MODIS      61         6.0NRT  311.8       33.3 D       \n",
       "...    ...        ...        ...     ...        ...   ...     \n",
       "183564 MODIS       26        6.0NRT  289.2      10.1  N       \n",
       "183565 MODIS       65        6.0NRT  287.9       8.9  N       \n",
       "183566 MODIS      100        6.0NRT  288.1      20.9  N       \n",
       "183567 MODIS       89        6.0NRT  289.3      14.5  N       \n",
       "183568 MODIS       85        6.0NRT  289.0      13.3  N       \n",
       "183569 MODIS       98        6.0NRT  290.6      19.5  N       \n",
       "183570 MODIS       58        6.0NRT  289.1       7.5  N       \n",
       "183571 MODIS       78        6.0NRT  284.9      12.1  N       \n",
       "183572 MODIS      100        6.0NRT  287.8      37.6  N       \n",
       "183573 MODIS       84        6.0NRT  286.6      24.0  N       \n",
       "183574 MODIS      100        6.0NRT  287.6      32.6  N       \n",
       "183575 MODIS       75        6.0NRT  287.3      16.0  N       \n",
       "183576 MODIS       70        6.0NRT  285.5      24.2  N       \n",
       "183577 MODIS       90        6.0NRT  287.8      33.9  N       \n",
       "183578 MODIS      100        6.0NRT  286.4      26.7  N       \n",
       "183579 MODIS       97        6.0NRT  286.7      18.1  N       \n",
       "183580 MODIS       70        6.0NRT  285.6      27.6  N       \n",
       "183581 MODIS       76        6.0NRT  283.5      11.6  N       \n",
       "183582 MODIS       27        6.0NRT  283.6       7.9  N       \n",
       "183583 MODIS       88        6.0NRT  284.3      21.0  N       \n",
       "183584 MODIS      100        6.0NRT  285.6      33.3  N       \n",
       "183585 MODIS       82        6.0NRT  283.6      24.8  N       \n",
       "183586 MODIS       50        6.0NRT  290.8      18.8  N       \n",
       "183587 MODIS       44        6.0NRT  293.0      19.3  N       \n",
       "183588 MODIS       77        6.0NRT  293.2      25.5  N       \n",
       "183589 MODIS       19        6.0NRT  289.3      15.3  N       \n",
       "183590 MODIS       16        6.0NRT  280.8       2.9  N       \n",
       "183591 MODIS       23        6.0NRT  277.9       3.7  N       \n",
       "183592 MODIS       68        6.0NRT  291.9      11.6  N       \n",
       "183593 MODIS       32        6.0NRT  290.5       6.8  N       "
      ]
     },
     "metadata": {},
     "output_type": "display_data"
    }
   ],
   "source": [
    "fire_nrt_M6_96619"
   ]
  },
  {
   "cell_type": "markdown",
   "id": "dd27da43-d0b1-449a-b5e6-f761bf45c912",
   "metadata": {},
   "source": [
    "# Avance 2 Evidencia 2"
   ]
  },
  {
   "cell_type": "markdown",
   "id": "d4b07e8f-a392-4e06-bc6c-d736aa82142b",
   "metadata": {},
   "source": [
    "### Calculos de elementos nulos, valores maximos y minimos, desviaciones estandar, valores atípicos por columna"
   ]
  },
  {
   "cell_type": "code",
   "execution_count": 60,
   "id": "107dcb50-a1a8-48ec-b56e-8f6012d8bc8c",
   "metadata": {
    "jupyter": {
     "source_hidden": true
    }
   },
   "outputs": [],
   "source": [
    "# Función principal que llama a todas las demás\n",
    "analizar_dataframe <- function(df) {\n",
    "  cat(\"== Análisis Tabla Fire NTR M6 96619 ==\\n\")\n",
    "  \n",
    "  valores_nulos(df)\n",
    "  valores_max_min(df)\n",
    "  desviaciones_estandar(df)\n",
    "  valores_atipicos(df)\n",
    "}\n",
    "\n",
    "# Calcular nulos por columna\n",
    "valores_nulos <- function(df) {\n",
    "  cat(\"\\n a. Elementos nulos por columna:\\n\")\n",
    "  print(colSums(is.na(df)))\n",
    "}\n",
    "\n",
    "# Calcular valores máximos y mínimos\n",
    "valores_max_min <- function(df) {\n",
    "  cat(\"\\n b. Valores máximos por columna numérica:\\n\")\n",
    "  print(sapply(df, function(col) if(is.numeric(col)) max(col, na.rm = TRUE) else NA))\n",
    "\n",
    "  cat(\"\\n b_1. Valores mínimos por columna numérica:\\n\")\n",
    "  print(sapply(df, function(col) if(is.numeric(col)) min(col, na.rm = TRUE) else NA))\n",
    "}\n",
    "\n",
    "# Calcular desviaciones estándar\n",
    "desviaciones_estandar <- function(df) {\n",
    "  cat(\"\\n c. Desviación estándar por columna numérica:\\n\")\n",
    "  print(sapply(df, function(col) if(is.numeric(col)) sd(col, na.rm = TRUE) else NA))\n",
    "}\n",
    "\n",
    "# Identificar valores atípicos con la regla del IQR\n",
    "valores_atipicos <- function(df) {\n",
    "  cat(\"\\n d. Cantidad de valores atípicos por columna numérica (basado en IQR):\\n\")\n",
    "  detectar_outliers <- function(col) {\n",
    "    if (!is.numeric(col)) return(NA)\n",
    "    Q1 <- quantile(col, 0.25, na.rm = TRUE)\n",
    "    Q3 <- quantile(col, 0.75, na.rm = TRUE)\n",
    "    IQR_val <- Q3 - Q1\n",
    "    outliers <- which(col < (Q1 - 1.5 * IQR_val) | col > (Q3 + 1.5 * IQR_val))\n",
    "    return(length(outliers))\n",
    "  }\n",
    "  print(sapply(df, detectar_outliers))\n",
    "}\n"
   ]
  },
  {
   "cell_type": "markdown",
   "id": "64b3fdf0-db3b-4e0c-a8bc-05f833bd9518",
   "metadata": {},
   "source": [
    "### Resultados"
   ]
  },
  {
   "cell_type": "code",
   "execution_count": 48,
   "id": "afe2983c-3e58-404e-a424-a229dd0f3110",
   "metadata": {
    "collapsed": true,
    "jupyter": {
     "outputs_hidden": true
    }
   },
   "outputs": [
    {
     "name": "stdout",
     "output_type": "stream",
     "text": [
      "== Análisis Tabla Fire NTR M6 96619 ==\n",
      "\n",
      " a. Elementos nulos por columna:\n",
      "  latitude  longitude brightness       scan      track   acq_date   acq_time \n",
      "         0          0          0          0          0          0          0 \n",
      " satellite instrument confidence    version bright_t31        frp   daynight \n",
      "         0          0          0          0          0          0          0 \n",
      "\n",
      " b. Valores máximos por columna numérica:\n",
      "  latitude  longitude brightness       scan      track   acq_date   acq_time \n",
      "    -9.387    153.477    507.000      4.800      2.000         NA   2355.000 \n",
      " satellite instrument confidence    version bright_t31        frp   daynight \n",
      "        NA         NA    100.000         NA    400.100  11164.100         NA \n",
      "\n",
      " b_1. Valores mínimos por columna numérica:\n",
      "  latitude  longitude brightness       scan      track   acq_date   acq_time \n",
      "   -43.116    113.458    300.000      1.000      1.000         NA      0.000 \n",
      " satellite instrument confidence    version bright_t31        frp   daynight \n",
      "        NA         NA      0.000         NA    265.700      0.000         NA \n",
      "\n",
      " c. Desviación estándar por columna numérica:\n",
      "   latitude   longitude  brightness        scan       track    acq_date \n",
      "  8.1722893  11.0272200  28.6052908   0.8111060   0.2476951          NA \n",
      "   acq_time   satellite  instrument  confidence     version  bright_t31 \n",
      "622.2676702          NA          NA  25.0419682          NA  13.3486983 \n",
      "        frp    daynight \n",
      "241.0452874          NA \n",
      "\n",
      " d. Cantidad de valores atípicos por columna numérica (basado en IQR):\n",
      "  latitude  longitude brightness       scan      track   acq_date   acq_time \n",
      "         0          0       9828      14511       9401         NA          0 \n",
      " satellite instrument confidence    version bright_t31        frp   daynight \n",
      "        NA         NA          0         NA       1366      20074         NA \n"
     ]
    }
   ],
   "source": [
    "analizar_dataframe(fire_nrt_M6_96619)"
   ]
  },
  {
   "cell_type": "markdown",
   "id": "dd8f802e-7377-4170-b6d9-4fb3dcb28437",
   "metadata": {},
   "source": [
    "# Parte Final Evidencia 2"
   ]
  },
  {
   "cell_type": "markdown",
   "id": "613aea99-05ea-4dc1-b77f-f15b9c82e887",
   "metadata": {},
   "source": [
    "## Declaración Función Visualización Gráfica"
   ]
  },
  {
   "cell_type": "code",
   "execution_count": 59,
   "id": "9f920389-8dbd-4249-b202-a5fd656ea637",
   "metadata": {
    "jupyter": {
     "source_hidden": true
    }
   },
   "outputs": [],
   "source": [
    "# 1. Función para graficar valores nulos por columna\n",
    "graficar_nulos <- function(df) {\n",
    "  nulos <- colSums(is.na(df))\n",
    "  datos_nulos <- data.frame(Columna = names(nulos), Nulos = as.numeric(nulos))\n",
    "  \n",
    "  ggplot(datos_nulos, aes(x = reorder(Columna, -Nulos), y = Nulos)) +\n",
    "    geom_bar(stat = \"identity\", fill = \"tomato\") +\n",
    "    labs(title = \"Valores nulos por columna\", x = \"Columnas\", y = \"Cantidad de nulos\") +\n",
    "    theme(axis.text.x = element_text(angle = 45, hjust = 1))\n",
    "}\n",
    "\n",
    "# 2. Función para graficar valores máximos y mínimos\n",
    "graficar_max_min <- function(df) {\n",
    "  maximos <- sapply(df, function(col) if(is.numeric(col)) max(col, na.rm = TRUE) else NA)\n",
    "  minimos <- sapply(df, function(col) if(is.numeric(col)) min(col, na.rm = TRUE) else NA)\n",
    "  \n",
    "  datos_extremos <- data.frame(\n",
    "    Columna = names(df),\n",
    "    Maximo = as.numeric(maximos),\n",
    "    Minimo = as.numeric(minimos)\n",
    "  )\n",
    "  \n",
    "  datos_extremos <- datos_extremos[!is.na(datos_extremos$Maximo), ]\n",
    "  \n",
    "  ggplot(datos_extremos, aes(x = reorder(Columna, Maximo))) +\n",
    "    geom_segment(aes(xend = Columna, y = Minimo, yend = Maximo), color = \"gray\") +\n",
    "    geom_point(aes(y = Maximo), color = \"red\", size = 3) +\n",
    "    geom_point(aes(y = Minimo), color = \"blue\", size = 3) +\n",
    "    labs(title = \"Valores máximos (rojo) y mínimos (azul) por columna\", \n",
    "         x = \"Columnas\", y = \"Valor\") +\n",
    "    coord_flip() +\n",
    "    theme_minimal()\n",
    "}\n",
    "\n",
    "# 3. Función para graficar desviaciones estándar\n",
    "graficar_desviaciones <- function(df) {\n",
    "  desviaciones <- sapply(df, function(col) if(is.numeric(col)) sd(col, na.rm = TRUE) else NA)\n",
    "  datos_desviaciones <- data.frame(Columna = names(desviaciones), \n",
    "                                  Desviacion = as.numeric(desviaciones))\n",
    "  \n",
    "  datos_desviaciones <- datos_desviaciones[!is.na(datos_desviaciones$Desviacion), ]\n",
    "  \n",
    "  ggplot(datos_desviaciones, aes(x = reorder(Columna, -Desviacion), y = Desviacion)) +\n",
    "    geom_bar(stat = \"identity\", fill = \"darkgreen\") +\n",
    "    labs(title = \"Desviación estándar por columna numérica\", \n",
    "         x = \"Columnas\", y = \"Desviación estándar\") +\n",
    "    theme(axis.text.x = element_text(angle = 45, hjust = 1))\n",
    "}\n",
    "\n",
    "# 4. Función para graficar valores atípicos\n",
    "graficar_atipicos <- function(df) {\n",
    "  detectar_outliers <- function(col) {\n",
    "    if (!is.numeric(col)) return(NA)\n",
    "    Q1 <- quantile(col, 0.25, na.rm = TRUE)\n",
    "    Q3 <- quantile(col, 0.75, na.rm = TRUE)\n",
    "    IQR_val <- Q3 - Q1\n",
    "    outliers <- which(col < (Q1 - 1.5 * IQR_val) | col > (Q3 + 1.5 * IQR_val))\n",
    "    return(length(outliers))\n",
    "  }\n",
    "  \n",
    "  atipicos <- sapply(df, detectar_outliers)\n",
    "  datos_atipicos <- data.frame(Columna = names(atipicos), \n",
    "                              Atipicos = as.numeric(atipicos))\n",
    "  \n",
    "  datos_atipicos <- datos_atipicos[!is.na(datos_atipicos$Atipicos), ]\n",
    "  \n",
    "  ggplot(datos_atipicos, aes(x = reorder(Columna, -Atipicos), y = Atipicos)) +\n",
    "    geom_bar(stat = \"identity\", fill = \"purple\") +\n",
    "    labs(title = \"Valores atípicos por columna numérica\", \n",
    "         x = \"Columnas\", y = \"Cantidad de atípicos\") +\n",
    "    theme(axis.text.x = element_text(angle = 45, hjust = 1))\n",
    "}\n",
    "\n",
    "# Función principal que genera todos los gráficos\n",
    "generar_graficos_analisis <- function(df) {\n",
    "  plot_list <- list(\n",
    "    graficar_nulos(df),\n",
    "    graficar_max_min(df),\n",
    "    graficar_desviaciones(df),\n",
    "    graficar_atipicos(df)\n",
    "  )\n",
    "  \n",
    "  grid.arrange(grobs = plot_list, ncol = 2)\n",
    "}"
   ]
  },
  {
   "cell_type": "markdown",
   "id": "fac98b11-8d38-4d97-af64-d299be07386b",
   "metadata": {},
   "source": [
    "## Resultado de Analisis Datos"
   ]
  },
  {
   "cell_type": "code",
   "execution_count": 61,
   "id": "ed2f0c19-be4f-4be9-bc9c-e55a8c067527",
   "metadata": {
    "collapsed": true,
    "jupyter": {
     "outputs_hidden": true
    }
   },
   "outputs": [
    {
     "name": "stdout",
     "output_type": "stream",
     "text": [
      "== Análisis Tabla Fire NTR M6 96619 ==\n",
      "\n",
      " a. Elementos nulos por columna:\n",
      "  latitude  longitude brightness       scan      track   acq_date   acq_time \n",
      "         0          0          0          0          0          0          0 \n",
      " satellite instrument confidence    version bright_t31        frp   daynight \n",
      "         0          0          0          0          0          0          0 \n",
      "\n",
      " b. Valores máximos por columna numérica:\n",
      "  latitude  longitude brightness       scan      track   acq_date   acq_time \n",
      "    -9.387    153.477    507.000      4.800      2.000         NA   2355.000 \n",
      " satellite instrument confidence    version bright_t31        frp   daynight \n",
      "        NA         NA    100.000         NA    400.100  11164.100         NA \n",
      "\n",
      " b_1. Valores mínimos por columna numérica:\n",
      "  latitude  longitude brightness       scan      track   acq_date   acq_time \n",
      "   -43.116    113.458    300.000      1.000      1.000         NA      0.000 \n",
      " satellite instrument confidence    version bright_t31        frp   daynight \n",
      "        NA         NA      0.000         NA    265.700      0.000         NA \n",
      "\n",
      " c. Desviación estándar por columna numérica:\n",
      "   latitude   longitude  brightness        scan       track    acq_date \n",
      "  8.1722893  11.0272200  28.6052908   0.8111060   0.2476951          NA \n",
      "   acq_time   satellite  instrument  confidence     version  bright_t31 \n",
      "622.2676702          NA          NA  25.0419682          NA  13.3486983 \n",
      "        frp    daynight \n",
      "241.0452874          NA \n",
      "\n",
      " d. Cantidad de valores atípicos por columna numérica (basado en IQR):\n",
      "  latitude  longitude brightness       scan      track   acq_date   acq_time \n",
      "         0          0       9828      14511       9401         NA          0 \n",
      " satellite instrument confidence    version bright_t31        frp   daynight \n",
      "        NA         NA          0         NA       1366      20074         NA \n"
     ]
    }
   ],
   "source": [
    "analizar_dataframe(fire_nrt_M6_96619)"
   ]
  },
  {
   "cell_type": "markdown",
   "id": "95d8dd34-ce7f-4381-ad2d-d174998e0565",
   "metadata": {},
   "source": [
    "## Generación de Todos los Gráficos"
   ]
  },
  {
   "cell_type": "code",
   "execution_count": 62,
   "id": "250f4256-66bd-4bb7-b751-c6186f13addd",
   "metadata": {
    "collapsed": true,
    "jupyter": {
     "outputs_hidden": true
    }
   },
   "outputs": [
    {
     "data": {
      "image/png": "[encoded data removed]",
      "text/plain": [
       "plot without title"
      ]
     },
     "metadata": {},
     "output_type": "display_data"
    }
   ],
   "source": [
    "generar_graficos_analisis(fire_nrt_M6_96619)"
   ]
  },
  {
   "cell_type": "markdown",
   "id": "8f3c61c1-5433-4f10-8048-f55b0260baf8",
   "metadata": {},
   "source": [
    "# Fire NRT V1 96617"
   ]
  },
  {
   "cell_type": "markdown",
   "id": "2c40781d-efb1-4655-b273-8e59216b22e7",
   "metadata": {},
   "source": [
    "### Se carga el archivo CVS"
   ]
  },
  {
   "cell_type": "code",
   "execution_count": 63,
   "id": "35e84e74-2431-4c63-abe2-984a7bd05540",
   "metadata": {},
   "outputs": [],
   "source": [
    "fire_nrt_V1_96617 <- read.csv(\"C:/Users/alans/OneDrive/Documentos/Universidad_TecMilenio/PROFESIONAL/4to.SEMESTRE/BigData_Códigos/Evidencia_1/FIRE_AUSTRALIA/fire_nrt_V1_96617.csv\")"
   ]
  },
  {
   "cell_type": "markdown",
   "id": "f3a9e174-ae5e-4d83-a298-b0ce5d99838e",
   "metadata": {},
   "source": [
    "### Visualizador Rapido de las Primeras Filas del conjunto de datos"
   ]
  },
  {
   "cell_type": "code",
   "execution_count": 67,
   "id": "ccd99349-cd92-4a32-8e2a-0715af6a14cc",
   "metadata": {
    "collapsed": true,
    "jupyter": {
     "outputs_hidden": true
    }
   },
   "outputs": [
    {
     "data": {
      "text/html": [
       "<table>\n",
       "<thead><tr><th scope=col>latitude</th><th scope=col>longitude</th><th scope=col>bright_ti4</th><th scope=col>scan</th><th scope=col>track</th><th scope=col>acq_date</th><th scope=col>acq_time</th><th scope=col>satellite</th><th scope=col>instrument</th><th scope=col>confidence</th><th scope=col>version</th><th scope=col>bright_ti5</th><th scope=col>frp</th><th scope=col>daynight</th></tr></thead>\n",
       "<tbody>\n",
       "\t<tr><td>-42.69706 </td><td>147.7063  </td><td>333.6     </td><td>0.57      </td><td>0.43      </td><td>2019-10-01</td><td>336       </td><td>N         </td><td>VIIRS     </td><td>n         </td><td>1.0NRT    </td><td>293.4     </td><td>4.0       </td><td>D         </td></tr>\n",
       "\t<tr><td>-42.26889 </td><td>147.3110  </td><td>336.2     </td><td>0.39      </td><td>0.44      </td><td>2019-10-01</td><td>336       </td><td>N         </td><td>VIIRS     </td><td>n         </td><td>1.0NRT    </td><td>296.9     </td><td>3.9       </td><td>D         </td></tr>\n",
       "\t<tr><td>-40.85202 </td><td>145.3807  </td><td>327.9     </td><td>0.46      </td><td>0.47      </td><td>2019-10-01</td><td>336       </td><td>N         </td><td>VIIRS     </td><td>n         </td><td>1.0NRT    </td><td>295.3     </td><td>3.7       </td><td>D         </td></tr>\n",
       "\t<tr><td>-42.39329 </td><td>147.4714  </td><td>346.9     </td><td>0.38      </td><td>0.43      </td><td>2019-10-01</td><td>336       </td><td>N         </td><td>VIIRS     </td><td>n         </td><td>1.0NRT    </td><td>294.2     </td><td>6.2       </td><td>D         </td></tr>\n",
       "\t<tr><td>-42.69701 </td><td>147.7058  </td><td>334.1     </td><td>0.56      </td><td>0.43      </td><td>2019-10-01</td><td>336       </td><td>N         </td><td>VIIRS     </td><td>n         </td><td>1.0NRT    </td><td>293.5     </td><td>4.1       </td><td>D         </td></tr>\n",
       "\t<tr><td>-42.77161 </td><td>146.8677  </td><td>353.9     </td><td>0.41      </td><td>0.45      </td><td>2019-10-01</td><td>336       </td><td>N         </td><td>VIIRS     </td><td>n         </td><td>1.0NRT    </td><td>294.2     </td><td>9.9       </td><td>D         </td></tr>\n",
       "</tbody>\n",
       "</table>\n"
      ],
      "text/latex": [
       "\\begin{tabular}{r|llllllllllllll}\n",
       " latitude & longitude & bright\\_ti4 & scan & track & acq\\_date & acq\\_time & satellite & instrument & confidence & version & bright\\_ti5 & frp & daynight\\\\\n",
       "\\hline\n",
       "\t -42.69706  & 147.7063   & 333.6      & 0.57       & 0.43       & 2019-10-01 & 336        & N          & VIIRS      & n          & 1.0NRT     & 293.4      & 4.0        & D         \\\\\n",
       "\t -42.26889  & 147.3110   & 336.2      & 0.39       & 0.44       & 2019-10-01 & 336        & N          & VIIRS      & n          & 1.0NRT     & 296.9      & 3.9        & D         \\\\\n",
       "\t -40.85202  & 145.3807   & 327.9      & 0.46       & 0.47       & 2019-10-01 & 336        & N          & VIIRS      & n          & 1.0NRT     & 295.3      & 3.7        & D         \\\\\n",
       "\t -42.39329  & 147.4714   & 346.9      & 0.38       & 0.43       & 2019-10-01 & 336        & N          & VIIRS      & n          & 1.0NRT     & 294.2      & 6.2        & D         \\\\\n",
       "\t -42.69701  & 147.7058   & 334.1      & 0.56       & 0.43       & 2019-10-01 & 336        & N          & VIIRS      & n          & 1.0NRT     & 293.5      & 4.1        & D         \\\\\n",
       "\t -42.77161  & 146.8677   & 353.9      & 0.41       & 0.45       & 2019-10-01 & 336        & N          & VIIRS      & n          & 1.0NRT     & 294.2      & 9.9        & D         \\\\\n",
       "\\end{tabular}\n"
      ],
      "text/markdown": [
       "\n",
       "| latitude | longitude | bright_ti4 | scan | track | acq_date | acq_time | satellite | instrument | confidence | version | bright_ti5 | frp | daynight |\n",
       "|---|---|---|---|---|---|---|---|---|---|---|---|---|---|\n",
       "| -42.69706  | 147.7063   | 333.6      | 0.57       | 0.43       | 2019-10-01 | 336        | N          | VIIRS      | n          | 1.0NRT     | 293.4      | 4.0        | D          |\n",
       "| -42.26889  | 147.3110   | 336.2      | 0.39       | 0.44       | 2019-10-01 | 336        | N          | VIIRS      | n          | 1.0NRT     | 296.9      | 3.9        | D          |\n",
       "| -40.85202  | 145.3807   | 327.9      | 0.46       | 0.47       | 2019-10-01 | 336        | N          | VIIRS      | n          | 1.0NRT     | 295.3      | 3.7        | D          |\n",
       "| -42.39329  | 147.4714   | 346.9      | 0.38       | 0.43       | 2019-10-01 | 336        | N          | VIIRS      | n          | 1.0NRT     | 294.2      | 6.2        | D          |\n",
       "| -42.69701  | 147.7058   | 334.1      | 0.56       | 0.43       | 2019-10-01 | 336        | N          | VIIRS      | n          | 1.0NRT     | 293.5      | 4.1        | D          |\n",
       "| -42.77161  | 146.8677   | 353.9      | 0.41       | 0.45       | 2019-10-01 | 336        | N          | VIIRS      | n          | 1.0NRT     | 294.2      | 9.9        | D          |\n",
       "\n"
      ],
      "text/plain": [
       "  latitude  longitude bright_ti4 scan track acq_date   acq_time satellite\n",
       "1 -42.69706 147.7063  333.6      0.57 0.43  2019-10-01 336      N        \n",
       "2 -42.26889 147.3110  336.2      0.39 0.44  2019-10-01 336      N        \n",
       "3 -40.85202 145.3807  327.9      0.46 0.47  2019-10-01 336      N        \n",
       "4 -42.39329 147.4714  346.9      0.38 0.43  2019-10-01 336      N        \n",
       "5 -42.69701 147.7058  334.1      0.56 0.43  2019-10-01 336      N        \n",
       "6 -42.77161 146.8677  353.9      0.41 0.45  2019-10-01 336      N        \n",
       "  instrument confidence version bright_ti5 frp daynight\n",
       "1 VIIRS      n          1.0NRT  293.4      4.0 D       \n",
       "2 VIIRS      n          1.0NRT  296.9      3.9 D       \n",
       "3 VIIRS      n          1.0NRT  295.3      3.7 D       \n",
       "4 VIIRS      n          1.0NRT  294.2      6.2 D       \n",
       "5 VIIRS      n          1.0NRT  293.5      4.1 D       \n",
       "6 VIIRS      n          1.0NRT  294.2      9.9 D       "
      ]
     },
     "metadata": {},
     "output_type": "display_data"
    }
   ],
   "source": [
    "head(fire_nrt_V1_96617)"
   ]
  },
  {
   "cell_type": "markdown",
   "id": "fe840ba7-2f13-4efd-8eba-1f850430644d",
   "metadata": {},
   "source": [
    "### Estructura del Conjunto de Datos"
   ]
  },
  {
   "cell_type": "code",
   "execution_count": 66,
   "id": "20cd288a-de8e-4a79-b7f6-0fbd29ba73ec",
   "metadata": {
    "collapsed": true,
    "jupyter": {
     "outputs_hidden": true
    },
    "scrolled": true
   },
   "outputs": [
    {
     "name": "stdout",
     "output_type": "stream",
     "text": [
      "'data.frame':\t956257 obs. of  14 variables:\n",
      " $ latitude  : num  -42.7 -42.3 -40.9 -42.4 -42.7 ...\n",
      " $ longitude : num  148 147 145 147 148 ...\n",
      " $ bright_ti4: num  334 336 328 347 334 ...\n",
      " $ scan      : num  0.57 0.39 0.46 0.38 0.56 0.41 0.41 0.41 0.38 0.38 ...\n",
      " $ track     : num  0.43 0.44 0.47 0.43 0.43 0.45 0.45 0.45 0.43 0.44 ...\n",
      " $ acq_date  : Factor w/ 103 levels \"2019-10-01\",\"2019-10-02\",..: 1 1 1 1 1 1 1 1 1 1 ...\n",
      " $ acq_time  : int  336 336 336 336 336 336 336 336 336 336 ...\n",
      " $ satellite : Factor w/ 1 level \"N\": 1 1 1 1 1 1 1 1 1 1 ...\n",
      " $ instrument: Factor w/ 1 level \"VIIRS\": 1 1 1 1 1 1 1 1 1 1 ...\n",
      " $ confidence: Factor w/ 3 levels \"h\",\"l\",\"n\": 3 3 3 3 3 3 3 3 3 3 ...\n",
      " $ version   : Factor w/ 1 level \"1.0NRT\": 1 1 1 1 1 1 1 1 1 1 ...\n",
      " $ bright_ti5: num  293 297 295 294 294 ...\n",
      " $ frp       : num  4 3.9 3.7 6.2 4.1 9.9 4.8 4.8 3.7 2 ...\n",
      " $ daynight  : Factor w/ 2 levels \"D\",\"N\": 1 1 1 1 1 1 1 1 1 1 ...\n"
     ]
    }
   ],
   "source": [
    "str(fire_nrt_V1_96617)"
   ]
  },
  {
   "cell_type": "markdown",
   "id": "cd2602d9-a0c8-43d0-bb4b-fff60b1f9c45",
   "metadata": {},
   "source": [
    "### Estadisitica de Variables Númericos"
   ]
  },
  {
   "cell_type": "code",
   "execution_count": 65,
   "id": "f0b7da52-4a6f-41ea-9908-fcaad5411132",
   "metadata": {
    "collapsed": true,
    "jupyter": {
     "outputs_hidden": true
    },
    "scrolled": true
   },
   "outputs": [
    {
     "data": {
      "text/plain": [
       "    latitude         longitude       bright_ti4         scan       \n",
       " Min.   :-43.212   Min.   :113.4   Min.   :208.0   Min.   :0.3200  \n",
       " 1st Qu.:-33.134   1st Qu.:132.3   1st Qu.:312.8   1st Qu.:0.3900  \n",
       " Median :-30.489   Median :148.0   Median :336.7   Median :0.4300  \n",
       " Mean   :-27.466   Mean   :142.2   Mean   :333.9   Mean   :0.4604  \n",
       " 3rd Qu.:-19.142   3rd Qu.:150.8   3rd Qu.:351.0   3rd Qu.:0.5100  \n",
       " Max.   : -9.396   Max.   :153.5   Max.   :367.0   Max.   :0.8000  \n",
       "                                                                   \n",
       "     track              acq_date         acq_time      satellite \n",
       " Min.   :0.3600   2020-01-04: 35038   Min.   : 224.0   N:956257  \n",
       " 1st Qu.:0.3800   2019-12-30: 34193   1st Qu.: 418.0             \n",
       " Median :0.4400   2019-11-08: 27223   Median :1400.0             \n",
       " Mean   :0.4805   2019-12-31: 26085   Mean   : 986.3             \n",
       " 3rd Qu.:0.5700   2020-01-02: 25128   3rd Qu.:1512.0             \n",
       " Max.   :0.7800   2019-12-19: 24364   Max.   :1824.0             \n",
       "                  (Other)   :784226                              \n",
       " instrument     confidence   version         bright_ti5         frp          \n",
       " VIIRS:956257   h:108407   1.0NRT:956257   Min.   :150.0   Min.   :    0.00  \n",
       "                l: 76815                   1st Qu.:289.5   1st Qu.:    2.10  \n",
       "                n:771035                   Median :295.6   Median :    5.20  \n",
       "                                           Mean   :299.3   Mean   :   15.56  \n",
       "                                           3rd Qu.:307.6   3rd Qu.:   13.20  \n",
       "                                           Max.   :380.0   Max.   :10717.20  \n",
       "                                                                             \n",
       " daynight  \n",
       " D:462671  \n",
       " N:493586  \n",
       "           \n",
       "           \n",
       "           \n",
       "           \n",
       "           "
      ]
     },
     "metadata": {},
     "output_type": "display_data"
    }
   ],
   "source": [
    "summary(fire_nrt_V1_96617)"
   ]
  },
  {
   "cell_type": "markdown",
   "id": "48e13c75-e05e-4a26-998e-38f8f0d345f2",
   "metadata": {},
   "source": [
    "### Resumen de Tabla Fire NRT V1 96617"
   ]
  },
  {
   "cell_type": "code",
   "execution_count": 64,
   "id": "d8fb9c51-e35c-4d33-8adb-f411cbb48fa5",
   "metadata": {
    "collapsed": true,
    "jupyter": {
     "outputs_hidden": true
    }
   },
   "outputs": [
    {
     "data": {
      "text/html": [
       "<table>\n",
       "<thead><tr><th scope=col>latitude</th><th scope=col>longitude</th><th scope=col>bright_ti4</th><th scope=col>scan</th><th scope=col>track</th><th scope=col>acq_date</th><th scope=col>acq_time</th><th scope=col>satellite</th><th scope=col>instrument</th><th scope=col>confidence</th><th scope=col>version</th><th scope=col>bright_ti5</th><th scope=col>frp</th><th scope=col>daynight</th></tr></thead>\n",
       "<tbody>\n",
       "\t<tr><td>-42.69706 </td><td>147.7063  </td><td>333.6     </td><td>0.57      </td><td>0.43      </td><td>2019-10-01</td><td>336       </td><td>N         </td><td>VIIRS     </td><td>n         </td><td>1.0NRT    </td><td>293.4     </td><td> 4.0      </td><td>D         </td></tr>\n",
       "\t<tr><td>-42.26889 </td><td>147.3110  </td><td>336.2     </td><td>0.39      </td><td>0.44      </td><td>2019-10-01</td><td>336       </td><td>N         </td><td>VIIRS     </td><td>n         </td><td>1.0NRT    </td><td>296.9     </td><td> 3.9      </td><td>D         </td></tr>\n",
       "\t<tr><td>-40.85202 </td><td>145.3807  </td><td>327.9     </td><td>0.46      </td><td>0.47      </td><td>2019-10-01</td><td>336       </td><td>N         </td><td>VIIRS     </td><td>n         </td><td>1.0NRT    </td><td>295.3     </td><td> 3.7      </td><td>D         </td></tr>\n",
       "\t<tr><td>-42.39329 </td><td>147.4714  </td><td>346.9     </td><td>0.38      </td><td>0.43      </td><td>2019-10-01</td><td>336       </td><td>N         </td><td>VIIRS     </td><td>n         </td><td>1.0NRT    </td><td>294.2     </td><td> 6.2      </td><td>D         </td></tr>\n",
       "\t<tr><td>-42.69701 </td><td>147.7058  </td><td>334.1     </td><td>0.56      </td><td>0.43      </td><td>2019-10-01</td><td>336       </td><td>N         </td><td>VIIRS     </td><td>n         </td><td>1.0NRT    </td><td>293.5     </td><td> 4.1      </td><td>D         </td></tr>\n",
       "\t<tr><td>-42.77161 </td><td>146.8677  </td><td>353.9     </td><td>0.41      </td><td>0.45      </td><td>2019-10-01</td><td>336       </td><td>N         </td><td>VIIRS     </td><td>n         </td><td>1.0NRT    </td><td>294.2     </td><td> 9.9      </td><td>D         </td></tr>\n",
       "\t<tr><td>-41.48875 </td><td>146.6439  </td><td>338.7     </td><td>0.41      </td><td>0.45      </td><td>2019-10-01</td><td>336       </td><td>N         </td><td>VIIRS     </td><td>n         </td><td>1.0NRT    </td><td>294.0     </td><td> 4.8      </td><td>D         </td></tr>\n",
       "\t<tr><td>-41.48920 </td><td>146.6390  </td><td>337.1     </td><td>0.41      </td><td>0.45      </td><td>2019-10-01</td><td>336       </td><td>N         </td><td>VIIRS     </td><td>n         </td><td>1.0NRT    </td><td>293.0     </td><td> 4.8      </td><td>D         </td></tr>\n",
       "\t<tr><td>-41.01627 </td><td>147.1041  </td><td>327.1     </td><td>0.38      </td><td>0.43      </td><td>2019-10-01</td><td>336       </td><td>N         </td><td>VIIRS     </td><td>n         </td><td>1.0NRT    </td><td>289.0     </td><td> 3.7      </td><td>D         </td></tr>\n",
       "\t<tr><td>-41.01717 </td><td>147.0947  </td><td>332.8     </td><td>0.38      </td><td>0.44      </td><td>2019-10-01</td><td>336       </td><td>N         </td><td>VIIRS     </td><td>n         </td><td>1.0NRT    </td><td>288.2     </td><td> 2.0      </td><td>D         </td></tr>\n",
       "\t<tr><td>-41.02123 </td><td>147.0954  </td><td>328.4     </td><td>0.38      </td><td>0.44      </td><td>2019-10-01</td><td>336       </td><td>N         </td><td>VIIRS     </td><td>n         </td><td>1.0NRT    </td><td>291.3     </td><td> 2.0      </td><td>D         </td></tr>\n",
       "\t<tr><td>-41.20464 </td><td>144.7438  </td><td>344.8     </td><td>0.50      </td><td>0.49      </td><td>2019-10-01</td><td>336       </td><td>N         </td><td>VIIRS     </td><td>n         </td><td>1.0NRT    </td><td>291.2     </td><td> 9.2      </td><td>D         </td></tr>\n",
       "\t<tr><td>-41.02530 </td><td>147.0960  </td><td>339.7     </td><td>0.38      </td><td>0.44      </td><td>2019-10-01</td><td>336       </td><td>N         </td><td>VIIRS     </td><td>n         </td><td>1.0NRT    </td><td>292.5     </td><td> 3.1      </td><td>D         </td></tr>\n",
       "\t<tr><td>-18.81069 </td><td>146.2454  </td><td>337.1     </td><td>0.39      </td><td>0.36      </td><td>2019-10-01</td><td>342       </td><td>N         </td><td>VIIRS     </td><td>n         </td><td>1.0NRT    </td><td>306.5     </td><td> 4.4      </td><td>D         </td></tr>\n",
       "\t<tr><td>-37.52956 </td><td>143.4564  </td><td>344.8     </td><td>0.54      </td><td>0.51      </td><td>2019-10-01</td><td>342       </td><td>N         </td><td>VIIRS     </td><td>n         </td><td>1.0NRT    </td><td>293.6     </td><td> 7.3      </td><td>D         </td></tr>\n",
       "\t<tr><td>-38.05468 </td><td>143.9076  </td><td>329.8     </td><td>0.51      </td><td>0.50      </td><td>2019-10-01</td><td>342       </td><td>N         </td><td>VIIRS     </td><td>n         </td><td>1.0NRT    </td><td>298.6     </td><td> 4.9      </td><td>D         </td></tr>\n",
       "\t<tr><td>-38.05933 </td><td>143.9081  </td><td>339.4     </td><td>0.51      </td><td>0.50      </td><td>2019-10-01</td><td>342       </td><td>N         </td><td>VIIRS     </td><td>n         </td><td>1.0NRT    </td><td>297.7     </td><td> 6.7      </td><td>D         </td></tr>\n",
       "\t<tr><td>-38.05663 </td><td>143.9038  </td><td>336.7     </td><td>0.52      </td><td>0.50      </td><td>2019-10-01</td><td>342       </td><td>N         </td><td>VIIRS     </td><td>n         </td><td>1.0NRT    </td><td>301.9     </td><td> 5.6      </td><td>D         </td></tr>\n",
       "\t<tr><td>-38.05618 </td><td>143.9098  </td><td>327.7     </td><td>0.52      </td><td>0.50      </td><td>2019-10-01</td><td>342       </td><td>N         </td><td>VIIRS     </td><td>n         </td><td>1.0NRT    </td><td>296.8     </td><td> 4.9      </td><td>D         </td></tr>\n",
       "\t<tr><td>-18.80395 </td><td>146.2443  </td><td>346.1     </td><td>0.39      </td><td>0.36      </td><td>2019-10-01</td><td>342       </td><td>N         </td><td>VIIRS     </td><td>l         </td><td>1.0NRT    </td><td>318.7     </td><td>36.4      </td><td>D         </td></tr>\n",
       "\t<tr><td>-18.80058 </td><td>146.2438  </td><td>333.7     </td><td>0.39      </td><td>0.36      </td><td>2019-10-01</td><td>342       </td><td>N         </td><td>VIIRS     </td><td>l         </td><td>1.0NRT    </td><td>304.8     </td><td> 4.1      </td><td>D         </td></tr>\n",
       "\t<tr><td>-18.80341 </td><td>146.2481  </td><td>346.8     </td><td>0.39      </td><td>0.36      </td><td>2019-10-01</td><td>342       </td><td>N         </td><td>VIIRS     </td><td>n         </td><td>1.0NRT    </td><td>304.6     </td><td>10.0      </td><td>D         </td></tr>\n",
       "\t<tr><td>-18.80786 </td><td>146.2411  </td><td>344.6     </td><td>0.39      </td><td>0.36      </td><td>2019-10-01</td><td>342       </td><td>N         </td><td>VIIRS     </td><td>n         </td><td>1.0NRT    </td><td>310.6     </td><td>36.4      </td><td>D         </td></tr>\n",
       "\t<tr><td>-18.80732 </td><td>146.2448  </td><td>352.3     </td><td>0.39      </td><td>0.36      </td><td>2019-10-01</td><td>342       </td><td>N         </td><td>VIIRS     </td><td>n         </td><td>1.0NRT    </td><td>311.4     </td><td>36.4      </td><td>D         </td></tr>\n",
       "\t<tr><td>-18.80678 </td><td>146.2486  </td><td>335.2     </td><td>0.39      </td><td>0.36      </td><td>2019-10-01</td><td>342       </td><td>N         </td><td>VIIRS     </td><td>n         </td><td>1.0NRT    </td><td>304.9     </td><td>10.0      </td><td>D         </td></tr>\n",
       "\t<tr><td>-38.12988 </td><td>146.3838  </td><td>338.9     </td><td>0.39      </td><td>0.44      </td><td>2019-10-01</td><td>342       </td><td>N         </td><td>VIIRS     </td><td>n         </td><td>1.0NRT    </td><td>293.4     </td><td> 4.9      </td><td>D         </td></tr>\n",
       "\t<tr><td>-34.82242 </td><td>135.7972  </td><td>327.1     </td><td>0.67      </td><td>0.74      </td><td>2019-10-01</td><td>342       </td><td>N         </td><td>VIIRS     </td><td>n         </td><td>1.0NRT    </td><td>292.8     </td><td> 4.4      </td><td>D         </td></tr>\n",
       "\t<tr><td>-17.76423 </td><td>145.4899  </td><td>330.0     </td><td>0.40      </td><td>0.37      </td><td>2019-10-01</td><td>342       </td><td>N         </td><td>VIIRS     </td><td>l         </td><td>1.0NRT    </td><td>300.7     </td><td> 4.6      </td><td>D         </td></tr>\n",
       "\t<tr><td>-29.62126 </td><td>146.5237  </td><td>339.7     </td><td>0.46      </td><td>0.39      </td><td>2019-10-01</td><td>342       </td><td>N         </td><td>VIIRS     </td><td>n         </td><td>1.0NRT    </td><td>313.9     </td><td> 2.0      </td><td>D         </td></tr>\n",
       "\t<tr><td>-17.76314 </td><td>145.4975  </td><td>332.3     </td><td>0.40      </td><td>0.37      </td><td>2019-10-01</td><td>342       </td><td>N         </td><td>VIIRS     </td><td>n         </td><td>1.0NRT    </td><td>299.8     </td><td> 2.6      </td><td>D         </td></tr>\n",
       "\t<tr><td>...</td><td>...</td><td>...</td><td>...</td><td>...</td><td>...</td><td>...</td><td>...</td><td>...</td><td>...</td><td>...</td><td>...</td><td>...</td><td>...</td></tr>\n",
       "\t<tr><td>-33.21190 </td><td>122.1408  </td><td>302.6     </td><td>0.57      </td><td>0.43      </td><td>2020-01-11</td><td>1630      </td><td>N         </td><td>VIIRS     </td><td>n         </td><td>1.0NRT    </td><td>288.9     </td><td>1.0       </td><td>N         </td></tr>\n",
       "\t<tr><td>-33.21656 </td><td>122.1843  </td><td>299.8     </td><td>0.56      </td><td>0.43      </td><td>2020-01-11</td><td>1630      </td><td>N         </td><td>VIIRS     </td><td>n         </td><td>1.0NRT    </td><td>289.6     </td><td>0.3       </td><td>N         </td></tr>\n",
       "\t<tr><td>-33.21264 </td><td>122.1855  </td><td>300.9     </td><td>0.56      </td><td>0.43      </td><td>2020-01-11</td><td>1630      </td><td>N         </td><td>VIIRS     </td><td>n         </td><td>1.0NRT    </td><td>289.1     </td><td>0.8       </td><td>N         </td></tr>\n",
       "\t<tr><td>-32.70330 </td><td>122.0865  </td><td>298.3     </td><td>0.39      </td><td>0.44      </td><td>2020-01-11</td><td>1630      </td><td>N         </td><td>VIIRS     </td><td>n         </td><td>1.0NRT    </td><td>288.1     </td><td>0.5       </td><td>N         </td></tr>\n",
       "\t<tr><td>-32.23899 </td><td>121.3846  </td><td>304.7     </td><td>0.43      </td><td>0.46      </td><td>2020-01-11</td><td>1630      </td><td>N         </td><td>VIIRS     </td><td>n         </td><td>1.0NRT    </td><td>291.1     </td><td>1.0       </td><td>N         </td></tr>\n",
       "\t<tr><td>-32.03577 </td><td>121.6462  </td><td>310.3     </td><td>0.42      </td><td>0.45      </td><td>2020-01-11</td><td>1630      </td><td>N         </td><td>VIIRS     </td><td>n         </td><td>1.0NRT    </td><td>290.8     </td><td>1.3       </td><td>N         </td></tr>\n",
       "\t<tr><td>-32.65264 </td><td>122.1478  </td><td>299.1     </td><td>0.39      </td><td>0.44      </td><td>2020-01-11</td><td>1630      </td><td>N         </td><td>VIIRS     </td><td>n         </td><td>1.0NRT    </td><td>288.3     </td><td>0.6       </td><td>N         </td></tr>\n",
       "\t<tr><td>-32.37610 </td><td>121.4706  </td><td>303.2     </td><td>0.42      </td><td>0.45      </td><td>2020-01-11</td><td>1630      </td><td>N         </td><td>VIIRS     </td><td>n         </td><td>1.0NRT    </td><td>290.9     </td><td>0.7       </td><td>N         </td></tr>\n",
       "\t<tr><td>-32.37291 </td><td>121.4763  </td><td>310.8     </td><td>0.42      </td><td>0.45      </td><td>2020-01-11</td><td>1630      </td><td>N         </td><td>VIIRS     </td><td>n         </td><td>1.0NRT    </td><td>291.4     </td><td>1.7       </td><td>N         </td></tr>\n",
       "\t<tr><td>-32.67822 </td><td>122.1490  </td><td>300.7     </td><td>0.39      </td><td>0.44      </td><td>2020-01-11</td><td>1630      </td><td>N         </td><td>VIIRS     </td><td>n         </td><td>1.0NRT    </td><td>288.6     </td><td>0.7       </td><td>N         </td></tr>\n",
       "\t<tr><td>-32.67487 </td><td>122.1325  </td><td>303.5     </td><td>0.39      </td><td>0.44      </td><td>2020-01-11</td><td>1630      </td><td>N         </td><td>VIIRS     </td><td>n         </td><td>1.0NRT    </td><td>288.9     </td><td>0.5       </td><td>N         </td></tr>\n",
       "\t<tr><td>-32.67403 </td><td>122.1284  </td><td>301.2     </td><td>0.39      </td><td>0.44      </td><td>2020-01-11</td><td>1630      </td><td>N         </td><td>VIIRS     </td><td>n         </td><td>1.0NRT    </td><td>288.6     </td><td>0.5       </td><td>N         </td></tr>\n",
       "\t<tr><td>-32.67257 </td><td>122.1419  </td><td>300.5     </td><td>0.39      </td><td>0.44      </td><td>2020-01-11</td><td>1630      </td><td>N         </td><td>VIIRS     </td><td>n         </td><td>1.0NRT    </td><td>288.5     </td><td>0.9       </td><td>N         </td></tr>\n",
       "\t<tr><td>-32.67928 </td><td>122.0919  </td><td>305.2     </td><td>0.39      </td><td>0.44      </td><td>2020-01-11</td><td>1630      </td><td>N         </td><td>VIIRS     </td><td>n         </td><td>1.0NRT    </td><td>288.8     </td><td>0.9       </td><td>N         </td></tr>\n",
       "\t<tr><td>-32.67906 </td><td>122.1531  </td><td>302.0     </td><td>0.39      </td><td>0.44      </td><td>2020-01-11</td><td>1630      </td><td>N         </td><td>VIIRS     </td><td>n         </td><td>1.0NRT    </td><td>288.5     </td><td>0.4       </td><td>N         </td></tr>\n",
       "\t<tr><td>-32.67634 </td><td>122.1190  </td><td>302.9     </td><td>0.39      </td><td>0.44      </td><td>2020-01-11</td><td>1630      </td><td>N         </td><td>VIIRS     </td><td>n         </td><td>1.0NRT    </td><td>288.1     </td><td>0.7       </td><td>N         </td></tr>\n",
       "\t<tr><td>-32.67718 </td><td>122.1231  </td><td>305.3     </td><td>0.39      </td><td>0.44      </td><td>2020-01-11</td><td>1630      </td><td>N         </td><td>VIIRS     </td><td>n         </td><td>1.0NRT    </td><td>288.3     </td><td>0.7       </td><td>N         </td></tr>\n",
       "\t<tr><td>-32.68034 </td><td>122.1179  </td><td>298.6     </td><td>0.39      </td><td>0.44      </td><td>2020-01-11</td><td>1630      </td><td>N         </td><td>VIIRS     </td><td>n         </td><td>1.0NRT    </td><td>288.3     </td><td>0.7       </td><td>N         </td></tr>\n",
       "\t<tr><td>-32.67802 </td><td>122.1273  </td><td>300.1     </td><td>0.39      </td><td>0.44      </td><td>2020-01-11</td><td>1630      </td><td>N         </td><td>VIIRS     </td><td>n         </td><td>1.0NRT    </td><td>288.2     </td><td>0.5       </td><td>N         </td></tr>\n",
       "\t<tr><td>-32.68053 </td><td>122.1194  </td><td>304.1     </td><td>0.39      </td><td>0.44      </td><td>2020-01-11</td><td>1630      </td><td>N         </td><td>VIIRS     </td><td>n         </td><td>1.0NRT    </td><td>288.2     </td><td>0.8       </td><td>N         </td></tr>\n",
       "\t<tr><td>-31.61366 </td><td>119.7329  </td><td>308.0     </td><td>0.54      </td><td>0.51      </td><td>2020-01-11</td><td>1630      </td><td>N         </td><td>VIIRS     </td><td>n         </td><td>1.0NRT    </td><td>291.9     </td><td>2.9       </td><td>N         </td></tr>\n",
       "\t<tr><td>-33.25513 </td><td>122.1652  </td><td>307.1     </td><td>0.56      </td><td>0.43      </td><td>2020-01-11</td><td>1630      </td><td>N         </td><td>VIIRS     </td><td>n         </td><td>1.0NRT    </td><td>289.1     </td><td>1.3       </td><td>N         </td></tr>\n",
       "\t<tr><td>-32.37196 </td><td>121.4718  </td><td>317.7     </td><td>0.42      </td><td>0.45      </td><td>2020-01-11</td><td>1630      </td><td>N         </td><td>VIIRS     </td><td>n         </td><td>1.0NRT    </td><td>291.9     </td><td>2.7       </td><td>N         </td></tr>\n",
       "\t<tr><td>-32.66880 </td><td>122.1649  </td><td>299.9     </td><td>0.39      </td><td>0.44      </td><td>2020-01-11</td><td>1630      </td><td>N         </td><td>VIIRS     </td><td>n         </td><td>1.0NRT    </td><td>288.5     </td><td>0.6       </td><td>N         </td></tr>\n",
       "\t<tr><td>-32.66712 </td><td>122.1566  </td><td>299.5     </td><td>0.39      </td><td>0.44      </td><td>2020-01-11</td><td>1630      </td><td>N         </td><td>VIIRS     </td><td>n         </td><td>1.0NRT    </td><td>288.1     </td><td>0.9       </td><td>N         </td></tr>\n",
       "\t<tr><td>-32.66628 </td><td>122.1525  </td><td>306.9     </td><td>0.39      </td><td>0.44      </td><td>2020-01-11</td><td>1630      </td><td>N         </td><td>VIIRS     </td><td>n         </td><td>1.0NRT    </td><td>288.6     </td><td>0.8       </td><td>N         </td></tr>\n",
       "\t<tr><td>-32.58616 </td><td>123.3958  </td><td>299.0     </td><td>0.51      </td><td>0.41      </td><td>2020-01-11</td><td>1630      </td><td>N         </td><td>VIIRS     </td><td>n         </td><td>1.0NRT    </td><td>287.4     </td><td>0.7       </td><td>N         </td></tr>\n",
       "\t<tr><td>-33.37853 </td><td>115.9474  </td><td>309.7     </td><td>0.40      </td><td>0.60      </td><td>2020-01-11</td><td>1630      </td><td>N         </td><td>VIIRS     </td><td>n         </td><td>1.0NRT    </td><td>291.7     </td><td>1.0       </td><td>N         </td></tr>\n",
       "\t<tr><td>-33.21827 </td><td>115.7508  </td><td>300.2     </td><td>0.49      </td><td>0.65      </td><td>2020-01-11</td><td>1806      </td><td>N         </td><td>VIIRS     </td><td>n         </td><td>1.0NRT    </td><td>290.2     </td><td>1.1       </td><td>N         </td></tr>\n",
       "\t<tr><td>-33.22012 </td><td>115.7504  </td><td>300.3     </td><td>0.49      </td><td>0.65      </td><td>2020-01-11</td><td>1806      </td><td>N         </td><td>VIIRS     </td><td>n         </td><td>1.0NRT    </td><td>290.0     </td><td>0.6       </td><td>N         </td></tr>\n",
       "</tbody>\n",
       "</table>\n"
      ],
      "text/latex": [
       "\\begin{tabular}{r|llllllllllllll}\n",
       " latitude & longitude & bright\\_ti4 & scan & track & acq\\_date & acq\\_time & satellite & instrument & confidence & version & bright\\_ti5 & frp & daynight\\\\\n",
       "\\hline\n",
       "\t -42.69706  & 147.7063   & 333.6      & 0.57       & 0.43       & 2019-10-01 & 336        & N          & VIIRS      & n          & 1.0NRT     & 293.4      &  4.0       & D         \\\\\n",
       "\t -42.26889  & 147.3110   & 336.2      & 0.39       & 0.44       & 2019-10-01 & 336        & N          & VIIRS      & n          & 1.0NRT     & 296.9      &  3.9       & D         \\\\\n",
       "\t -40.85202  & 145.3807   & 327.9      & 0.46       & 0.47       & 2019-10-01 & 336        & N          & VIIRS      & n          & 1.0NRT     & 295.3      &  3.7       & D         \\\\\n",
       "\t -42.39329  & 147.4714   & 346.9      & 0.38       & 0.43       & 2019-10-01 & 336        & N          & VIIRS      & n          & 1.0NRT     & 294.2      &  6.2       & D         \\\\\n",
       "\t -42.69701  & 147.7058   & 334.1      & 0.56       & 0.43       & 2019-10-01 & 336        & N          & VIIRS      & n          & 1.0NRT     & 293.5      &  4.1       & D         \\\\\n",
       "\t -42.77161  & 146.8677   & 353.9      & 0.41       & 0.45       & 2019-10-01 & 336        & N          & VIIRS      & n          & 1.0NRT     & 294.2      &  9.9       & D         \\\\\n",
       "\t -41.48875  & 146.6439   & 338.7      & 0.41       & 0.45       & 2019-10-01 & 336        & N          & VIIRS      & n          & 1.0NRT     & 294.0      &  4.8       & D         \\\\\n",
       "\t -41.48920  & 146.6390   & 337.1      & 0.41       & 0.45       & 2019-10-01 & 336        & N          & VIIRS      & n          & 1.0NRT     & 293.0      &  4.8       & D         \\\\\n",
       "\t -41.01627  & 147.1041   & 327.1      & 0.38       & 0.43       & 2019-10-01 & 336        & N          & VIIRS      & n          & 1.0NRT     & 289.0      &  3.7       & D         \\\\\n",
       "\t -41.01717  & 147.0947   & 332.8      & 0.38       & 0.44       & 2019-10-01 & 336        & N          & VIIRS      & n          & 1.0NRT     & 288.2      &  2.0       & D         \\\\\n",
       "\t -41.02123  & 147.0954   & 328.4      & 0.38       & 0.44       & 2019-10-01 & 336        & N          & VIIRS      & n          & 1.0NRT     & 291.3      &  2.0       & D         \\\\\n",
       "\t -41.20464  & 144.7438   & 344.8      & 0.50       & 0.49       & 2019-10-01 & 336        & N          & VIIRS      & n          & 1.0NRT     & 291.2      &  9.2       & D         \\\\\n",
       "\t -41.02530  & 147.0960   & 339.7      & 0.38       & 0.44       & 2019-10-01 & 336        & N          & VIIRS      & n          & 1.0NRT     & 292.5      &  3.1       & D         \\\\\n",
       "\t -18.81069  & 146.2454   & 337.1      & 0.39       & 0.36       & 2019-10-01 & 342        & N          & VIIRS      & n          & 1.0NRT     & 306.5      &  4.4       & D         \\\\\n",
       "\t -37.52956  & 143.4564   & 344.8      & 0.54       & 0.51       & 2019-10-01 & 342        & N          & VIIRS      & n          & 1.0NRT     & 293.6      &  7.3       & D         \\\\\n",
       "\t -38.05468  & 143.9076   & 329.8      & 0.51       & 0.50       & 2019-10-01 & 342        & N          & VIIRS      & n          & 1.0NRT     & 298.6      &  4.9       & D         \\\\\n",
       "\t -38.05933  & 143.9081   & 339.4      & 0.51       & 0.50       & 2019-10-01 & 342        & N          & VIIRS      & n          & 1.0NRT     & 297.7      &  6.7       & D         \\\\\n",
       "\t -38.05663  & 143.9038   & 336.7      & 0.52       & 0.50       & 2019-10-01 & 342        & N          & VIIRS      & n          & 1.0NRT     & 301.9      &  5.6       & D         \\\\\n",
       "\t -38.05618  & 143.9098   & 327.7      & 0.52       & 0.50       & 2019-10-01 & 342        & N          & VIIRS      & n          & 1.0NRT     & 296.8      &  4.9       & D         \\\\\n",
       "\t -18.80395  & 146.2443   & 346.1      & 0.39       & 0.36       & 2019-10-01 & 342        & N          & VIIRS      & l          & 1.0NRT     & 318.7      & 36.4       & D         \\\\\n",
       "\t -18.80058  & 146.2438   & 333.7      & 0.39       & 0.36       & 2019-10-01 & 342        & N          & VIIRS      & l          & 1.0NRT     & 304.8      &  4.1       & D         \\\\\n",
       "\t -18.80341  & 146.2481   & 346.8      & 0.39       & 0.36       & 2019-10-01 & 342        & N          & VIIRS      & n          & 1.0NRT     & 304.6      & 10.0       & D         \\\\\n",
       "\t -18.80786  & 146.2411   & 344.6      & 0.39       & 0.36       & 2019-10-01 & 342        & N          & VIIRS      & n          & 1.0NRT     & 310.6      & 36.4       & D         \\\\\n",
       "\t -18.80732  & 146.2448   & 352.3      & 0.39       & 0.36       & 2019-10-01 & 342        & N          & VIIRS      & n          & 1.0NRT     & 311.4      & 36.4       & D         \\\\\n",
       "\t -18.80678  & 146.2486   & 335.2      & 0.39       & 0.36       & 2019-10-01 & 342        & N          & VIIRS      & n          & 1.0NRT     & 304.9      & 10.0       & D         \\\\\n",
       "\t -38.12988  & 146.3838   & 338.9      & 0.39       & 0.44       & 2019-10-01 & 342        & N          & VIIRS      & n          & 1.0NRT     & 293.4      &  4.9       & D         \\\\\n",
       "\t -34.82242  & 135.7972   & 327.1      & 0.67       & 0.74       & 2019-10-01 & 342        & N          & VIIRS      & n          & 1.0NRT     & 292.8      &  4.4       & D         \\\\\n",
       "\t -17.76423  & 145.4899   & 330.0      & 0.40       & 0.37       & 2019-10-01 & 342        & N          & VIIRS      & l          & 1.0NRT     & 300.7      &  4.6       & D         \\\\\n",
       "\t -29.62126  & 146.5237   & 339.7      & 0.46       & 0.39       & 2019-10-01 & 342        & N          & VIIRS      & n          & 1.0NRT     & 313.9      &  2.0       & D         \\\\\n",
       "\t -17.76314  & 145.4975   & 332.3      & 0.40       & 0.37       & 2019-10-01 & 342        & N          & VIIRS      & n          & 1.0NRT     & 299.8      &  2.6       & D         \\\\\n",
       "\t ... & ... & ... & ... & ... & ... & ... & ... & ... & ... & ... & ... & ... & ...\\\\\n",
       "\t -33.21190  & 122.1408   & 302.6      & 0.57       & 0.43       & 2020-01-11 & 1630       & N          & VIIRS      & n          & 1.0NRT     & 288.9      & 1.0        & N         \\\\\n",
       "\t -33.21656  & 122.1843   & 299.8      & 0.56       & 0.43       & 2020-01-11 & 1630       & N          & VIIRS      & n          & 1.0NRT     & 289.6      & 0.3        & N         \\\\\n",
       "\t -33.21264  & 122.1855   & 300.9      & 0.56       & 0.43       & 2020-01-11 & 1630       & N          & VIIRS      & n          & 1.0NRT     & 289.1      & 0.8        & N         \\\\\n",
       "\t -32.70330  & 122.0865   & 298.3      & 0.39       & 0.44       & 2020-01-11 & 1630       & N          & VIIRS      & n          & 1.0NRT     & 288.1      & 0.5        & N         \\\\\n",
       "\t -32.23899  & 121.3846   & 304.7      & 0.43       & 0.46       & 2020-01-11 & 1630       & N          & VIIRS      & n          & 1.0NRT     & 291.1      & 1.0        & N         \\\\\n",
       "\t -32.03577  & 121.6462   & 310.3      & 0.42       & 0.45       & 2020-01-11 & 1630       & N          & VIIRS      & n          & 1.0NRT     & 290.8      & 1.3        & N         \\\\\n",
       "\t -32.65264  & 122.1478   & 299.1      & 0.39       & 0.44       & 2020-01-11 & 1630       & N          & VIIRS      & n          & 1.0NRT     & 288.3      & 0.6        & N         \\\\\n",
       "\t -32.37610  & 121.4706   & 303.2      & 0.42       & 0.45       & 2020-01-11 & 1630       & N          & VIIRS      & n          & 1.0NRT     & 290.9      & 0.7        & N         \\\\\n",
       "\t -32.37291  & 121.4763   & 310.8      & 0.42       & 0.45       & 2020-01-11 & 1630       & N          & VIIRS      & n          & 1.0NRT     & 291.4      & 1.7        & N         \\\\\n",
       "\t -32.67822  & 122.1490   & 300.7      & 0.39       & 0.44       & 2020-01-11 & 1630       & N          & VIIRS      & n          & 1.0NRT     & 288.6      & 0.7        & N         \\\\\n",
       "\t -32.67487  & 122.1325   & 303.5      & 0.39       & 0.44       & 2020-01-11 & 1630       & N          & VIIRS      & n          & 1.0NRT     & 288.9      & 0.5        & N         \\\\\n",
       "\t -32.67403  & 122.1284   & 301.2      & 0.39       & 0.44       & 2020-01-11 & 1630       & N          & VIIRS      & n          & 1.0NRT     & 288.6      & 0.5        & N         \\\\\n",
       "\t -32.67257  & 122.1419   & 300.5      & 0.39       & 0.44       & 2020-01-11 & 1630       & N          & VIIRS      & n          & 1.0NRT     & 288.5      & 0.9        & N         \\\\\n",
       "\t -32.67928  & 122.0919   & 305.2      & 0.39       & 0.44       & 2020-01-11 & 1630       & N          & VIIRS      & n          & 1.0NRT     & 288.8      & 0.9        & N         \\\\\n",
       "\t -32.67906  & 122.1531   & 302.0      & 0.39       & 0.44       & 2020-01-11 & 1630       & N          & VIIRS      & n          & 1.0NRT     & 288.5      & 0.4        & N         \\\\\n",
       "\t -32.67634  & 122.1190   & 302.9      & 0.39       & 0.44       & 2020-01-11 & 1630       & N          & VIIRS      & n          & 1.0NRT     & 288.1      & 0.7        & N         \\\\\n",
       "\t -32.67718  & 122.1231   & 305.3      & 0.39       & 0.44       & 2020-01-11 & 1630       & N          & VIIRS      & n          & 1.0NRT     & 288.3      & 0.7        & N         \\\\\n",
       "\t -32.68034  & 122.1179   & 298.6      & 0.39       & 0.44       & 2020-01-11 & 1630       & N          & VIIRS      & n          & 1.0NRT     & 288.3      & 0.7        & N         \\\\\n",
       "\t -32.67802  & 122.1273   & 300.1      & 0.39       & 0.44       & 2020-01-11 & 1630       & N          & VIIRS      & n          & 1.0NRT     & 288.2      & 0.5        & N         \\\\\n",
       "\t -32.68053  & 122.1194   & 304.1      & 0.39       & 0.44       & 2020-01-11 & 1630       & N          & VIIRS      & n          & 1.0NRT     & 288.2      & 0.8        & N         \\\\\n",
       "\t -31.61366  & 119.7329   & 308.0      & 0.54       & 0.51       & 2020-01-11 & 1630       & N          & VIIRS      & n          & 1.0NRT     & 291.9      & 2.9        & N         \\\\\n",
       "\t -33.25513  & 122.1652   & 307.1      & 0.56       & 0.43       & 2020-01-11 & 1630       & N          & VIIRS      & n          & 1.0NRT     & 289.1      & 1.3        & N         \\\\\n",
       "\t -32.37196  & 121.4718   & 317.7      & 0.42       & 0.45       & 2020-01-11 & 1630       & N          & VIIRS      & n          & 1.0NRT     & 291.9      & 2.7        & N         \\\\\n",
       "\t -32.66880  & 122.1649   & 299.9      & 0.39       & 0.44       & 2020-01-11 & 1630       & N          & VIIRS      & n          & 1.0NRT     & 288.5      & 0.6        & N         \\\\\n",
       "\t -32.66712  & 122.1566   & 299.5      & 0.39       & 0.44       & 2020-01-11 & 1630       & N          & VIIRS      & n          & 1.0NRT     & 288.1      & 0.9        & N         \\\\\n",
       "\t -32.66628  & 122.1525   & 306.9      & 0.39       & 0.44       & 2020-01-11 & 1630       & N          & VIIRS      & n          & 1.0NRT     & 288.6      & 0.8        & N         \\\\\n",
       "\t -32.58616  & 123.3958   & 299.0      & 0.51       & 0.41       & 2020-01-11 & 1630       & N          & VIIRS      & n          & 1.0NRT     & 287.4      & 0.7        & N         \\\\\n",
       "\t -33.37853  & 115.9474   & 309.7      & 0.40       & 0.60       & 2020-01-11 & 1630       & N          & VIIRS      & n          & 1.0NRT     & 291.7      & 1.0        & N         \\\\\n",
       "\t -33.21827  & 115.7508   & 300.2      & 0.49       & 0.65       & 2020-01-11 & 1806       & N          & VIIRS      & n          & 1.0NRT     & 290.2      & 1.1        & N         \\\\\n",
       "\t -33.22012  & 115.7504   & 300.3      & 0.49       & 0.65       & 2020-01-11 & 1806       & N          & VIIRS      & n          & 1.0NRT     & 290.0      & 0.6        & N         \\\\\n",
       "\\end{tabular}\n"
      ],
      "text/markdown": [
       "\n",
       "| latitude | longitude | bright_ti4 | scan | track | acq_date | acq_time | satellite | instrument | confidence | version | bright_ti5 | frp | daynight |\n",
       "|---|---|---|---|---|---|---|---|---|---|---|---|---|---|\n",
       "| -42.69706  | 147.7063   | 333.6      | 0.57       | 0.43       | 2019-10-01 | 336        | N          | VIIRS      | n          | 1.0NRT     | 293.4      |  4.0       | D          |\n",
       "| -42.26889  | 147.3110   | 336.2      | 0.39       | 0.44       | 2019-10-01 | 336        | N          | VIIRS      | n          | 1.0NRT     | 296.9      |  3.9       | D          |\n",
       "| -40.85202  | 145.3807   | 327.9      | 0.46       | 0.47       | 2019-10-01 | 336        | N          | VIIRS      | n          | 1.0NRT     | 295.3      |  3.7       | D          |\n",
       "| -42.39329  | 147.4714   | 346.9      | 0.38       | 0.43       | 2019-10-01 | 336        | N          | VIIRS      | n          | 1.0NRT     | 294.2      |  6.2       | D          |\n",
       "| -42.69701  | 147.7058   | 334.1      | 0.56       | 0.43       | 2019-10-01 | 336        | N          | VIIRS      | n          | 1.0NRT     | 293.5      |  4.1       | D          |\n",
       "| -42.77161  | 146.8677   | 353.9      | 0.41       | 0.45       | 2019-10-01 | 336        | N          | VIIRS      | n          | 1.0NRT     | 294.2      |  9.9       | D          |\n",
       "| -41.48875  | 146.6439   | 338.7      | 0.41       | 0.45       | 2019-10-01 | 336        | N          | VIIRS      | n          | 1.0NRT     | 294.0      |  4.8       | D          |\n",
       "| -41.48920  | 146.6390   | 337.1      | 0.41       | 0.45       | 2019-10-01 | 336        | N          | VIIRS      | n          | 1.0NRT     | 293.0      |  4.8       | D          |\n",
       "| -41.01627  | 147.1041   | 327.1      | 0.38       | 0.43       | 2019-10-01 | 336        | N          | VIIRS      | n          | 1.0NRT     | 289.0      |  3.7       | D          |\n",
       "| -41.01717  | 147.0947   | 332.8      | 0.38       | 0.44       | 2019-10-01 | 336        | N          | VIIRS      | n          | 1.0NRT     | 288.2      |  2.0       | D          |\n",
       "| -41.02123  | 147.0954   | 328.4      | 0.38       | 0.44       | 2019-10-01 | 336        | N          | VIIRS      | n          | 1.0NRT     | 291.3      |  2.0       | D          |\n",
       "| -41.20464  | 144.7438   | 344.8      | 0.50       | 0.49       | 2019-10-01 | 336        | N          | VIIRS      | n          | 1.0NRT     | 291.2      |  9.2       | D          |\n",
       "| -41.02530  | 147.0960   | 339.7      | 0.38       | 0.44       | 2019-10-01 | 336        | N          | VIIRS      | n          | 1.0NRT     | 292.5      |  3.1       | D          |\n",
       "| -18.81069  | 146.2454   | 337.1      | 0.39       | 0.36       | 2019-10-01 | 342        | N          | VIIRS      | n          | 1.0NRT     | 306.5      |  4.4       | D          |\n",
       "| -37.52956  | 143.4564   | 344.8      | 0.54       | 0.51       | 2019-10-01 | 342        | N          | VIIRS      | n          | 1.0NRT     | 293.6      |  7.3       | D          |\n",
       "| -38.05468  | 143.9076   | 329.8      | 0.51       | 0.50       | 2019-10-01 | 342        | N          | VIIRS      | n          | 1.0NRT     | 298.6      |  4.9       | D          |\n",
       "| -38.05933  | 143.9081   | 339.4      | 0.51       | 0.50       | 2019-10-01 | 342        | N          | VIIRS      | n          | 1.0NRT     | 297.7      |  6.7       | D          |\n",
       "| -38.05663  | 143.9038   | 336.7      | 0.52       | 0.50       | 2019-10-01 | 342        | N          | VIIRS      | n          | 1.0NRT     | 301.9      |  5.6       | D          |\n",
       "| -38.05618  | 143.9098   | 327.7      | 0.52       | 0.50       | 2019-10-01 | 342        | N          | VIIRS      | n          | 1.0NRT     | 296.8      |  4.9       | D          |\n",
       "| -18.80395  | 146.2443   | 346.1      | 0.39       | 0.36       | 2019-10-01 | 342        | N          | VIIRS      | l          | 1.0NRT     | 318.7      | 36.4       | D          |\n",
       "| -18.80058  | 146.2438   | 333.7      | 0.39       | 0.36       | 2019-10-01 | 342        | N          | VIIRS      | l          | 1.0NRT     | 304.8      |  4.1       | D          |\n",
       "| -18.80341  | 146.2481   | 346.8      | 0.39       | 0.36       | 2019-10-01 | 342        | N          | VIIRS      | n          | 1.0NRT     | 304.6      | 10.0       | D          |\n",
       "| -18.80786  | 146.2411   | 344.6      | 0.39       | 0.36       | 2019-10-01 | 342        | N          | VIIRS      | n          | 1.0NRT     | 310.6      | 36.4       | D          |\n",
       "| -18.80732  | 146.2448   | 352.3      | 0.39       | 0.36       | 2019-10-01 | 342        | N          | VIIRS      | n          | 1.0NRT     | 311.4      | 36.4       | D          |\n",
       "| -18.80678  | 146.2486   | 335.2      | 0.39       | 0.36       | 2019-10-01 | 342        | N          | VIIRS      | n          | 1.0NRT     | 304.9      | 10.0       | D          |\n",
       "| -38.12988  | 146.3838   | 338.9      | 0.39       | 0.44       | 2019-10-01 | 342        | N          | VIIRS      | n          | 1.0NRT     | 293.4      |  4.9       | D          |\n",
       "| -34.82242  | 135.7972   | 327.1      | 0.67       | 0.74       | 2019-10-01 | 342        | N          | VIIRS      | n          | 1.0NRT     | 292.8      |  4.4       | D          |\n",
       "| -17.76423  | 145.4899   | 330.0      | 0.40       | 0.37       | 2019-10-01 | 342        | N          | VIIRS      | l          | 1.0NRT     | 300.7      |  4.6       | D          |\n",
       "| -29.62126  | 146.5237   | 339.7      | 0.46       | 0.39       | 2019-10-01 | 342        | N          | VIIRS      | n          | 1.0NRT     | 313.9      |  2.0       | D          |\n",
       "| -17.76314  | 145.4975   | 332.3      | 0.40       | 0.37       | 2019-10-01 | 342        | N          | VIIRS      | n          | 1.0NRT     | 299.8      |  2.6       | D          |\n",
       "| ... | ... | ... | ... | ... | ... | ... | ... | ... | ... | ... | ... | ... | ... |\n",
       "| -33.21190  | 122.1408   | 302.6      | 0.57       | 0.43       | 2020-01-11 | 1630       | N          | VIIRS      | n          | 1.0NRT     | 288.9      | 1.0        | N          |\n",
       "| -33.21656  | 122.1843   | 299.8      | 0.56       | 0.43       | 2020-01-11 | 1630       | N          | VIIRS      | n          | 1.0NRT     | 289.6      | 0.3        | N          |\n",
       "| -33.21264  | 122.1855   | 300.9      | 0.56       | 0.43       | 2020-01-11 | 1630       | N          | VIIRS      | n          | 1.0NRT     | 289.1      | 0.8        | N          |\n",
       "| -32.70330  | 122.0865   | 298.3      | 0.39       | 0.44       | 2020-01-11 | 1630       | N          | VIIRS      | n          | 1.0NRT     | 288.1      | 0.5        | N          |\n",
       "| -32.23899  | 121.3846   | 304.7      | 0.43       | 0.46       | 2020-01-11 | 1630       | N          | VIIRS      | n          | 1.0NRT     | 291.1      | 1.0        | N          |\n",
       "| -32.03577  | 121.6462   | 310.3      | 0.42       | 0.45       | 2020-01-11 | 1630       | N          | VIIRS      | n          | 1.0NRT     | 290.8      | 1.3        | N          |\n",
       "| -32.65264  | 122.1478   | 299.1      | 0.39       | 0.44       | 2020-01-11 | 1630       | N          | VIIRS      | n          | 1.0NRT     | 288.3      | 0.6        | N          |\n",
       "| -32.37610  | 121.4706   | 303.2      | 0.42       | 0.45       | 2020-01-11 | 1630       | N          | VIIRS      | n          | 1.0NRT     | 290.9      | 0.7        | N          |\n",
       "| -32.37291  | 121.4763   | 310.8      | 0.42       | 0.45       | 2020-01-11 | 1630       | N          | VIIRS      | n          | 1.0NRT     | 291.4      | 1.7        | N          |\n",
       "| -32.67822  | 122.1490   | 300.7      | 0.39       | 0.44       | 2020-01-11 | 1630       | N          | VIIRS      | n          | 1.0NRT     | 288.6      | 0.7        | N          |\n",
       "| -32.67487  | 122.1325   | 303.5      | 0.39       | 0.44       | 2020-01-11 | 1630       | N          | VIIRS      | n          | 1.0NRT     | 288.9      | 0.5        | N          |\n",
       "| -32.67403  | 122.1284   | 301.2      | 0.39       | 0.44       | 2020-01-11 | 1630       | N          | VIIRS      | n          | 1.0NRT     | 288.6      | 0.5        | N          |\n",
       "| -32.67257  | 122.1419   | 300.5      | 0.39       | 0.44       | 2020-01-11 | 1630       | N          | VIIRS      | n          | 1.0NRT     | 288.5      | 0.9        | N          |\n",
       "| -32.67928  | 122.0919   | 305.2      | 0.39       | 0.44       | 2020-01-11 | 1630       | N          | VIIRS      | n          | 1.0NRT     | 288.8      | 0.9        | N          |\n",
       "| -32.67906  | 122.1531   | 302.0      | 0.39       | 0.44       | 2020-01-11 | 1630       | N          | VIIRS      | n          | 1.0NRT     | 288.5      | 0.4        | N          |\n",
       "| -32.67634  | 122.1190   | 302.9      | 0.39       | 0.44       | 2020-01-11 | 1630       | N          | VIIRS      | n          | 1.0NRT     | 288.1      | 0.7        | N          |\n",
       "| -32.67718  | 122.1231   | 305.3      | 0.39       | 0.44       | 2020-01-11 | 1630       | N          | VIIRS      | n          | 1.0NRT     | 288.3      | 0.7        | N          |\n",
       "| -32.68034  | 122.1179   | 298.6      | 0.39       | 0.44       | 2020-01-11 | 1630       | N          | VIIRS      | n          | 1.0NRT     | 288.3      | 0.7        | N          |\n",
       "| -32.67802  | 122.1273   | 300.1      | 0.39       | 0.44       | 2020-01-11 | 1630       | N          | VIIRS      | n          | 1.0NRT     | 288.2      | 0.5        | N          |\n",
       "| -32.68053  | 122.1194   | 304.1      | 0.39       | 0.44       | 2020-01-11 | 1630       | N          | VIIRS      | n          | 1.0NRT     | 288.2      | 0.8        | N          |\n",
       "| -31.61366  | 119.7329   | 308.0      | 0.54       | 0.51       | 2020-01-11 | 1630       | N          | VIIRS      | n          | 1.0NRT     | 291.9      | 2.9        | N          |\n",
       "| -33.25513  | 122.1652   | 307.1      | 0.56       | 0.43       | 2020-01-11 | 1630       | N          | VIIRS      | n          | 1.0NRT     | 289.1      | 1.3        | N          |\n",
       "| -32.37196  | 121.4718   | 317.7      | 0.42       | 0.45       | 2020-01-11 | 1630       | N          | VIIRS      | n          | 1.0NRT     | 291.9      | 2.7        | N          |\n",
       "| -32.66880  | 122.1649   | 299.9      | 0.39       | 0.44       | 2020-01-11 | 1630       | N          | VIIRS      | n          | 1.0NRT     | 288.5      | 0.6        | N          |\n",
       "| -32.66712  | 122.1566   | 299.5      | 0.39       | 0.44       | 2020-01-11 | 1630       | N          | VIIRS      | n          | 1.0NRT     | 288.1      | 0.9        | N          |\n",
       "| -32.66628  | 122.1525   | 306.9      | 0.39       | 0.44       | 2020-01-11 | 1630       | N          | VIIRS      | n          | 1.0NRT     | 288.6      | 0.8        | N          |\n",
       "| -32.58616  | 123.3958   | 299.0      | 0.51       | 0.41       | 2020-01-11 | 1630       | N          | VIIRS      | n          | 1.0NRT     | 287.4      | 0.7        | N          |\n",
       "| -33.37853  | 115.9474   | 309.7      | 0.40       | 0.60       | 2020-01-11 | 1630       | N          | VIIRS      | n          | 1.0NRT     | 291.7      | 1.0        | N          |\n",
       "| -33.21827  | 115.7508   | 300.2      | 0.49       | 0.65       | 2020-01-11 | 1806       | N          | VIIRS      | n          | 1.0NRT     | 290.2      | 1.1        | N          |\n",
       "| -33.22012  | 115.7504   | 300.3      | 0.49       | 0.65       | 2020-01-11 | 1806       | N          | VIIRS      | n          | 1.0NRT     | 290.0      | 0.6        | N          |\n",
       "\n"
      ],
      "text/plain": [
       "       latitude  longitude bright_ti4 scan track acq_date   acq_time satellite\n",
       "1      -42.69706 147.7063  333.6      0.57 0.43  2019-10-01 336      N        \n",
       "2      -42.26889 147.3110  336.2      0.39 0.44  2019-10-01 336      N        \n",
       "3      -40.85202 145.3807  327.9      0.46 0.47  2019-10-01 336      N        \n",
       "4      -42.39329 147.4714  346.9      0.38 0.43  2019-10-01 336      N        \n",
       "5      -42.69701 147.7058  334.1      0.56 0.43  2019-10-01 336      N        \n",
       "6      -42.77161 146.8677  353.9      0.41 0.45  2019-10-01 336      N        \n",
       "7      -41.48875 146.6439  338.7      0.41 0.45  2019-10-01 336      N        \n",
       "8      -41.48920 146.6390  337.1      0.41 0.45  2019-10-01 336      N        \n",
       "9      -41.01627 147.1041  327.1      0.38 0.43  2019-10-01 336      N        \n",
       "10     -41.01717 147.0947  332.8      0.38 0.44  2019-10-01 336      N        \n",
       "11     -41.02123 147.0954  328.4      0.38 0.44  2019-10-01 336      N        \n",
       "12     -41.20464 144.7438  344.8      0.50 0.49  2019-10-01 336      N        \n",
       "13     -41.02530 147.0960  339.7      0.38 0.44  2019-10-01 336      N        \n",
       "14     -18.81069 146.2454  337.1      0.39 0.36  2019-10-01 342      N        \n",
       "15     -37.52956 143.4564  344.8      0.54 0.51  2019-10-01 342      N        \n",
       "16     -38.05468 143.9076  329.8      0.51 0.50  2019-10-01 342      N        \n",
       "17     -38.05933 143.9081  339.4      0.51 0.50  2019-10-01 342      N        \n",
       "18     -38.05663 143.9038  336.7      0.52 0.50  2019-10-01 342      N        \n",
       "19     -38.05618 143.9098  327.7      0.52 0.50  2019-10-01 342      N        \n",
       "20     -18.80395 146.2443  346.1      0.39 0.36  2019-10-01 342      N        \n",
       "21     -18.80058 146.2438  333.7      0.39 0.36  2019-10-01 342      N        \n",
       "22     -18.80341 146.2481  346.8      0.39 0.36  2019-10-01 342      N        \n",
       "23     -18.80786 146.2411  344.6      0.39 0.36  2019-10-01 342      N        \n",
       "24     -18.80732 146.2448  352.3      0.39 0.36  2019-10-01 342      N        \n",
       "25     -18.80678 146.2486  335.2      0.39 0.36  2019-10-01 342      N        \n",
       "26     -38.12988 146.3838  338.9      0.39 0.44  2019-10-01 342      N        \n",
       "27     -34.82242 135.7972  327.1      0.67 0.74  2019-10-01 342      N        \n",
       "28     -17.76423 145.4899  330.0      0.40 0.37  2019-10-01 342      N        \n",
       "29     -29.62126 146.5237  339.7      0.46 0.39  2019-10-01 342      N        \n",
       "30     -17.76314 145.4975  332.3      0.40 0.37  2019-10-01 342      N        \n",
       "...    ...       ...       ...        ...  ...   ...        ...      ...      \n",
       "956228 -33.21190 122.1408  302.6      0.57 0.43  2020-01-11 1630     N        \n",
       "956229 -33.21656 122.1843  299.8      0.56 0.43  2020-01-11 1630     N        \n",
       "956230 -33.21264 122.1855  300.9      0.56 0.43  2020-01-11 1630     N        \n",
       "956231 -32.70330 122.0865  298.3      0.39 0.44  2020-01-11 1630     N        \n",
       "956232 -32.23899 121.3846  304.7      0.43 0.46  2020-01-11 1630     N        \n",
       "956233 -32.03577 121.6462  310.3      0.42 0.45  2020-01-11 1630     N        \n",
       "956234 -32.65264 122.1478  299.1      0.39 0.44  2020-01-11 1630     N        \n",
       "956235 -32.37610 121.4706  303.2      0.42 0.45  2020-01-11 1630     N        \n",
       "956236 -32.37291 121.4763  310.8      0.42 0.45  2020-01-11 1630     N        \n",
       "956237 -32.67822 122.1490  300.7      0.39 0.44  2020-01-11 1630     N        \n",
       "956238 -32.67487 122.1325  303.5      0.39 0.44  2020-01-11 1630     N        \n",
       "956239 -32.67403 122.1284  301.2      0.39 0.44  2020-01-11 1630     N        \n",
       "956240 -32.67257 122.1419  300.5      0.39 0.44  2020-01-11 1630     N        \n",
       "956241 -32.67928 122.0919  305.2      0.39 0.44  2020-01-11 1630     N        \n",
       "956242 -32.67906 122.1531  302.0      0.39 0.44  2020-01-11 1630     N        \n",
       "956243 -32.67634 122.1190  302.9      0.39 0.44  2020-01-11 1630     N        \n",
       "956244 -32.67718 122.1231  305.3      0.39 0.44  2020-01-11 1630     N        \n",
       "956245 -32.68034 122.1179  298.6      0.39 0.44  2020-01-11 1630     N        \n",
       "956246 -32.67802 122.1273  300.1      0.39 0.44  2020-01-11 1630     N        \n",
       "956247 -32.68053 122.1194  304.1      0.39 0.44  2020-01-11 1630     N        \n",
       "956248 -31.61366 119.7329  308.0      0.54 0.51  2020-01-11 1630     N        \n",
       "956249 -33.25513 122.1652  307.1      0.56 0.43  2020-01-11 1630     N        \n",
       "956250 -32.37196 121.4718  317.7      0.42 0.45  2020-01-11 1630     N        \n",
       "956251 -32.66880 122.1649  299.9      0.39 0.44  2020-01-11 1630     N        \n",
       "956252 -32.66712 122.1566  299.5      0.39 0.44  2020-01-11 1630     N        \n",
       "956253 -32.66628 122.1525  306.9      0.39 0.44  2020-01-11 1630     N        \n",
       "956254 -32.58616 123.3958  299.0      0.51 0.41  2020-01-11 1630     N        \n",
       "956255 -33.37853 115.9474  309.7      0.40 0.60  2020-01-11 1630     N        \n",
       "956256 -33.21827 115.7508  300.2      0.49 0.65  2020-01-11 1806     N        \n",
       "956257 -33.22012 115.7504  300.3      0.49 0.65  2020-01-11 1806     N        \n",
       "       instrument confidence version bright_ti5 frp  daynight\n",
       "1      VIIRS      n          1.0NRT  293.4       4.0 D       \n",
       "2      VIIRS      n          1.0NRT  296.9       3.9 D       \n",
       "3      VIIRS      n          1.0NRT  295.3       3.7 D       \n",
       "4      VIIRS      n          1.0NRT  294.2       6.2 D       \n",
       "5      VIIRS      n          1.0NRT  293.5       4.1 D       \n",
       "6      VIIRS      n          1.0NRT  294.2       9.9 D       \n",
       "7      VIIRS      n          1.0NRT  294.0       4.8 D       \n",
       "8      VIIRS      n          1.0NRT  293.0       4.8 D       \n",
       "9      VIIRS      n          1.0NRT  289.0       3.7 D       \n",
       "10     VIIRS      n          1.0NRT  288.2       2.0 D       \n",
       "11     VIIRS      n          1.0NRT  291.3       2.0 D       \n",
       "12     VIIRS      n          1.0NRT  291.2       9.2 D       \n",
       "13     VIIRS      n          1.0NRT  292.5       3.1 D       \n",
       "14     VIIRS      n          1.0NRT  306.5       4.4 D       \n",
       "15     VIIRS      n          1.0NRT  293.6       7.3 D       \n",
       "16     VIIRS      n          1.0NRT  298.6       4.9 D       \n",
       "17     VIIRS      n          1.0NRT  297.7       6.7 D       \n",
       "18     VIIRS      n          1.0NRT  301.9       5.6 D       \n",
       "19     VIIRS      n          1.0NRT  296.8       4.9 D       \n",
       "20     VIIRS      l          1.0NRT  318.7      36.4 D       \n",
       "21     VIIRS      l          1.0NRT  304.8       4.1 D       \n",
       "22     VIIRS      n          1.0NRT  304.6      10.0 D       \n",
       "23     VIIRS      n          1.0NRT  310.6      36.4 D       \n",
       "24     VIIRS      n          1.0NRT  311.4      36.4 D       \n",
       "25     VIIRS      n          1.0NRT  304.9      10.0 D       \n",
       "26     VIIRS      n          1.0NRT  293.4       4.9 D       \n",
       "27     VIIRS      n          1.0NRT  292.8       4.4 D       \n",
       "28     VIIRS      l          1.0NRT  300.7       4.6 D       \n",
       "29     VIIRS      n          1.0NRT  313.9       2.0 D       \n",
       "30     VIIRS      n          1.0NRT  299.8       2.6 D       \n",
       "...    ...        ...        ...     ...        ...  ...     \n",
       "956228 VIIRS      n          1.0NRT  288.9      1.0  N       \n",
       "956229 VIIRS      n          1.0NRT  289.6      0.3  N       \n",
       "956230 VIIRS      n          1.0NRT  289.1      0.8  N       \n",
       "956231 VIIRS      n          1.0NRT  288.1      0.5  N       \n",
       "956232 VIIRS      n          1.0NRT  291.1      1.0  N       \n",
       "956233 VIIRS      n          1.0NRT  290.8      1.3  N       \n",
       "956234 VIIRS      n          1.0NRT  288.3      0.6  N       \n",
       "956235 VIIRS      n          1.0NRT  290.9      0.7  N       \n",
       "956236 VIIRS      n          1.0NRT  291.4      1.7  N       \n",
       "956237 VIIRS      n          1.0NRT  288.6      0.7  N       \n",
       "956238 VIIRS      n          1.0NRT  288.9      0.5  N       \n",
       "956239 VIIRS      n          1.0NRT  288.6      0.5  N       \n",
       "956240 VIIRS      n          1.0NRT  288.5      0.9  N       \n",
       "956241 VIIRS      n          1.0NRT  288.8      0.9  N       \n",
       "956242 VIIRS      n          1.0NRT  288.5      0.4  N       \n",
       "956243 VIIRS      n          1.0NRT  288.1      0.7  N       \n",
       "956244 VIIRS      n          1.0NRT  288.3      0.7  N       \n",
       "956245 VIIRS      n          1.0NRT  288.3      0.7  N       \n",
       "956246 VIIRS      n          1.0NRT  288.2      0.5  N       \n",
       "956247 VIIRS      n          1.0NRT  288.2      0.8  N       \n",
       "956248 VIIRS      n          1.0NRT  291.9      2.9  N       \n",
       "956249 VIIRS      n          1.0NRT  289.1      1.3  N       \n",
       "956250 VIIRS      n          1.0NRT  291.9      2.7  N       \n",
       "956251 VIIRS      n          1.0NRT  288.5      0.6  N       \n",
       "956252 VIIRS      n          1.0NRT  288.1      0.9  N       \n",
       "956253 VIIRS      n          1.0NRT  288.6      0.8  N       \n",
       "956254 VIIRS      n          1.0NRT  287.4      0.7  N       \n",
       "956255 VIIRS      n          1.0NRT  291.7      1.0  N       \n",
       "956256 VIIRS      n          1.0NRT  290.2      1.1  N       \n",
       "956257 VIIRS      n          1.0NRT  290.0      0.6  N       "
      ]
     },
     "metadata": {},
     "output_type": "display_data"
    }
   ],
   "source": [
    "fire_nrt_V1_96617"
   ]
  },
  {
   "cell_type": "markdown",
   "id": "d6c06edc-eff6-4e64-b313-e51898523058",
   "metadata": {},
   "source": [
    "# Avance 2 Evidencia 2"
   ]
  },
  {
   "cell_type": "markdown",
   "id": "3d5b940f-50ae-482d-967f-e98b80af70d1",
   "metadata": {},
   "source": [
    "### Calculos de elementos nulos, valores maximos y minimos, desviaciones estandar, valores atípicos por columna"
   ]
  },
  {
   "cell_type": "code",
   "execution_count": 64,
   "id": "81b12cc0-1e05-48e3-ae83-32347b0cedcb",
   "metadata": {
    "jupyter": {
     "source_hidden": true
    }
   },
   "outputs": [],
   "source": [
    "# Función principal que llama a todas las demás\n",
    "analizar_dataframe <- function(df) {\n",
    "  cat(\"== Análisis Tabla Fire NRT V1 96617 ==\\n\")\n",
    "  \n",
    "  valores_nulos(df)\n",
    "  valores_max_min(df)\n",
    "  desviaciones_estandar(df)\n",
    "  valores_atipicos(df)\n",
    "}\n",
    "\n",
    "# Calcular nulos por columna\n",
    "valores_nulos <- function(df) {\n",
    "  cat(\"\\n a. Elementos nulos por columna:\\n\")\n",
    "  print(colSums(is.na(df)))\n",
    "}\n",
    "\n",
    "# Calcular valores máximos y mínimos\n",
    "valores_max_min <- function(df) {\n",
    "  cat(\"\\n b. Valores máximos por columna numérica:\\n\")\n",
    "  print(sapply(df, function(col) if(is.numeric(col)) max(col, na.rm = TRUE) else NA))\n",
    "\n",
    "  cat(\"\\n b_1. Valores mínimos por columna numérica:\\n\")\n",
    "  print(sapply(df, function(col) if(is.numeric(col)) min(col, na.rm = TRUE) else NA))\n",
    "}\n",
    "\n",
    "# Calcular desviaciones estándar\n",
    "desviaciones_estandar <- function(df) {\n",
    "  cat(\"\\n c. Desviación estándar por columna numérica:\\n\")\n",
    "  print(sapply(df, function(col) if(is.numeric(col)) sd(col, na.rm = TRUE) else NA))\n",
    "}\n",
    "\n",
    "# Identificar valores atípicos con la regla del IQR\n",
    "valores_atipicos <- function(df) {\n",
    "  cat(\"\\n d. Cantidad de valores atípicos por columna numérica (basado en IQR):\\n\")\n",
    "  detectar_outliers <- function(col) {\n",
    "    if (!is.numeric(col)) return(NA)\n",
    "    Q1 <- quantile(col, 0.25, na.rm = TRUE)\n",
    "    Q3 <- quantile(col, 0.75, na.rm = TRUE)\n",
    "    IQR_val <- Q3 - Q1\n",
    "    outliers <- which(col < (Q1 - 1.5 * IQR_val) | col > (Q3 + 1.5 * IQR_val))\n",
    "    return(length(outliers))\n",
    "  }\n",
    "  print(sapply(df, detectar_outliers))\n",
    "}"
   ]
  },
  {
   "cell_type": "markdown",
   "id": "d9851608-728e-413c-ac61-0138652b0b4c",
   "metadata": {},
   "source": [
    "### Resultados"
   ]
  },
  {
   "cell_type": "code",
   "execution_count": 39,
   "id": "a0d39ee2-e81f-40f2-bbbd-9d3d051913b2",
   "metadata": {
    "collapsed": true,
    "jupyter": {
     "outputs_hidden": true
    }
   },
   "outputs": [
    {
     "name": "stdout",
     "output_type": "stream",
     "text": [
      "== Análisis Tabla Fire NRT V1 96617 ==\n",
      "\n",
      " a. Elementos nulos por columna:\n",
      "  latitude  longitude bright_ti4       scan      track   acq_date   acq_time \n",
      "         0          0          0          0          0          0          0 \n",
      " satellite instrument confidence    version bright_ti5        frp   daynight \n",
      "         0          0          0          0          0          0          0 \n",
      "\n",
      " b. Valores máximos por columna numérica:\n",
      "  latitude  longitude bright_ti4       scan      track   acq_date   acq_time \n",
      "   -9.3965   153.4522   367.0000     0.8000     0.7800         NA  1824.0000 \n",
      " satellite instrument confidence    version bright_ti5        frp   daynight \n",
      "        NA         NA         NA         NA   380.0000 10717.2000         NA \n",
      "\n",
      " b_1. Valores mínimos por columna numérica:\n",
      "  latitude  longitude bright_ti4       scan      track   acq_date   acq_time \n",
      " -43.21232  113.44701  208.00000    0.32000    0.36000         NA  224.00000 \n",
      " satellite instrument confidence    version bright_ti5        frp   daynight \n",
      "        NA         NA         NA         NA  150.00000    0.00000         NA \n",
      "\n",
      " c. Desviación estándar por columna numérica:\n",
      "    latitude    longitude   bright_ti4         scan        track     acq_date \n",
      "  8.00822264  10.98603834  21.98845593   0.08981134   0.11879171           NA \n",
      "    acq_time    satellite   instrument   confidence      version   bright_ti5 \n",
      "555.54811490           NA           NA           NA           NA  14.72459965 \n",
      "         frp     daynight \n",
      " 45.58439605           NA \n",
      "\n",
      " d. Cantidad de valores atípicos por columna numérica (basado en IQR):\n",
      "  latitude  longitude bright_ti4       scan      track   acq_date   acq_time \n",
      "         0          0        640      24926          0         NA          0 \n",
      " satellite instrument confidence    version bright_ti5        frp   daynight \n",
      "        NA         NA         NA         NA      22203     104169         NA \n"
     ]
    }
   ],
   "source": [
    "analizar_dataframe(fire_nrt_V1_96617)"
   ]
  },
  {
   "cell_type": "markdown",
   "id": "d6d67962-f483-4a1d-b325-39c930984fff",
   "metadata": {},
   "source": [
    "# Parte Final Evidencia 2"
   ]
  },
  {
   "cell_type": "markdown",
   "id": "9e9ea4e1-1e6d-4f8d-87f9-b6befa126bd1",
   "metadata": {},
   "source": [
    "## Declaración Función Visualización Gráfica"
   ]
  },
  {
   "cell_type": "code",
   "execution_count": 65,
   "id": "5760b9a6-06b1-42be-a7eb-a83020307b41",
   "metadata": {
    "jupyter": {
     "source_hidden": true
    }
   },
   "outputs": [],
   "source": [
    "# 1. Función para graficar valores nulos por columna\n",
    "graficar_nulos <- function(df) {\n",
    "  nulos <- colSums(is.na(df))\n",
    "  datos_nulos <- data.frame(Columna = names(nulos), Nulos = as.numeric(nulos))\n",
    "  \n",
    "  ggplot(datos_nulos, aes(x = reorder(Columna, -Nulos), y = Nulos)) +\n",
    "    geom_bar(stat = \"identity\", fill = \"tomato\") +\n",
    "    labs(title = \"Valores nulos por columna\", x = \"Columnas\", y = \"Cantidad de nulos\") +\n",
    "    theme(axis.text.x = element_text(angle = 45, hjust = 1))\n",
    "}\n",
    "\n",
    "# 2. Función para graficar valores máximos y mínimos\n",
    "graficar_max_min <- function(df) {\n",
    "  maximos <- sapply(df, function(col) if(is.numeric(col)) max(col, na.rm = TRUE) else NA)\n",
    "  minimos <- sapply(df, function(col) if(is.numeric(col)) min(col, na.rm = TRUE) else NA)\n",
    "  \n",
    "  datos_extremos <- data.frame(\n",
    "    Columna = names(df),\n",
    "    Maximo = as.numeric(maximos),\n",
    "    Minimo = as.numeric(minimos)\n",
    "  )\n",
    "  \n",
    "  datos_extremos <- datos_extremos[!is.na(datos_extremos$Maximo), ]\n",
    "  \n",
    "  ggplot(datos_extremos, aes(x = reorder(Columna, Maximo))) +\n",
    "    geom_segment(aes(xend = Columna, y = Minimo, yend = Maximo), color = \"gray\") +\n",
    "    geom_point(aes(y = Maximo), color = \"red\", size = 3) +\n",
    "    geom_point(aes(y = Minimo), color = \"blue\", size = 3) +\n",
    "    labs(title = \"Valores máximos (rojo) y mínimos (azul) por columna\", \n",
    "         x = \"Columnas\", y = \"Valor\") +\n",
    "    coord_flip() +\n",
    "    theme_minimal()\n",
    "}\n",
    "\n",
    "# 3. Función para graficar desviaciones estándar\n",
    "graficar_desviaciones <- function(df) {\n",
    "  desviaciones <- sapply(df, function(col) if(is.numeric(col)) sd(col, na.rm = TRUE) else NA)\n",
    "  datos_desviaciones <- data.frame(Columna = names(desviaciones), \n",
    "                                  Desviacion = as.numeric(desviaciones))\n",
    "  \n",
    "  datos_desviaciones <- datos_desviaciones[!is.na(datos_desviaciones$Desviacion), ]\n",
    "  \n",
    "  ggplot(datos_desviaciones, aes(x = reorder(Columna, -Desviacion), y = Desviacion)) +\n",
    "    geom_bar(stat = \"identity\", fill = \"darkgreen\") +\n",
    "    labs(title = \"Desviación estándar por columna numérica\", \n",
    "         x = \"Columnas\", y = \"Desviación estándar\") +\n",
    "    theme(axis.text.x = element_text(angle = 45, hjust = 1))\n",
    "}\n",
    "\n",
    "# 4. Función para graficar valores atípicos\n",
    "graficar_atipicos <- function(df) {\n",
    "  detectar_outliers <- function(col) {\n",
    "    if (!is.numeric(col)) return(NA)\n",
    "    Q1 <- quantile(col, 0.25, na.rm = TRUE)\n",
    "    Q3 <- quantile(col, 0.75, na.rm = TRUE)\n",
    "    IQR_val <- Q3 - Q1\n",
    "    outliers <- which(col < (Q1 - 1.5 * IQR_val) | col > (Q3 + 1.5 * IQR_val))\n",
    "    return(length(outliers))\n",
    "  }\n",
    "  \n",
    "  atipicos <- sapply(df, detectar_outliers)\n",
    "  datos_atipicos <- data.frame(Columna = names(atipicos), \n",
    "                              Atipicos = as.numeric(atipicos))\n",
    "  \n",
    "  datos_atipicos <- datos_atipicos[!is.na(datos_atipicos$Atipicos), ]\n",
    "  \n",
    "  ggplot(datos_atipicos, aes(x = reorder(Columna, -Atipicos), y = Atipicos)) +\n",
    "    geom_bar(stat = \"identity\", fill = \"purple\") +\n",
    "    labs(title = \"Valores atípicos por columna numérica\", \n",
    "         x = \"Columnas\", y = \"Cantidad de atípicos\") +\n",
    "    theme(axis.text.x = element_text(angle = 45, hjust = 1))\n",
    "}\n",
    "\n",
    "# Función principal que genera todos los gráficos\n",
    "generar_graficos_analisis <- function(df) {\n",
    "  plot_list <- list(\n",
    "    graficar_nulos(df),\n",
    "    graficar_max_min(df),\n",
    "    graficar_desviaciones(df),\n",
    "    graficar_atipicos(df)\n",
    "  )\n",
    "  \n",
    "  grid.arrange(grobs = plot_list, ncol = 2)\n",
    "}"
   ]
  },
  {
   "cell_type": "markdown",
   "id": "8ce5b13b-0059-4921-b2c4-e0dbb9cd9c8e",
   "metadata": {},
   "source": [
    "## Resultado de Analisis de Datos"
   ]
  },
  {
   "cell_type": "code",
   "execution_count": 66,
   "id": "6577173e-f1fc-4f90-90c9-dd5a180b299f",
   "metadata": {},
   "outputs": [
    {
     "name": "stdout",
     "output_type": "stream",
     "text": [
      "== Análisis Tabla Fire NRT V1 96617 ==\n",
      "\n",
      " a. Elementos nulos por columna:\n",
      "  latitude  longitude bright_ti4       scan      track   acq_date   acq_time \n",
      "         0          0          0          0          0          0          0 \n",
      " satellite instrument confidence    version bright_ti5        frp   daynight \n",
      "         0          0          0          0          0          0          0 \n",
      "\n",
      " b. Valores máximos por columna numérica:\n",
      "  latitude  longitude bright_ti4       scan      track   acq_date   acq_time \n",
      "   -9.3965   153.4522   367.0000     0.8000     0.7800         NA  1824.0000 \n",
      " satellite instrument confidence    version bright_ti5        frp   daynight \n",
      "        NA         NA         NA         NA   380.0000 10717.2000         NA \n",
      "\n",
      " b_1. Valores mínimos por columna numérica:\n",
      "  latitude  longitude bright_ti4       scan      track   acq_date   acq_time \n",
      " -43.21232  113.44701  208.00000    0.32000    0.36000         NA  224.00000 \n",
      " satellite instrument confidence    version bright_ti5        frp   daynight \n",
      "        NA         NA         NA         NA  150.00000    0.00000         NA \n",
      "\n",
      " c. Desviación estándar por columna numérica:\n",
      "    latitude    longitude   bright_ti4         scan        track     acq_date \n",
      "  8.00822264  10.98603834  21.98845593   0.08981134   0.11879171           NA \n",
      "    acq_time    satellite   instrument   confidence      version   bright_ti5 \n",
      "555.54811490           NA           NA           NA           NA  14.72459965 \n",
      "         frp     daynight \n",
      " 45.58439605           NA \n",
      "\n",
      " d. Cantidad de valores atípicos por columna numérica (basado en IQR):\n",
      "  latitude  longitude bright_ti4       scan      track   acq_date   acq_time \n",
      "         0          0        640      24926          0         NA          0 \n",
      " satellite instrument confidence    version bright_ti5        frp   daynight \n",
      "        NA         NA         NA         NA      22203     104169         NA \n"
     ]
    }
   ],
   "source": [
    "analizar_dataframe(fire_nrt_V1_96617)"
   ]
  },
  {
   "cell_type": "markdown",
   "id": "a3cf10ff-cf71-47d8-a9d6-caed176e932e",
   "metadata": {},
   "source": [
    "## Generación de Todos los Gráficos"
   ]
  },
  {
   "cell_type": "code",
   "execution_count": 67,
   "id": "347142bc-a3d5-4520-8b96-a3a3b861ba9c",
   "metadata": {},
   "outputs": [
    {
     "data": {
      "image/png": "[encoded data removed]",
      "text/plain": [
       "plot without title"
      ]
     },
     "metadata": {},
     "output_type": "display_data"
    }
   ],
   "source": [
    "generar_graficos_analisis(fire_nrt_V1_96617)"
   ]
  }
 ],
 "metadata": {
  "kernelspec": {
   "display_name": "R",
   "language": "R",
   "name": "ir"
  },
  "language_info": {
   "codemirror_mode": "r",
   "file_extension": ".r",
   "mimetype": "text/x-r-source",
   "name": "R",
   "pygments_lexer": "r",
   "version": "3.6.1"
  }
 },
 "nbformat": 4,
 "nbformat_minor": 5
}
